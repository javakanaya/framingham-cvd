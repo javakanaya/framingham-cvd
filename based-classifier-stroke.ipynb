{
 "cells": [
  {
   "cell_type": "markdown",
   "id": "fde6f38ed6991cf8",
   "metadata": {
    "collapsed": false
   },
   "source": [
    "# Import Libraries"
   ]
  },
  {
   "cell_type": "code",
   "execution_count": 1,
   "id": "initial_id",
   "metadata": {
    "collapsed": true,
    "ExecuteTime": {
     "end_time": "2024-06-27T15:25:06.698295Z",
     "start_time": "2024-06-27T15:25:05.850214Z"
    }
   },
   "outputs": [],
   "source": [
    "import pandas as pd\n",
    "from sklearn.model_selection import train_test_split\n",
    "import seaborn as sns\n",
    "import matplotlib.pyplot as plt\n",
    "from lazypredict.Supervised import LazyClassifier\n",
    "from sklearn.preprocessing import StandardScaler\n",
    "from sklearn.tree import DecisionTreeClassifier\n",
    "from sklearn.metrics import classification_report, confusion_matrix\n",
    "from sklearn.ensemble import RandomForestClassifier\n",
    "from sklearn.svm import SVC\n",
    "from sklearn.neighbors import KNeighborsClassifier\n",
    "from xgboost import XGBClassifier"
   ]
  },
  {
   "cell_type": "markdown",
   "id": "8fb10a87ca369896",
   "metadata": {
    "collapsed": false
   },
   "source": [
    "# Import Dataset"
   ]
  },
  {
   "cell_type": "code",
   "execution_count": 2,
   "id": "2c5d9183ac35ebb7",
   "metadata": {
    "collapsed": false,
    "ExecuteTime": {
     "end_time": "2024-06-27T15:25:06.717409Z",
     "start_time": "2024-06-27T15:25:06.697704Z"
    }
   },
   "outputs": [],
   "source": [
    "# fetch dataset \n",
    "raw_df = pd.read_csv('dataset/Framingham Dataset.csv')"
   ]
  },
  {
   "cell_type": "code",
   "execution_count": 3,
   "id": "ae6f53d0ed40fadb",
   "metadata": {
    "collapsed": false,
    "ExecuteTime": {
     "end_time": "2024-06-27T15:25:06.732016Z",
     "start_time": "2024-06-27T15:25:06.720962Z"
    }
   },
   "outputs": [
    {
     "data": {
      "text/plain": "        RANDID  SEX  TOTCHOL  AGE  SYSBP  DIABP  CURSMOKE  CIGPDAY   BMI  \\\n0         2448    1   195.00   39 106.00  70.00         0     0.00 26.97   \n1         2448    1   209.00   52 121.00  66.00         0     0.00   NaN   \n2         6238    2   250.00   46 121.00  81.00         0     0.00 28.73   \n3         6238    2   260.00   52 105.00  69.50         0     0.00 29.43   \n4         6238    2   237.00   58 108.00  66.00         0     0.00 28.50   \n...        ...  ...      ...  ...    ...    ...       ...      ...   ...   \n11622  9998212    1   173.00   46 126.00  82.00         0     0.00 19.17   \n11623  9998212    1   153.00   52 143.00  89.00         0     0.00 25.74   \n11624  9999312    2   196.00   39 133.00  86.00         1    30.00 20.91   \n11625  9999312    2   240.00   46 138.00  79.00         1    20.00 26.39   \n11626  9999312    2      NaN   50 147.00  96.00         1    10.00 24.19   \n\n       DIABETES  ...  CVD  HYPERTEN  TIMEAP  TIMEMI  TIMEMIFC  TIMECHD  \\\n0             0  ...    1         0    8766    6438      6438     6438   \n1             0  ...    1         0    8766    6438      6438     6438   \n2             0  ...    0         0    8766    8766      8766     8766   \n3             0  ...    0         0    8766    8766      8766     8766   \n4             0  ...    0         0    8766    8766      8766     8766   \n...         ...  ...  ...       ...     ...     ...       ...      ...   \n11622         0  ...    0         1    8766    8766      8766     8766   \n11623         0  ...    0         1    8766    8766      8766     8766   \n11624         0  ...    0         1    8766    8766      8766     8766   \n11625         0  ...    0         1    8766    8766      8766     8766   \n11626         0  ...    0         1    8766    8766      8766     8766   \n\n       TIMESTRK  TIMECVD  TIMEDTH  TIMEHYP  \n0          8766     6438     8766     8766  \n1          8766     6438     8766     8766  \n2          8766     8766     8766     8766  \n3          8766     8766     8766     8766  \n4          8766     8766     8766     8766  \n...         ...      ...      ...      ...  \n11622      8766     8766     8766        0  \n11623      8766     8766     8766        0  \n11624      8766     8766     8766     4201  \n11625      8766     8766     8766     4201  \n11626      8766     8766     8766     4201  \n\n[11627 rows x 39 columns]",
      "text/html": "<div>\n<style scoped>\n    .dataframe tbody tr th:only-of-type {\n        vertical-align: middle;\n    }\n\n    .dataframe tbody tr th {\n        vertical-align: top;\n    }\n\n    .dataframe thead th {\n        text-align: right;\n    }\n</style>\n<table border=\"1\" class=\"dataframe\">\n  <thead>\n    <tr style=\"text-align: right;\">\n      <th></th>\n      <th>RANDID</th>\n      <th>SEX</th>\n      <th>TOTCHOL</th>\n      <th>AGE</th>\n      <th>SYSBP</th>\n      <th>DIABP</th>\n      <th>CURSMOKE</th>\n      <th>CIGPDAY</th>\n      <th>BMI</th>\n      <th>DIABETES</th>\n      <th>...</th>\n      <th>CVD</th>\n      <th>HYPERTEN</th>\n      <th>TIMEAP</th>\n      <th>TIMEMI</th>\n      <th>TIMEMIFC</th>\n      <th>TIMECHD</th>\n      <th>TIMESTRK</th>\n      <th>TIMECVD</th>\n      <th>TIMEDTH</th>\n      <th>TIMEHYP</th>\n    </tr>\n  </thead>\n  <tbody>\n    <tr>\n      <th>0</th>\n      <td>2448</td>\n      <td>1</td>\n      <td>195.00</td>\n      <td>39</td>\n      <td>106.00</td>\n      <td>70.00</td>\n      <td>0</td>\n      <td>0.00</td>\n      <td>26.97</td>\n      <td>0</td>\n      <td>...</td>\n      <td>1</td>\n      <td>0</td>\n      <td>8766</td>\n      <td>6438</td>\n      <td>6438</td>\n      <td>6438</td>\n      <td>8766</td>\n      <td>6438</td>\n      <td>8766</td>\n      <td>8766</td>\n    </tr>\n    <tr>\n      <th>1</th>\n      <td>2448</td>\n      <td>1</td>\n      <td>209.00</td>\n      <td>52</td>\n      <td>121.00</td>\n      <td>66.00</td>\n      <td>0</td>\n      <td>0.00</td>\n      <td>NaN</td>\n      <td>0</td>\n      <td>...</td>\n      <td>1</td>\n      <td>0</td>\n      <td>8766</td>\n      <td>6438</td>\n      <td>6438</td>\n      <td>6438</td>\n      <td>8766</td>\n      <td>6438</td>\n      <td>8766</td>\n      <td>8766</td>\n    </tr>\n    <tr>\n      <th>2</th>\n      <td>6238</td>\n      <td>2</td>\n      <td>250.00</td>\n      <td>46</td>\n      <td>121.00</td>\n      <td>81.00</td>\n      <td>0</td>\n      <td>0.00</td>\n      <td>28.73</td>\n      <td>0</td>\n      <td>...</td>\n      <td>0</td>\n      <td>0</td>\n      <td>8766</td>\n      <td>8766</td>\n      <td>8766</td>\n      <td>8766</td>\n      <td>8766</td>\n      <td>8766</td>\n      <td>8766</td>\n      <td>8766</td>\n    </tr>\n    <tr>\n      <th>3</th>\n      <td>6238</td>\n      <td>2</td>\n      <td>260.00</td>\n      <td>52</td>\n      <td>105.00</td>\n      <td>69.50</td>\n      <td>0</td>\n      <td>0.00</td>\n      <td>29.43</td>\n      <td>0</td>\n      <td>...</td>\n      <td>0</td>\n      <td>0</td>\n      <td>8766</td>\n      <td>8766</td>\n      <td>8766</td>\n      <td>8766</td>\n      <td>8766</td>\n      <td>8766</td>\n      <td>8766</td>\n      <td>8766</td>\n    </tr>\n    <tr>\n      <th>4</th>\n      <td>6238</td>\n      <td>2</td>\n      <td>237.00</td>\n      <td>58</td>\n      <td>108.00</td>\n      <td>66.00</td>\n      <td>0</td>\n      <td>0.00</td>\n      <td>28.50</td>\n      <td>0</td>\n      <td>...</td>\n      <td>0</td>\n      <td>0</td>\n      <td>8766</td>\n      <td>8766</td>\n      <td>8766</td>\n      <td>8766</td>\n      <td>8766</td>\n      <td>8766</td>\n      <td>8766</td>\n      <td>8766</td>\n    </tr>\n    <tr>\n      <th>...</th>\n      <td>...</td>\n      <td>...</td>\n      <td>...</td>\n      <td>...</td>\n      <td>...</td>\n      <td>...</td>\n      <td>...</td>\n      <td>...</td>\n      <td>...</td>\n      <td>...</td>\n      <td>...</td>\n      <td>...</td>\n      <td>...</td>\n      <td>...</td>\n      <td>...</td>\n      <td>...</td>\n      <td>...</td>\n      <td>...</td>\n      <td>...</td>\n      <td>...</td>\n      <td>...</td>\n    </tr>\n    <tr>\n      <th>11622</th>\n      <td>9998212</td>\n      <td>1</td>\n      <td>173.00</td>\n      <td>46</td>\n      <td>126.00</td>\n      <td>82.00</td>\n      <td>0</td>\n      <td>0.00</td>\n      <td>19.17</td>\n      <td>0</td>\n      <td>...</td>\n      <td>0</td>\n      <td>1</td>\n      <td>8766</td>\n      <td>8766</td>\n      <td>8766</td>\n      <td>8766</td>\n      <td>8766</td>\n      <td>8766</td>\n      <td>8766</td>\n      <td>0</td>\n    </tr>\n    <tr>\n      <th>11623</th>\n      <td>9998212</td>\n      <td>1</td>\n      <td>153.00</td>\n      <td>52</td>\n      <td>143.00</td>\n      <td>89.00</td>\n      <td>0</td>\n      <td>0.00</td>\n      <td>25.74</td>\n      <td>0</td>\n      <td>...</td>\n      <td>0</td>\n      <td>1</td>\n      <td>8766</td>\n      <td>8766</td>\n      <td>8766</td>\n      <td>8766</td>\n      <td>8766</td>\n      <td>8766</td>\n      <td>8766</td>\n      <td>0</td>\n    </tr>\n    <tr>\n      <th>11624</th>\n      <td>9999312</td>\n      <td>2</td>\n      <td>196.00</td>\n      <td>39</td>\n      <td>133.00</td>\n      <td>86.00</td>\n      <td>1</td>\n      <td>30.00</td>\n      <td>20.91</td>\n      <td>0</td>\n      <td>...</td>\n      <td>0</td>\n      <td>1</td>\n      <td>8766</td>\n      <td>8766</td>\n      <td>8766</td>\n      <td>8766</td>\n      <td>8766</td>\n      <td>8766</td>\n      <td>8766</td>\n      <td>4201</td>\n    </tr>\n    <tr>\n      <th>11625</th>\n      <td>9999312</td>\n      <td>2</td>\n      <td>240.00</td>\n      <td>46</td>\n      <td>138.00</td>\n      <td>79.00</td>\n      <td>1</td>\n      <td>20.00</td>\n      <td>26.39</td>\n      <td>0</td>\n      <td>...</td>\n      <td>0</td>\n      <td>1</td>\n      <td>8766</td>\n      <td>8766</td>\n      <td>8766</td>\n      <td>8766</td>\n      <td>8766</td>\n      <td>8766</td>\n      <td>8766</td>\n      <td>4201</td>\n    </tr>\n    <tr>\n      <th>11626</th>\n      <td>9999312</td>\n      <td>2</td>\n      <td>NaN</td>\n      <td>50</td>\n      <td>147.00</td>\n      <td>96.00</td>\n      <td>1</td>\n      <td>10.00</td>\n      <td>24.19</td>\n      <td>0</td>\n      <td>...</td>\n      <td>0</td>\n      <td>1</td>\n      <td>8766</td>\n      <td>8766</td>\n      <td>8766</td>\n      <td>8766</td>\n      <td>8766</td>\n      <td>8766</td>\n      <td>8766</td>\n      <td>4201</td>\n    </tr>\n  </tbody>\n</table>\n<p>11627 rows × 39 columns</p>\n</div>"
     },
     "execution_count": 3,
     "metadata": {},
     "output_type": "execute_result"
    }
   ],
   "source": [
    "raw_df"
   ]
  },
  {
   "cell_type": "markdown",
   "id": "2582fdbb255c3adc",
   "metadata": {
    "collapsed": false
   },
   "source": [
    "# EDA"
   ]
  },
  {
   "cell_type": "code",
   "execution_count": 4,
   "id": "70604c551ae57654",
   "metadata": {
    "collapsed": false,
    "ExecuteTime": {
     "end_time": "2024-06-27T15:25:06.740828Z",
     "start_time": "2024-06-27T15:25:06.733151Z"
    }
   },
   "outputs": [
    {
     "name": "stdout",
     "output_type": "stream",
     "text": [
      "<class 'pandas.core.frame.DataFrame'>\n",
      "RangeIndex: 11627 entries, 0 to 11626\n",
      "Data columns (total 39 columns):\n",
      " #   Column    Non-Null Count  Dtype  \n",
      "---  ------    --------------  -----  \n",
      " 0   RANDID    11627 non-null  int64  \n",
      " 1   SEX       11627 non-null  int64  \n",
      " 2   TOTCHOL   11218 non-null  float64\n",
      " 3   AGE       11627 non-null  int64  \n",
      " 4   SYSBP     11627 non-null  float64\n",
      " 5   DIABP     11627 non-null  float64\n",
      " 6   CURSMOKE  11627 non-null  int64  \n",
      " 7   CIGPDAY   11548 non-null  float64\n",
      " 8   BMI       11575 non-null  float64\n",
      " 9   DIABETES  11627 non-null  int64  \n",
      " 10  BPMEDS    11034 non-null  float64\n",
      " 11  HEARTRTE  11621 non-null  float64\n",
      " 12  GLUCOSE   10187 non-null  float64\n",
      " 13  educ      11332 non-null  float64\n",
      " 14  PREVCHD   11627 non-null  int64  \n",
      " 15  PREVAP    11627 non-null  int64  \n",
      " 16  PREVMI    11627 non-null  int64  \n",
      " 17  PREVSTRK  11627 non-null  int64  \n",
      " 18  PREVHYP   11627 non-null  int64  \n",
      " 19  TIME      11627 non-null  int64  \n",
      " 20  PERIOD    11627 non-null  int64  \n",
      " 21  HDLC      3027 non-null   float64\n",
      " 22  LDLC      3026 non-null   float64\n",
      " 23  DEATH     11627 non-null  int64  \n",
      " 24  ANGINA    11627 non-null  int64  \n",
      " 25  HOSPMI    11627 non-null  int64  \n",
      " 26  MI_FCHD   11627 non-null  int64  \n",
      " 27  ANYCHD    11627 non-null  int64  \n",
      " 28  STROKE    11627 non-null  int64  \n",
      " 29  CVD       11627 non-null  int64  \n",
      " 30  HYPERTEN  11627 non-null  int64  \n",
      " 31  TIMEAP    11627 non-null  int64  \n",
      " 32  TIMEMI    11627 non-null  int64  \n",
      " 33  TIMEMIFC  11627 non-null  int64  \n",
      " 34  TIMECHD   11627 non-null  int64  \n",
      " 35  TIMESTRK  11627 non-null  int64  \n",
      " 36  TIMECVD   11627 non-null  int64  \n",
      " 37  TIMEDTH   11627 non-null  int64  \n",
      " 38  TIMEHYP   11627 non-null  int64  \n",
      "dtypes: float64(11), int64(28)\n",
      "memory usage: 3.5 MB\n"
     ]
    }
   ],
   "source": [
    "raw_df.info()"
   ]
  },
  {
   "cell_type": "code",
   "execution_count": 5,
   "id": "90eb658d5bc81fb4",
   "metadata": {
    "collapsed": false,
    "ExecuteTime": {
     "end_time": "2024-06-27T15:25:06.744278Z",
     "start_time": "2024-06-27T15:25:06.741521Z"
    }
   },
   "outputs": [
    {
     "name": "stdout",
     "output_type": "stream",
     "text": [
      "Categorical: []\n",
      "Numerical: ['RANDID', 'SEX', 'TOTCHOL', 'AGE', 'SYSBP', 'DIABP', 'CURSMOKE', 'CIGPDAY', 'BMI', 'DIABETES', 'BPMEDS', 'HEARTRTE', 'GLUCOSE', 'educ', 'PREVCHD', 'PREVAP', 'PREVMI', 'PREVSTRK', 'PREVHYP', 'TIME', 'PERIOD', 'HDLC', 'LDLC', 'DEATH', 'ANGINA', 'HOSPMI', 'MI_FCHD', 'ANYCHD', 'STROKE', 'CVD', 'HYPERTEN', 'TIMEAP', 'TIMEMI', 'TIMEMIFC', 'TIMECHD', 'TIMESTRK', 'TIMECVD', 'TIMEDTH', 'TIMEHYP']\n"
     ]
    }
   ],
   "source": [
    "# Initialize empty lists for categorical, numerical, and binary features\n",
    "categorical = []\n",
    "numerical = []\n",
    "\n",
    "# Iterate through columns and append to appropriate list\n",
    "for column in raw_df.columns:\n",
    "    if raw_df[column].dtype == 'object':\n",
    "        categorical.append(column)\n",
    "    elif raw_df[column].dtype in ['float64', 'int64']:\n",
    "        numerical.append(column)\n",
    "        \n",
    "print('Categorical:', categorical)\n",
    "print('Numerical:', numerical)\n"
   ]
  },
  {
   "cell_type": "code",
   "execution_count": 6,
   "id": "85d77dcfbe4d9d5a",
   "metadata": {
    "collapsed": false,
    "ExecuteTime": {
     "end_time": "2024-06-27T15:25:06.745758Z",
     "start_time": "2024-06-27T15:25:06.744559Z"
    }
   },
   "outputs": [],
   "source": [
    "# # Calculate number of rows and columns for the grid\n",
    "# num_cols = 3  # Number of columns in the grid\n",
    "# num_rows_numerical = (len(numerical) + num_cols - 1) // num_cols  # Calculate number of rows needed for numerical features\n",
    "# num_rows_categorical = (len(categorical) + num_cols - 1) // num_cols  # Calculate number of rows needed for categorical features\n",
    "\n",
    "# # Plot numerical features in a grid\n",
    "# plt.figure(figsize=(20, 4 * num_rows_numerical))  # Adjust height based on number of rows\n",
    "\n",
    "# for i, feature in enumerate(numerical):\n",
    "#     plt.subplot(num_rows_numerical, num_cols, i + 1)\n",
    "#     sns.histplot(data=raw_df, x=feature, bins=15, hue='CVD')\n",
    "#     plt.title(f'Histogram of {feature}')\n",
    "#     plt.xlabel(feature)\n",
    "#     plt.ylabel('Frequency')\n",
    "\n",
    "# plt.tight_layout()\n",
    "# plt.show()\n",
    "\n",
    "\n",
    "# # Plot categorical features in a grid\n",
    "# plt.figure(figsize=(20, 4 * num_rows_categorical))  # Adjust height based on number of rows\n",
    "\n",
    "# for i, feature in enumerate(categorical):\n",
    "#     plt.subplot(num_rows_categorical, num_cols, i + 1)\n",
    "#     sns.countplot(y=feature, data=raw_df, hue='CVD')\n",
    "#     plt.title(f'Bar Plot of {feature}')\n",
    "#     plt.xlabel('Count')\n",
    "#     plt.ylabel(feature)\n",
    "\n",
    "# plt.tight_layout()\n",
    "# plt.show()"
   ]
  },
  {
   "cell_type": "code",
   "execution_count": 7,
   "id": "970e2cddc2db4d2d",
   "metadata": {
    "collapsed": false,
    "ExecuteTime": {
     "end_time": "2024-06-27T15:25:06.749547Z",
     "start_time": "2024-06-27T15:25:06.746935Z"
    }
   },
   "outputs": [],
   "source": [
    "# # Get value counts for all columns\n",
    "# value_counts = {column: raw_df[column].value_counts() for column in raw_df.columns}\n",
    "\n",
    "# # Print value counts for all columns\n",
    "# for column, counts in value_counts.items():\n",
    "#     print(f\"Value counts for column '{column}':\")\n",
    "#     print(counts)\n",
    "#     print()"
   ]
  },
  {
   "cell_type": "markdown",
   "id": "94f93558350e79e3",
   "metadata": {
    "collapsed": false
   },
   "source": [
    "# Preprocessing\n",
    "## Handling Missing Values"
   ]
  },
  {
   "cell_type": "code",
   "execution_count": 8,
   "id": "6a3e2802b6df6f6f",
   "metadata": {
    "collapsed": false,
    "ExecuteTime": {
     "end_time": "2024-06-27T15:25:06.751182Z",
     "start_time": "2024-06-27T15:25:06.749020Z"
    }
   },
   "outputs": [],
   "source": [
    "# counter percentage missing value in dataset (Function)\n",
    "def missing_value(data_frame):\n",
    "    total = data_frame.isnull().sum().sort_values(ascending=False)\n",
    "    percentage = (data_frame.isnull().sum() / data_frame.isnull().count() * 100).sort_values(ascending=False)\n",
    "    dtypes = data_frame.dtypes\n",
    "    return pd.concat([total, percentage, dtypes], axis=1, keys=['Total', 'Percentage', 'Dtypes'])"
   ]
  },
  {
   "cell_type": "code",
   "execution_count": 9,
   "id": "d01f961011ee0db1",
   "metadata": {
    "collapsed": false,
    "ExecuteTime": {
     "end_time": "2024-06-27T15:25:06.790508Z",
     "start_time": "2024-06-27T15:25:06.751263Z"
    }
   },
   "outputs": [
    {
     "data": {
      "text/plain": "          Total  Percentage   Dtypes\nLDLC       8601       73.97  float64\nHDLC       8600       73.97  float64\nGLUCOSE    1440       12.38  float64\nBPMEDS      593        5.10  float64\nTOTCHOL     409        3.52  float64\neduc        295        2.54  float64\nCIGPDAY      79        0.68  float64\nBMI          52        0.45  float64\nHEARTRTE      6        0.05  float64\nTIMEAP        0        0.00    int64\nMI_FCHD       0        0.00    int64\nANYCHD        0        0.00    int64\nSTROKE        0        0.00    int64\nCVD           0        0.00    int64\nHYPERTEN      0        0.00    int64\nRANDID        0        0.00    int64\nTIMEMI        0        0.00    int64\nANGINA        0        0.00    int64\nTIMEMIFC      0        0.00    int64\nTIMECHD       0        0.00    int64\nTIMESTRK      0        0.00    int64\nTIMECVD       0        0.00    int64\nTIMEDTH       0        0.00    int64\nHOSPMI        0        0.00    int64\nTIME          0        0.00    int64\nDEATH         0        0.00    int64\nPERIOD        0        0.00    int64\nSEX           0        0.00    int64\nPREVHYP       0        0.00    int64\nPREVSTRK      0        0.00    int64\nPREVMI        0        0.00    int64\nPREVAP        0        0.00    int64\nPREVCHD       0        0.00    int64\nDIABETES      0        0.00    int64\nCURSMOKE      0        0.00    int64\nDIABP         0        0.00  float64\nSYSBP         0        0.00  float64\nAGE           0        0.00    int64\nTIMEHYP       0        0.00    int64",
      "text/html": "<div>\n<style scoped>\n    .dataframe tbody tr th:only-of-type {\n        vertical-align: middle;\n    }\n\n    .dataframe tbody tr th {\n        vertical-align: top;\n    }\n\n    .dataframe thead th {\n        text-align: right;\n    }\n</style>\n<table border=\"1\" class=\"dataframe\">\n  <thead>\n    <tr style=\"text-align: right;\">\n      <th></th>\n      <th>Total</th>\n      <th>Percentage</th>\n      <th>Dtypes</th>\n    </tr>\n  </thead>\n  <tbody>\n    <tr>\n      <th>LDLC</th>\n      <td>8601</td>\n      <td>73.97</td>\n      <td>float64</td>\n    </tr>\n    <tr>\n      <th>HDLC</th>\n      <td>8600</td>\n      <td>73.97</td>\n      <td>float64</td>\n    </tr>\n    <tr>\n      <th>GLUCOSE</th>\n      <td>1440</td>\n      <td>12.38</td>\n      <td>float64</td>\n    </tr>\n    <tr>\n      <th>BPMEDS</th>\n      <td>593</td>\n      <td>5.10</td>\n      <td>float64</td>\n    </tr>\n    <tr>\n      <th>TOTCHOL</th>\n      <td>409</td>\n      <td>3.52</td>\n      <td>float64</td>\n    </tr>\n    <tr>\n      <th>educ</th>\n      <td>295</td>\n      <td>2.54</td>\n      <td>float64</td>\n    </tr>\n    <tr>\n      <th>CIGPDAY</th>\n      <td>79</td>\n      <td>0.68</td>\n      <td>float64</td>\n    </tr>\n    <tr>\n      <th>BMI</th>\n      <td>52</td>\n      <td>0.45</td>\n      <td>float64</td>\n    </tr>\n    <tr>\n      <th>HEARTRTE</th>\n      <td>6</td>\n      <td>0.05</td>\n      <td>float64</td>\n    </tr>\n    <tr>\n      <th>TIMEAP</th>\n      <td>0</td>\n      <td>0.00</td>\n      <td>int64</td>\n    </tr>\n    <tr>\n      <th>MI_FCHD</th>\n      <td>0</td>\n      <td>0.00</td>\n      <td>int64</td>\n    </tr>\n    <tr>\n      <th>ANYCHD</th>\n      <td>0</td>\n      <td>0.00</td>\n      <td>int64</td>\n    </tr>\n    <tr>\n      <th>STROKE</th>\n      <td>0</td>\n      <td>0.00</td>\n      <td>int64</td>\n    </tr>\n    <tr>\n      <th>CVD</th>\n      <td>0</td>\n      <td>0.00</td>\n      <td>int64</td>\n    </tr>\n    <tr>\n      <th>HYPERTEN</th>\n      <td>0</td>\n      <td>0.00</td>\n      <td>int64</td>\n    </tr>\n    <tr>\n      <th>RANDID</th>\n      <td>0</td>\n      <td>0.00</td>\n      <td>int64</td>\n    </tr>\n    <tr>\n      <th>TIMEMI</th>\n      <td>0</td>\n      <td>0.00</td>\n      <td>int64</td>\n    </tr>\n    <tr>\n      <th>ANGINA</th>\n      <td>0</td>\n      <td>0.00</td>\n      <td>int64</td>\n    </tr>\n    <tr>\n      <th>TIMEMIFC</th>\n      <td>0</td>\n      <td>0.00</td>\n      <td>int64</td>\n    </tr>\n    <tr>\n      <th>TIMECHD</th>\n      <td>0</td>\n      <td>0.00</td>\n      <td>int64</td>\n    </tr>\n    <tr>\n      <th>TIMESTRK</th>\n      <td>0</td>\n      <td>0.00</td>\n      <td>int64</td>\n    </tr>\n    <tr>\n      <th>TIMECVD</th>\n      <td>0</td>\n      <td>0.00</td>\n      <td>int64</td>\n    </tr>\n    <tr>\n      <th>TIMEDTH</th>\n      <td>0</td>\n      <td>0.00</td>\n      <td>int64</td>\n    </tr>\n    <tr>\n      <th>HOSPMI</th>\n      <td>0</td>\n      <td>0.00</td>\n      <td>int64</td>\n    </tr>\n    <tr>\n      <th>TIME</th>\n      <td>0</td>\n      <td>0.00</td>\n      <td>int64</td>\n    </tr>\n    <tr>\n      <th>DEATH</th>\n      <td>0</td>\n      <td>0.00</td>\n      <td>int64</td>\n    </tr>\n    <tr>\n      <th>PERIOD</th>\n      <td>0</td>\n      <td>0.00</td>\n      <td>int64</td>\n    </tr>\n    <tr>\n      <th>SEX</th>\n      <td>0</td>\n      <td>0.00</td>\n      <td>int64</td>\n    </tr>\n    <tr>\n      <th>PREVHYP</th>\n      <td>0</td>\n      <td>0.00</td>\n      <td>int64</td>\n    </tr>\n    <tr>\n      <th>PREVSTRK</th>\n      <td>0</td>\n      <td>0.00</td>\n      <td>int64</td>\n    </tr>\n    <tr>\n      <th>PREVMI</th>\n      <td>0</td>\n      <td>0.00</td>\n      <td>int64</td>\n    </tr>\n    <tr>\n      <th>PREVAP</th>\n      <td>0</td>\n      <td>0.00</td>\n      <td>int64</td>\n    </tr>\n    <tr>\n      <th>PREVCHD</th>\n      <td>0</td>\n      <td>0.00</td>\n      <td>int64</td>\n    </tr>\n    <tr>\n      <th>DIABETES</th>\n      <td>0</td>\n      <td>0.00</td>\n      <td>int64</td>\n    </tr>\n    <tr>\n      <th>CURSMOKE</th>\n      <td>0</td>\n      <td>0.00</td>\n      <td>int64</td>\n    </tr>\n    <tr>\n      <th>DIABP</th>\n      <td>0</td>\n      <td>0.00</td>\n      <td>float64</td>\n    </tr>\n    <tr>\n      <th>SYSBP</th>\n      <td>0</td>\n      <td>0.00</td>\n      <td>float64</td>\n    </tr>\n    <tr>\n      <th>AGE</th>\n      <td>0</td>\n      <td>0.00</td>\n      <td>int64</td>\n    </tr>\n    <tr>\n      <th>TIMEHYP</th>\n      <td>0</td>\n      <td>0.00</td>\n      <td>int64</td>\n    </tr>\n  </tbody>\n</table>\n</div>"
     },
     "execution_count": 9,
     "metadata": {},
     "output_type": "execute_result"
    }
   ],
   "source": [
    "missing_value(raw_df)"
   ]
  },
  {
   "cell_type": "code",
   "execution_count": 10,
   "id": "d7cfbcd89330fb28",
   "metadata": {
    "collapsed": false,
    "ExecuteTime": {
     "end_time": "2024-06-27T15:25:06.814700Z",
     "start_time": "2024-06-27T15:25:06.759313Z"
    }
   },
   "outputs": [],
   "source": [
    "def impute_median(data):\n",
    "    return data.fillna(data.median())\n",
    "\n",
    "raw_df['TOTCHOL'] = raw_df['TOTCHOL'].transform(impute_median)\n",
    "raw_df['CIGPDAY'] = raw_df['CIGPDAY'].transform(impute_median)\n",
    "raw_df['BMI'] = raw_df['BMI'].transform(impute_median)\n",
    "raw_df['BPMEDS'] = raw_df['BPMEDS'].transform(impute_median)\n",
    "raw_df['HEARTRTE'] = raw_df['HEARTRTE'].transform(impute_median)\n",
    "raw_df['GLUCOSE'] = raw_df['GLUCOSE'].transform(impute_median)\n",
    "raw_df['educ'] = raw_df['educ'].transform(impute_median)"
   ]
  },
  {
   "cell_type": "code",
   "execution_count": 11,
   "id": "415e3e6907137162",
   "metadata": {
    "collapsed": false,
    "ExecuteTime": {
     "end_time": "2024-06-27T15:25:06.825620Z",
     "start_time": "2024-06-27T15:25:06.764810Z"
    }
   },
   "outputs": [
    {
     "data": {
      "text/plain": "          Total  Percentage   Dtypes\nLDLC       8601       73.97  float64\nHDLC       8600       73.97  float64\nCVD           0        0.00    int64\nDEATH         0        0.00    int64\nANGINA        0        0.00    int64\nHOSPMI        0        0.00    int64\nMI_FCHD       0        0.00    int64\nANYCHD        0        0.00    int64\nSTROKE        0        0.00    int64\nRANDID        0        0.00    int64\nPERIOD        0        0.00    int64\nTIMEAP        0        0.00    int64\nTIMEMI        0        0.00    int64\nTIMEMIFC      0        0.00    int64\nTIMECHD       0        0.00    int64\nTIMESTRK      0        0.00    int64\nTIMECVD       0        0.00    int64\nTIMEDTH       0        0.00    int64\nHYPERTEN      0        0.00    int64\nTIME          0        0.00    int64\nSEX           0        0.00    int64\nDIABETES      0        0.00    int64\nTOTCHOL       0        0.00  float64\nAGE           0        0.00    int64\nSYSBP         0        0.00  float64\nDIABP         0        0.00  float64\nCURSMOKE      0        0.00    int64\nCIGPDAY       0        0.00  float64\nBMI           0        0.00  float64\nBPMEDS        0        0.00  float64\nPREVHYP       0        0.00    int64\nHEARTRTE      0        0.00  float64\nGLUCOSE       0        0.00  float64\neduc          0        0.00  float64\nPREVCHD       0        0.00    int64\nPREVAP        0        0.00    int64\nPREVMI        0        0.00    int64\nPREVSTRK      0        0.00    int64\nTIMEHYP       0        0.00    int64",
      "text/html": "<div>\n<style scoped>\n    .dataframe tbody tr th:only-of-type {\n        vertical-align: middle;\n    }\n\n    .dataframe tbody tr th {\n        vertical-align: top;\n    }\n\n    .dataframe thead th {\n        text-align: right;\n    }\n</style>\n<table border=\"1\" class=\"dataframe\">\n  <thead>\n    <tr style=\"text-align: right;\">\n      <th></th>\n      <th>Total</th>\n      <th>Percentage</th>\n      <th>Dtypes</th>\n    </tr>\n  </thead>\n  <tbody>\n    <tr>\n      <th>LDLC</th>\n      <td>8601</td>\n      <td>73.97</td>\n      <td>float64</td>\n    </tr>\n    <tr>\n      <th>HDLC</th>\n      <td>8600</td>\n      <td>73.97</td>\n      <td>float64</td>\n    </tr>\n    <tr>\n      <th>CVD</th>\n      <td>0</td>\n      <td>0.00</td>\n      <td>int64</td>\n    </tr>\n    <tr>\n      <th>DEATH</th>\n      <td>0</td>\n      <td>0.00</td>\n      <td>int64</td>\n    </tr>\n    <tr>\n      <th>ANGINA</th>\n      <td>0</td>\n      <td>0.00</td>\n      <td>int64</td>\n    </tr>\n    <tr>\n      <th>HOSPMI</th>\n      <td>0</td>\n      <td>0.00</td>\n      <td>int64</td>\n    </tr>\n    <tr>\n      <th>MI_FCHD</th>\n      <td>0</td>\n      <td>0.00</td>\n      <td>int64</td>\n    </tr>\n    <tr>\n      <th>ANYCHD</th>\n      <td>0</td>\n      <td>0.00</td>\n      <td>int64</td>\n    </tr>\n    <tr>\n      <th>STROKE</th>\n      <td>0</td>\n      <td>0.00</td>\n      <td>int64</td>\n    </tr>\n    <tr>\n      <th>RANDID</th>\n      <td>0</td>\n      <td>0.00</td>\n      <td>int64</td>\n    </tr>\n    <tr>\n      <th>PERIOD</th>\n      <td>0</td>\n      <td>0.00</td>\n      <td>int64</td>\n    </tr>\n    <tr>\n      <th>TIMEAP</th>\n      <td>0</td>\n      <td>0.00</td>\n      <td>int64</td>\n    </tr>\n    <tr>\n      <th>TIMEMI</th>\n      <td>0</td>\n      <td>0.00</td>\n      <td>int64</td>\n    </tr>\n    <tr>\n      <th>TIMEMIFC</th>\n      <td>0</td>\n      <td>0.00</td>\n      <td>int64</td>\n    </tr>\n    <tr>\n      <th>TIMECHD</th>\n      <td>0</td>\n      <td>0.00</td>\n      <td>int64</td>\n    </tr>\n    <tr>\n      <th>TIMESTRK</th>\n      <td>0</td>\n      <td>0.00</td>\n      <td>int64</td>\n    </tr>\n    <tr>\n      <th>TIMECVD</th>\n      <td>0</td>\n      <td>0.00</td>\n      <td>int64</td>\n    </tr>\n    <tr>\n      <th>TIMEDTH</th>\n      <td>0</td>\n      <td>0.00</td>\n      <td>int64</td>\n    </tr>\n    <tr>\n      <th>HYPERTEN</th>\n      <td>0</td>\n      <td>0.00</td>\n      <td>int64</td>\n    </tr>\n    <tr>\n      <th>TIME</th>\n      <td>0</td>\n      <td>0.00</td>\n      <td>int64</td>\n    </tr>\n    <tr>\n      <th>SEX</th>\n      <td>0</td>\n      <td>0.00</td>\n      <td>int64</td>\n    </tr>\n    <tr>\n      <th>DIABETES</th>\n      <td>0</td>\n      <td>0.00</td>\n      <td>int64</td>\n    </tr>\n    <tr>\n      <th>TOTCHOL</th>\n      <td>0</td>\n      <td>0.00</td>\n      <td>float64</td>\n    </tr>\n    <tr>\n      <th>AGE</th>\n      <td>0</td>\n      <td>0.00</td>\n      <td>int64</td>\n    </tr>\n    <tr>\n      <th>SYSBP</th>\n      <td>0</td>\n      <td>0.00</td>\n      <td>float64</td>\n    </tr>\n    <tr>\n      <th>DIABP</th>\n      <td>0</td>\n      <td>0.00</td>\n      <td>float64</td>\n    </tr>\n    <tr>\n      <th>CURSMOKE</th>\n      <td>0</td>\n      <td>0.00</td>\n      <td>int64</td>\n    </tr>\n    <tr>\n      <th>CIGPDAY</th>\n      <td>0</td>\n      <td>0.00</td>\n      <td>float64</td>\n    </tr>\n    <tr>\n      <th>BMI</th>\n      <td>0</td>\n      <td>0.00</td>\n      <td>float64</td>\n    </tr>\n    <tr>\n      <th>BPMEDS</th>\n      <td>0</td>\n      <td>0.00</td>\n      <td>float64</td>\n    </tr>\n    <tr>\n      <th>PREVHYP</th>\n      <td>0</td>\n      <td>0.00</td>\n      <td>int64</td>\n    </tr>\n    <tr>\n      <th>HEARTRTE</th>\n      <td>0</td>\n      <td>0.00</td>\n      <td>float64</td>\n    </tr>\n    <tr>\n      <th>GLUCOSE</th>\n      <td>0</td>\n      <td>0.00</td>\n      <td>float64</td>\n    </tr>\n    <tr>\n      <th>educ</th>\n      <td>0</td>\n      <td>0.00</td>\n      <td>float64</td>\n    </tr>\n    <tr>\n      <th>PREVCHD</th>\n      <td>0</td>\n      <td>0.00</td>\n      <td>int64</td>\n    </tr>\n    <tr>\n      <th>PREVAP</th>\n      <td>0</td>\n      <td>0.00</td>\n      <td>int64</td>\n    </tr>\n    <tr>\n      <th>PREVMI</th>\n      <td>0</td>\n      <td>0.00</td>\n      <td>int64</td>\n    </tr>\n    <tr>\n      <th>PREVSTRK</th>\n      <td>0</td>\n      <td>0.00</td>\n      <td>int64</td>\n    </tr>\n    <tr>\n      <th>TIMEHYP</th>\n      <td>0</td>\n      <td>0.00</td>\n      <td>int64</td>\n    </tr>\n  </tbody>\n</table>\n</div>"
     },
     "execution_count": 11,
     "metadata": {},
     "output_type": "execute_result"
    }
   ],
   "source": [
    "missing_value(raw_df)"
   ]
  },
  {
   "cell_type": "markdown",
   "id": "ca746d2a8eab5f93",
   "metadata": {
    "collapsed": false
   },
   "source": [
    "## Outliers"
   ]
  },
  {
   "cell_type": "code",
   "execution_count": 12,
   "id": "c0da9f4b2ef07213",
   "metadata": {
    "collapsed": false,
    "ExecuteTime": {
     "end_time": "2024-06-27T15:25:06.825765Z",
     "start_time": "2024-06-27T15:25:06.771674Z"
    }
   },
   "outputs": [],
   "source": [
    "# # Assuming `raw_df` is your dataframe and `numerical` is a list of numerical column names\n",
    "# fig, axes = plt.subplots(nrows=num_rows_numerical, ncols=num_cols, figsize=(15, 5 * num_rows_numerical))\n",
    "\n",
    "# # Flatten the axes array to make it easier to iterate over\n",
    "# axes = axes.flatten()\n",
    "\n",
    "# # Create box plots for each selected feature\n",
    "# for i, feature in enumerate(numerical):\n",
    "#     sns.boxplot(raw_df[feature], color='blue', ax=axes[i])\n",
    "#     axes[i].set_title(f'{feature} Distribution')\n",
    "#     axes[i].set_xlabel(f'Amount Spent on {feature}')\n",
    "#     axes[i].set_ylabel('Amount')\n",
    "\n",
    "# # Remove any extra subplots if there are fewer features than subplots\n",
    "# for j in range(i + 1, num_rows_numerical * num_cols):\n",
    "#     fig.delaxes(axes[j])\n",
    "\n",
    "# # Adjust layout\n",
    "# plt.tight_layout()\n",
    "# plt.show()\n"
   ]
  },
  {
   "cell_type": "code",
   "execution_count": 13,
   "id": "c36ef4c971586e6f",
   "metadata": {
    "collapsed": false,
    "ExecuteTime": {
     "end_time": "2024-06-27T15:25:06.826851Z",
     "start_time": "2024-06-27T15:25:06.774514Z"
    }
   },
   "outputs": [],
   "source": [
    "raw_df = raw_df[raw_df['CIGPDAY'] <= 40]\n",
    "raw_df = raw_df[(raw_df['DIABP'] > 40) & (raw_df['DIABP'] < 140)]\n",
    "raw_df = raw_df[(raw_df['BMI'] <= 50) & (raw_df['BMI'] >= 20)]\n",
    "raw_df = raw_df[raw_df['HEARTRTE'] <= 200]\n",
    "raw_df = raw_df[raw_df['GLUCOSE'] < 450]\n",
    "raw_df = raw_df[raw_df['TOTCHOL'] < 500]"
   ]
  },
  {
   "cell_type": "code",
   "execution_count": 14,
   "id": "f69487d90e540d3f",
   "metadata": {
    "collapsed": false,
    "ExecuteTime": {
     "end_time": "2024-06-27T15:25:06.826959Z",
     "start_time": "2024-06-27T15:25:06.781710Z"
    }
   },
   "outputs": [],
   "source": [
    "# import matplotlib.pyplot as plt\n",
    "# import seaborn as sns\n",
    "# import numpy as np\n",
    "\n",
    "# # Assuming `raw_df` is your dataframe and `numerical` is a list of numerical column names\n",
    "# fig, axes = plt.subplots(nrows=num_rows_numerical, ncols=num_cols, figsize=(15, 5 * num_rows_numerical))\n",
    "\n",
    "# # Flatten the axes array to make it easier to iterate over\n",
    "# axes = axes.flatten()\n",
    "\n",
    "# # Create box plots for each selected feature\n",
    "# for i, feature in enumerate(numerical):\n",
    "#     sns.boxplot(raw_df[feature], color='blue', ax=axes[i])\n",
    "#     axes[i].set_title(f'{feature} Distribution')\n",
    "#     axes[i].set_xlabel(f'Amount Spent on {feature}')\n",
    "#     axes[i].set_ylabel('Amount')\n",
    "\n",
    "# # Remove any extra subplots if there are fewer features than subplots\n",
    "# for j in range(i + 1, num_rows_numerical * num_cols):\n",
    "#     fig.delaxes(axes[j])\n",
    "\n",
    "# # Adjust layout\n",
    "# plt.tight_layout()\n",
    "# plt.show()\n"
   ]
  },
  {
   "cell_type": "markdown",
   "id": "4e9239b1905c1de8",
   "metadata": {
    "collapsed": false
   },
   "source": [
    "## Drop Absurd data"
   ]
  },
  {
   "cell_type": "code",
   "execution_count": 15,
   "id": "2baee6a5aae720df",
   "metadata": {
    "collapsed": false,
    "ExecuteTime": {
     "end_time": "2024-06-27T15:25:06.827035Z",
     "start_time": "2024-06-27T15:25:06.784091Z"
    }
   },
   "outputs": [],
   "source": [
    "raw_df.drop(columns=['LDLC', 'HDLC', 'RANDID'], inplace=True)"
   ]
  },
  {
   "cell_type": "code",
   "execution_count": 16,
   "id": "9d24527dcd898b97",
   "metadata": {
    "collapsed": false,
    "ExecuteTime": {
     "end_time": "2024-06-27T15:25:06.827116Z",
     "start_time": "2024-06-27T15:25:06.786826Z"
    }
   },
   "outputs": [],
   "source": [
    "filtered_df = raw_df[(raw_df['STROKE'] == 0) & (raw_df['CVD'] == 1) ]\n",
    "\n",
    "indices_to_drop = filtered_df.index\n",
    "raw_df.drop(indices_to_drop, inplace=True)"
   ]
  },
  {
   "cell_type": "code",
   "execution_count": 17,
   "id": "ce50480e7d3b6689",
   "metadata": {
    "collapsed": false,
    "ExecuteTime": {
     "end_time": "2024-06-27T15:25:06.828335Z",
     "start_time": "2024-06-27T15:25:06.790603Z"
    }
   },
   "outputs": [],
   "source": [
    "raw_df.drop(columns=['TIMEHYP', 'TIMEDTH', 'TIMESTRK', 'TIMECHD', 'TIMEMI', 'TIME', 'TIMEAP','TIMECVD', 'TIMEMIFC', 'PERIOD'], inplace=True)"
   ]
  },
  {
   "cell_type": "code",
   "execution_count": 18,
   "id": "64ed2312e1cabbef",
   "metadata": {
    "collapsed": false,
    "ExecuteTime": {
     "end_time": "2024-06-27T15:25:06.828436Z",
     "start_time": "2024-06-27T15:25:06.793141Z"
    }
   },
   "outputs": [],
   "source": [
    "raw_df.drop(columns=['CVD','ANGINA', 'ANYCHD', 'HOSPMI', 'MI_FCHD', 'DEATH'], inplace=True)"
   ]
  },
  {
   "cell_type": "markdown",
   "id": "1153ee26c897f526",
   "metadata": {
    "collapsed": false
   },
   "source": [
    "# Features Correlations"
   ]
  },
  {
   "cell_type": "code",
   "execution_count": 19,
   "id": "18e3b44cc368cc1f",
   "metadata": {
    "collapsed": false,
    "ExecuteTime": {
     "end_time": "2024-06-27T15:25:06.828616Z",
     "start_time": "2024-06-27T15:25:06.795830Z"
    }
   },
   "outputs": [],
   "source": [
    "# # Calculate correlations with 'Class_Mapped'\n",
    "# correlations = raw_df.corr()['CVD'].drop('CVD')\n",
    "\n",
    "# # Plotting the correlations with explicit hue assignment\n",
    "# plt.figure(figsize=(10, 6))\n",
    "# sns.barplot(x=correlations.index, y=correlations.values, hue=correlations.index, dodge=False, palette='viridis', legend=False)\n",
    "\n",
    "# plt.xlabel('Features')\n",
    "# plt.ylabel('Correlation with Class_Mapped')\n",
    "# plt.title('Correlation between Features and Class_Mapped')\n",
    "# plt.xticks(rotation=45)\n",
    "# plt.grid(True, axis='y', linestyle='--', alpha=0.7)\n",
    "\n",
    "# plt.tight_layout()\n",
    "# plt.show()"
   ]
  },
  {
   "cell_type": "code",
   "execution_count": 20,
   "id": "a2176545b43b2012",
   "metadata": {
    "collapsed": false,
    "ExecuteTime": {
     "end_time": "2024-06-27T15:25:06.863264Z",
     "start_time": "2024-06-27T15:25:06.801406Z"
    }
   },
   "outputs": [
    {
     "data": {
      "text/plain": "       SEX  TOTCHOL  AGE  SYSBP  DIABP  CURSMOKE  CIGPDAY   BMI  DIABETES  \\\n2        2   250.00   46 121.00  81.00         0     0.00 28.73         0   \n3        2   260.00   52 105.00  69.50         0     0.00 29.43         0   \n4        2   237.00   58 108.00  66.00         0     0.00 28.50         0   \n5        1   245.00   48 127.50  80.00         1    20.00 25.34         0   \n6        1   283.00   54 141.00  89.00         1    30.00 25.34         0   \n...    ...      ...  ...    ...    ...       ...      ...   ...       ...   \n11621    1   185.00   40 141.00  98.00         0     0.00 25.60         0   \n11623    1   153.00   52 143.00  89.00         0     0.00 25.74         0   \n11624    2   196.00   39 133.00  86.00         1    30.00 20.91         0   \n11625    2   240.00   46 138.00  79.00         1    20.00 26.39         0   \n11626    2   238.00   50 147.00  96.00         1    10.00 24.19         0   \n\n       BPMEDS  HEARTRTE  GLUCOSE  educ  PREVCHD  PREVAP  PREVMI  PREVSTRK  \\\n2        0.00     95.00    76.00  2.00        0       0       0         0   \n3        0.00     80.00    86.00  2.00        0       0       0         0   \n4        0.00     80.00    71.00  2.00        0       0       0         0   \n5        0.00     75.00    70.00  1.00        0       0       0         0   \n6        0.00     75.00    87.00  1.00        0       0       0         0   \n...       ...       ...      ...   ...      ...     ...     ...       ...   \n11621    0.00     67.00    72.00  3.00        0       0       0         0   \n11623    0.00     65.00    72.00  3.00        0       0       0         0   \n11624    0.00     85.00    80.00  3.00        0       0       0         0   \n11625    0.00     90.00    83.00  3.00        0       0       0         0   \n11626    0.00     94.00    80.00  3.00        0       0       0         0   \n\n       PREVHYP  STROKE  HYPERTEN  \n2            0       0         0  \n3            0       0         0  \n4            0       0         0  \n5            0       0         0  \n6            0       0         0  \n...        ...     ...       ...  \n11621        1       0         1  \n11623        1       0         1  \n11624        0       0         1  \n11625        0       0         1  \n11626        1       0         1  \n\n[9186 rows x 20 columns]",
      "text/html": "<div>\n<style scoped>\n    .dataframe tbody tr th:only-of-type {\n        vertical-align: middle;\n    }\n\n    .dataframe tbody tr th {\n        vertical-align: top;\n    }\n\n    .dataframe thead th {\n        text-align: right;\n    }\n</style>\n<table border=\"1\" class=\"dataframe\">\n  <thead>\n    <tr style=\"text-align: right;\">\n      <th></th>\n      <th>SEX</th>\n      <th>TOTCHOL</th>\n      <th>AGE</th>\n      <th>SYSBP</th>\n      <th>DIABP</th>\n      <th>CURSMOKE</th>\n      <th>CIGPDAY</th>\n      <th>BMI</th>\n      <th>DIABETES</th>\n      <th>BPMEDS</th>\n      <th>HEARTRTE</th>\n      <th>GLUCOSE</th>\n      <th>educ</th>\n      <th>PREVCHD</th>\n      <th>PREVAP</th>\n      <th>PREVMI</th>\n      <th>PREVSTRK</th>\n      <th>PREVHYP</th>\n      <th>STROKE</th>\n      <th>HYPERTEN</th>\n    </tr>\n  </thead>\n  <tbody>\n    <tr>\n      <th>2</th>\n      <td>2</td>\n      <td>250.00</td>\n      <td>46</td>\n      <td>121.00</td>\n      <td>81.00</td>\n      <td>0</td>\n      <td>0.00</td>\n      <td>28.73</td>\n      <td>0</td>\n      <td>0.00</td>\n      <td>95.00</td>\n      <td>76.00</td>\n      <td>2.00</td>\n      <td>0</td>\n      <td>0</td>\n      <td>0</td>\n      <td>0</td>\n      <td>0</td>\n      <td>0</td>\n      <td>0</td>\n    </tr>\n    <tr>\n      <th>3</th>\n      <td>2</td>\n      <td>260.00</td>\n      <td>52</td>\n      <td>105.00</td>\n      <td>69.50</td>\n      <td>0</td>\n      <td>0.00</td>\n      <td>29.43</td>\n      <td>0</td>\n      <td>0.00</td>\n      <td>80.00</td>\n      <td>86.00</td>\n      <td>2.00</td>\n      <td>0</td>\n      <td>0</td>\n      <td>0</td>\n      <td>0</td>\n      <td>0</td>\n      <td>0</td>\n      <td>0</td>\n    </tr>\n    <tr>\n      <th>4</th>\n      <td>2</td>\n      <td>237.00</td>\n      <td>58</td>\n      <td>108.00</td>\n      <td>66.00</td>\n      <td>0</td>\n      <td>0.00</td>\n      <td>28.50</td>\n      <td>0</td>\n      <td>0.00</td>\n      <td>80.00</td>\n      <td>71.00</td>\n      <td>2.00</td>\n      <td>0</td>\n      <td>0</td>\n      <td>0</td>\n      <td>0</td>\n      <td>0</td>\n      <td>0</td>\n      <td>0</td>\n    </tr>\n    <tr>\n      <th>5</th>\n      <td>1</td>\n      <td>245.00</td>\n      <td>48</td>\n      <td>127.50</td>\n      <td>80.00</td>\n      <td>1</td>\n      <td>20.00</td>\n      <td>25.34</td>\n      <td>0</td>\n      <td>0.00</td>\n      <td>75.00</td>\n      <td>70.00</td>\n      <td>1.00</td>\n      <td>0</td>\n      <td>0</td>\n      <td>0</td>\n      <td>0</td>\n      <td>0</td>\n      <td>0</td>\n      <td>0</td>\n    </tr>\n    <tr>\n      <th>6</th>\n      <td>1</td>\n      <td>283.00</td>\n      <td>54</td>\n      <td>141.00</td>\n      <td>89.00</td>\n      <td>1</td>\n      <td>30.00</td>\n      <td>25.34</td>\n      <td>0</td>\n      <td>0.00</td>\n      <td>75.00</td>\n      <td>87.00</td>\n      <td>1.00</td>\n      <td>0</td>\n      <td>0</td>\n      <td>0</td>\n      <td>0</td>\n      <td>0</td>\n      <td>0</td>\n      <td>0</td>\n    </tr>\n    <tr>\n      <th>...</th>\n      <td>...</td>\n      <td>...</td>\n      <td>...</td>\n      <td>...</td>\n      <td>...</td>\n      <td>...</td>\n      <td>...</td>\n      <td>...</td>\n      <td>...</td>\n      <td>...</td>\n      <td>...</td>\n      <td>...</td>\n      <td>...</td>\n      <td>...</td>\n      <td>...</td>\n      <td>...</td>\n      <td>...</td>\n      <td>...</td>\n      <td>...</td>\n      <td>...</td>\n    </tr>\n    <tr>\n      <th>11621</th>\n      <td>1</td>\n      <td>185.00</td>\n      <td>40</td>\n      <td>141.00</td>\n      <td>98.00</td>\n      <td>0</td>\n      <td>0.00</td>\n      <td>25.60</td>\n      <td>0</td>\n      <td>0.00</td>\n      <td>67.00</td>\n      <td>72.00</td>\n      <td>3.00</td>\n      <td>0</td>\n      <td>0</td>\n      <td>0</td>\n      <td>0</td>\n      <td>1</td>\n      <td>0</td>\n      <td>1</td>\n    </tr>\n    <tr>\n      <th>11623</th>\n      <td>1</td>\n      <td>153.00</td>\n      <td>52</td>\n      <td>143.00</td>\n      <td>89.00</td>\n      <td>0</td>\n      <td>0.00</td>\n      <td>25.74</td>\n      <td>0</td>\n      <td>0.00</td>\n      <td>65.00</td>\n      <td>72.00</td>\n      <td>3.00</td>\n      <td>0</td>\n      <td>0</td>\n      <td>0</td>\n      <td>0</td>\n      <td>1</td>\n      <td>0</td>\n      <td>1</td>\n    </tr>\n    <tr>\n      <th>11624</th>\n      <td>2</td>\n      <td>196.00</td>\n      <td>39</td>\n      <td>133.00</td>\n      <td>86.00</td>\n      <td>1</td>\n      <td>30.00</td>\n      <td>20.91</td>\n      <td>0</td>\n      <td>0.00</td>\n      <td>85.00</td>\n      <td>80.00</td>\n      <td>3.00</td>\n      <td>0</td>\n      <td>0</td>\n      <td>0</td>\n      <td>0</td>\n      <td>0</td>\n      <td>0</td>\n      <td>1</td>\n    </tr>\n    <tr>\n      <th>11625</th>\n      <td>2</td>\n      <td>240.00</td>\n      <td>46</td>\n      <td>138.00</td>\n      <td>79.00</td>\n      <td>1</td>\n      <td>20.00</td>\n      <td>26.39</td>\n      <td>0</td>\n      <td>0.00</td>\n      <td>90.00</td>\n      <td>83.00</td>\n      <td>3.00</td>\n      <td>0</td>\n      <td>0</td>\n      <td>0</td>\n      <td>0</td>\n      <td>0</td>\n      <td>0</td>\n      <td>1</td>\n    </tr>\n    <tr>\n      <th>11626</th>\n      <td>2</td>\n      <td>238.00</td>\n      <td>50</td>\n      <td>147.00</td>\n      <td>96.00</td>\n      <td>1</td>\n      <td>10.00</td>\n      <td>24.19</td>\n      <td>0</td>\n      <td>0.00</td>\n      <td>94.00</td>\n      <td>80.00</td>\n      <td>3.00</td>\n      <td>0</td>\n      <td>0</td>\n      <td>0</td>\n      <td>0</td>\n      <td>1</td>\n      <td>0</td>\n      <td>1</td>\n    </tr>\n  </tbody>\n</table>\n<p>9186 rows × 20 columns</p>\n</div>"
     },
     "execution_count": 20,
     "metadata": {},
     "output_type": "execute_result"
    }
   ],
   "source": [
    "raw_df"
   ]
  },
  {
   "cell_type": "markdown",
   "id": "8ed3a5316b762bd1",
   "metadata": {
    "collapsed": false
   },
   "source": [
    "# Split"
   ]
  },
  {
   "cell_type": "code",
   "execution_count": 21,
   "id": "fe9941de0a574b9e",
   "metadata": {
    "collapsed": false,
    "ExecuteTime": {
     "end_time": "2024-06-27T15:25:06.863506Z",
     "start_time": "2024-06-27T15:25:06.804470Z"
    }
   },
   "outputs": [],
   "source": [
    "def split_data(X, y, test_size, random_state=42):\n",
    "    return train_test_split(X, y, test_size=test_size, random_state=random_state)"
   ]
  },
  {
   "cell_type": "markdown",
   "id": "c8547ac2",
   "metadata": {},
   "source": [
    "# Imbalance"
   ]
  },
  {
   "cell_type": "code",
   "execution_count": 22,
   "id": "568f78ed",
   "metadata": {
    "ExecuteTime": {
     "end_time": "2024-06-27T15:25:06.882214Z",
     "start_time": "2024-06-27T15:25:06.808367Z"
    }
   },
   "outputs": [],
   "source": [
    "from imblearn.over_sampling import SMOTE\n",
    "\n",
    "def oversample(df):\n",
    "    X_sample = df.drop(columns=['STROKE'])\n",
    "    y_sample = df['STROKE']\n",
    "    smote = SMOTE(random_state=42)\n",
    "    X_resampled, y_resampled = smote.fit_resample(X_sample, y_sample)\n",
    "    oversampled_df = pd.DataFrame(X_resampled, columns=X_sample.columns)\n",
    "    oversampled_df['STROKE'] = y_resampled\n",
    "    return oversampled_df.sample(frac=1, random_state=42).reset_index(drop=True)\n",
    "\n",
    "def undersample(df):\n",
    "    minority_class = df[df['STROKE'] == 1]\n",
    "    majority_class = df[df['STROKE'] == 0]\n",
    "    \n",
    "    # Determine the size of the minority class\n",
    "    n_minority = len(minority_class)\n",
    "    \n",
    "    # Sample from the majority class to match the size of the minority class\n",
    "    majority_class_undersampled = majority_class.sample(n=n_minority, random_state=42)\n",
    "    \n",
    "    # Concatenate minority and undersampled majority classes\n",
    "    undersampled_df = pd.concat([minority_class, majority_class_undersampled])\n",
    "    \n",
    "    return undersampled_df.sample(frac=1, random_state=42).reset_index(drop=True)"
   ]
  },
  {
   "cell_type": "markdown",
   "id": "56fec7faa73300c8",
   "metadata": {
    "collapsed": false
   },
   "source": [
    "# Standardize"
   ]
  },
  {
   "cell_type": "code",
   "execution_count": 23,
   "id": "ed9c03e9135f7666",
   "metadata": {
    "collapsed": false,
    "ExecuteTime": {
     "end_time": "2024-06-27T15:25:06.882425Z",
     "start_time": "2024-06-27T15:25:06.829602Z"
    }
   },
   "outputs": [],
   "source": [
    "def scale_data(X_train, X_test):\n",
    "    scaler = StandardScaler()\n",
    "    X_train_scaled = scaler.fit_transform(X_train)\n",
    "    X_test_scaled = scaler.transform(X_test)\n",
    "    return X_train_scaled, X_test_scaled"
   ]
  },
  {
   "cell_type": "markdown",
   "id": "89e41ec9",
   "metadata": {},
   "source": [
    "# Classifier"
   ]
  },
  {
   "cell_type": "code",
   "execution_count": 24,
   "id": "a6b9bc63",
   "metadata": {
    "ExecuteTime": {
     "end_time": "2024-06-27T15:25:06.882550Z",
     "start_time": "2024-06-27T15:25:06.832296Z"
    }
   },
   "outputs": [],
   "source": [
    "def train_classifier(classifier, X_train, y_train):\n",
    "    if classifier == 'dt':\n",
    "        clf = DecisionTreeClassifier()\n",
    "    elif classifier == 'rf':\n",
    "        clf = RandomForestClassifier()\n",
    "    elif classifier == 'svm':\n",
    "        clf = SVC()\n",
    "    elif classifier == 'knn':\n",
    "        clf = KNeighborsClassifier()\n",
    "    elif classifier == 'xgb':\n",
    "        clf = XGBClassifier()\n",
    "    else:\n",
    "        raise ValueError(f\"Classifier '{classifier}' not supported.\")\n",
    "    \n",
    "    clf.fit(X_train, y_train)\n",
    "    return clf"
   ]
  },
  {
   "cell_type": "code",
   "execution_count": 25,
   "id": "91026d17",
   "metadata": {
    "ExecuteTime": {
     "end_time": "2024-06-27T15:25:06.882633Z",
     "start_time": "2024-06-27T15:25:06.835276Z"
    }
   },
   "outputs": [],
   "source": [
    "def run_experiment(df, balance_method, test_size, classifier):\n",
    "    if balance_method == 'oversample':\n",
    "        df = oversample(df)\n",
    "    elif balance_method == 'undersample':\n",
    "        df = undersample(df)\n",
    "    \n",
    "    X = df.drop(columns=['STROKE'])\n",
    "    y = df['STROKE']\n",
    "    \n",
    "    # Split the data\n",
    "    X_train, X_test, y_train, y_test = split_data(X, y, test_size)\n",
    "    \n",
    "    # Scale the data\n",
    "    X_train, X_test = scale_data(X_train, X_test)\n",
    "    \n",
    "     # Train classifier based on the classifier parameter\n",
    "    clf = train_classifier(classifier, X_train, y_train)\n",
    "    \n",
    "    y_pred = clf.predict(X_test)\n",
    "    \n",
    "    # Get the classification report as a dict\n",
    "    report = classification_report(y_test, y_pred, output_dict=True)\n",
    "    conf_matrix = confusion_matrix(y_test, y_pred)\n",
    "    \n",
    "    return report, conf_matrix"
   ]
  },
  {
   "cell_type": "code",
   "execution_count": 26,
   "id": "b6c49e93",
   "metadata": {
    "ExecuteTime": {
     "end_time": "2024-06-27T15:25:06.927115Z",
     "start_time": "2024-06-27T15:25:06.841011Z"
    }
   },
   "outputs": [
    {
     "data": {
      "text/plain": "       SEX  TOTCHOL  AGE  SYSBP  DIABP  CURSMOKE  CIGPDAY   BMI  DIABETES  \\\n2        2   250.00   46 121.00  81.00         0     0.00 28.73         0   \n3        2   260.00   52 105.00  69.50         0     0.00 29.43         0   \n4        2   237.00   58 108.00  66.00         0     0.00 28.50         0   \n5        1   245.00   48 127.50  80.00         1    20.00 25.34         0   \n6        1   283.00   54 141.00  89.00         1    30.00 25.34         0   \n...    ...      ...  ...    ...    ...       ...      ...   ...       ...   \n11621    1   185.00   40 141.00  98.00         0     0.00 25.60         0   \n11623    1   153.00   52 143.00  89.00         0     0.00 25.74         0   \n11624    2   196.00   39 133.00  86.00         1    30.00 20.91         0   \n11625    2   240.00   46 138.00  79.00         1    20.00 26.39         0   \n11626    2   238.00   50 147.00  96.00         1    10.00 24.19         0   \n\n       BPMEDS  HEARTRTE  GLUCOSE  educ  PREVCHD  PREVAP  PREVMI  PREVSTRK  \\\n2        0.00     95.00    76.00  2.00        0       0       0         0   \n3        0.00     80.00    86.00  2.00        0       0       0         0   \n4        0.00     80.00    71.00  2.00        0       0       0         0   \n5        0.00     75.00    70.00  1.00        0       0       0         0   \n6        0.00     75.00    87.00  1.00        0       0       0         0   \n...       ...       ...      ...   ...      ...     ...     ...       ...   \n11621    0.00     67.00    72.00  3.00        0       0       0         0   \n11623    0.00     65.00    72.00  3.00        0       0       0         0   \n11624    0.00     85.00    80.00  3.00        0       0       0         0   \n11625    0.00     90.00    83.00  3.00        0       0       0         0   \n11626    0.00     94.00    80.00  3.00        0       0       0         0   \n\n       PREVHYP  STROKE  HYPERTEN  \n2            0       0         0  \n3            0       0         0  \n4            0       0         0  \n5            0       0         0  \n6            0       0         0  \n...        ...     ...       ...  \n11621        1       0         1  \n11623        1       0         1  \n11624        0       0         1  \n11625        0       0         1  \n11626        1       0         1  \n\n[9186 rows x 20 columns]",
      "text/html": "<div>\n<style scoped>\n    .dataframe tbody tr th:only-of-type {\n        vertical-align: middle;\n    }\n\n    .dataframe tbody tr th {\n        vertical-align: top;\n    }\n\n    .dataframe thead th {\n        text-align: right;\n    }\n</style>\n<table border=\"1\" class=\"dataframe\">\n  <thead>\n    <tr style=\"text-align: right;\">\n      <th></th>\n      <th>SEX</th>\n      <th>TOTCHOL</th>\n      <th>AGE</th>\n      <th>SYSBP</th>\n      <th>DIABP</th>\n      <th>CURSMOKE</th>\n      <th>CIGPDAY</th>\n      <th>BMI</th>\n      <th>DIABETES</th>\n      <th>BPMEDS</th>\n      <th>HEARTRTE</th>\n      <th>GLUCOSE</th>\n      <th>educ</th>\n      <th>PREVCHD</th>\n      <th>PREVAP</th>\n      <th>PREVMI</th>\n      <th>PREVSTRK</th>\n      <th>PREVHYP</th>\n      <th>STROKE</th>\n      <th>HYPERTEN</th>\n    </tr>\n  </thead>\n  <tbody>\n    <tr>\n      <th>2</th>\n      <td>2</td>\n      <td>250.00</td>\n      <td>46</td>\n      <td>121.00</td>\n      <td>81.00</td>\n      <td>0</td>\n      <td>0.00</td>\n      <td>28.73</td>\n      <td>0</td>\n      <td>0.00</td>\n      <td>95.00</td>\n      <td>76.00</td>\n      <td>2.00</td>\n      <td>0</td>\n      <td>0</td>\n      <td>0</td>\n      <td>0</td>\n      <td>0</td>\n      <td>0</td>\n      <td>0</td>\n    </tr>\n    <tr>\n      <th>3</th>\n      <td>2</td>\n      <td>260.00</td>\n      <td>52</td>\n      <td>105.00</td>\n      <td>69.50</td>\n      <td>0</td>\n      <td>0.00</td>\n      <td>29.43</td>\n      <td>0</td>\n      <td>0.00</td>\n      <td>80.00</td>\n      <td>86.00</td>\n      <td>2.00</td>\n      <td>0</td>\n      <td>0</td>\n      <td>0</td>\n      <td>0</td>\n      <td>0</td>\n      <td>0</td>\n      <td>0</td>\n    </tr>\n    <tr>\n      <th>4</th>\n      <td>2</td>\n      <td>237.00</td>\n      <td>58</td>\n      <td>108.00</td>\n      <td>66.00</td>\n      <td>0</td>\n      <td>0.00</td>\n      <td>28.50</td>\n      <td>0</td>\n      <td>0.00</td>\n      <td>80.00</td>\n      <td>71.00</td>\n      <td>2.00</td>\n      <td>0</td>\n      <td>0</td>\n      <td>0</td>\n      <td>0</td>\n      <td>0</td>\n      <td>0</td>\n      <td>0</td>\n    </tr>\n    <tr>\n      <th>5</th>\n      <td>1</td>\n      <td>245.00</td>\n      <td>48</td>\n      <td>127.50</td>\n      <td>80.00</td>\n      <td>1</td>\n      <td>20.00</td>\n      <td>25.34</td>\n      <td>0</td>\n      <td>0.00</td>\n      <td>75.00</td>\n      <td>70.00</td>\n      <td>1.00</td>\n      <td>0</td>\n      <td>0</td>\n      <td>0</td>\n      <td>0</td>\n      <td>0</td>\n      <td>0</td>\n      <td>0</td>\n    </tr>\n    <tr>\n      <th>6</th>\n      <td>1</td>\n      <td>283.00</td>\n      <td>54</td>\n      <td>141.00</td>\n      <td>89.00</td>\n      <td>1</td>\n      <td>30.00</td>\n      <td>25.34</td>\n      <td>0</td>\n      <td>0.00</td>\n      <td>75.00</td>\n      <td>87.00</td>\n      <td>1.00</td>\n      <td>0</td>\n      <td>0</td>\n      <td>0</td>\n      <td>0</td>\n      <td>0</td>\n      <td>0</td>\n      <td>0</td>\n    </tr>\n    <tr>\n      <th>...</th>\n      <td>...</td>\n      <td>...</td>\n      <td>...</td>\n      <td>...</td>\n      <td>...</td>\n      <td>...</td>\n      <td>...</td>\n      <td>...</td>\n      <td>...</td>\n      <td>...</td>\n      <td>...</td>\n      <td>...</td>\n      <td>...</td>\n      <td>...</td>\n      <td>...</td>\n      <td>...</td>\n      <td>...</td>\n      <td>...</td>\n      <td>...</td>\n      <td>...</td>\n    </tr>\n    <tr>\n      <th>11621</th>\n      <td>1</td>\n      <td>185.00</td>\n      <td>40</td>\n      <td>141.00</td>\n      <td>98.00</td>\n      <td>0</td>\n      <td>0.00</td>\n      <td>25.60</td>\n      <td>0</td>\n      <td>0.00</td>\n      <td>67.00</td>\n      <td>72.00</td>\n      <td>3.00</td>\n      <td>0</td>\n      <td>0</td>\n      <td>0</td>\n      <td>0</td>\n      <td>1</td>\n      <td>0</td>\n      <td>1</td>\n    </tr>\n    <tr>\n      <th>11623</th>\n      <td>1</td>\n      <td>153.00</td>\n      <td>52</td>\n      <td>143.00</td>\n      <td>89.00</td>\n      <td>0</td>\n      <td>0.00</td>\n      <td>25.74</td>\n      <td>0</td>\n      <td>0.00</td>\n      <td>65.00</td>\n      <td>72.00</td>\n      <td>3.00</td>\n      <td>0</td>\n      <td>0</td>\n      <td>0</td>\n      <td>0</td>\n      <td>1</td>\n      <td>0</td>\n      <td>1</td>\n    </tr>\n    <tr>\n      <th>11624</th>\n      <td>2</td>\n      <td>196.00</td>\n      <td>39</td>\n      <td>133.00</td>\n      <td>86.00</td>\n      <td>1</td>\n      <td>30.00</td>\n      <td>20.91</td>\n      <td>0</td>\n      <td>0.00</td>\n      <td>85.00</td>\n      <td>80.00</td>\n      <td>3.00</td>\n      <td>0</td>\n      <td>0</td>\n      <td>0</td>\n      <td>0</td>\n      <td>0</td>\n      <td>0</td>\n      <td>1</td>\n    </tr>\n    <tr>\n      <th>11625</th>\n      <td>2</td>\n      <td>240.00</td>\n      <td>46</td>\n      <td>138.00</td>\n      <td>79.00</td>\n      <td>1</td>\n      <td>20.00</td>\n      <td>26.39</td>\n      <td>0</td>\n      <td>0.00</td>\n      <td>90.00</td>\n      <td>83.00</td>\n      <td>3.00</td>\n      <td>0</td>\n      <td>0</td>\n      <td>0</td>\n      <td>0</td>\n      <td>0</td>\n      <td>0</td>\n      <td>1</td>\n    </tr>\n    <tr>\n      <th>11626</th>\n      <td>2</td>\n      <td>238.00</td>\n      <td>50</td>\n      <td>147.00</td>\n      <td>96.00</td>\n      <td>1</td>\n      <td>10.00</td>\n      <td>24.19</td>\n      <td>0</td>\n      <td>0.00</td>\n      <td>94.00</td>\n      <td>80.00</td>\n      <td>3.00</td>\n      <td>0</td>\n      <td>0</td>\n      <td>0</td>\n      <td>0</td>\n      <td>1</td>\n      <td>0</td>\n      <td>1</td>\n    </tr>\n  </tbody>\n</table>\n<p>9186 rows × 20 columns</p>\n</div>"
     },
     "execution_count": 26,
     "metadata": {},
     "output_type": "execute_result"
    }
   ],
   "source": [
    "raw_df"
   ]
  },
  {
   "cell_type": "code",
   "execution_count": 27,
   "id": "a83e73e195f6b1ca",
   "metadata": {
    "collapsed": false,
    "ExecuteTime": {
     "end_time": "2024-06-27T15:26:15.778944Z",
     "start_time": "2024-06-27T15:25:06.848004Z"
    }
   },
   "outputs": [
    {
     "data": {
      "text/plain": "                     scenario  accuracy  0-precision  0-recall  0-f1-score  \\\n0      dt_imbalance_split_10%    0.8477       0.9285    0.9018      0.9149   \n1      dt_imbalance_split_20%    0.8439       0.9259    0.8986      0.9120   \n2      dt_imbalance_split_30%    0.8541       0.9190    0.9182      0.9186   \n3     dt_oversample_split_10%    0.8674       0.8641    0.8586      0.8613   \n4     dt_oversample_split_20%    0.8653       0.8730    0.8520      0.8624   \n5     dt_oversample_split_30%    0.8593       0.8727    0.8402      0.8561   \n6    dt_undersample_split_10%    0.6667       0.6731    0.6796      0.6763   \n7    dt_undersample_split_20%    0.6766       0.6393    0.7330      0.6829   \n8    dt_undersample_split_30%    0.6700       0.6397    0.6738      0.6563   \n9      rf_imbalance_split_10%    0.9227       0.9273    0.9928      0.9589   \n10     rf_imbalance_split_20%    0.9173       0.9206    0.9940      0.9559   \n11     rf_imbalance_split_30%    0.9147       0.9162    0.9960      0.9544   \n12    rf_oversample_split_10%    0.9420       0.9228    0.9592      0.9407   \n13    rf_oversample_split_20%    0.9377       0.9302    0.9451      0.9376   \n14    rf_oversample_split_30%    0.9330       0.9253    0.9416      0.9334   \n15   rf_undersample_split_10%    0.7612       0.7835    0.7379      0.7600   \n16   rf_undersample_split_20%    0.7313       0.7128    0.7277      0.7202   \n17   rf_undersample_split_30%    0.7380       0.7053    0.7553      0.7295   \n18    knn_imbalance_split_10%    0.9162       0.9307    0.9808      0.9551   \n19    knn_imbalance_split_20%    0.9086       0.9237    0.9795      0.9508   \n20    knn_imbalance_split_30%    0.9024       0.9167    0.9802      0.9474   \n21   knn_oversample_split_10%    0.8442       0.9115    0.7478      0.8216   \n22   knn_oversample_split_20%    0.8375       0.9173    0.7386      0.8183   \n23   knn_oversample_split_30%    0.8291       0.9157    0.7237      0.8085   \n24  knn_undersample_split_10%    0.7313       0.7426    0.7282      0.7353   \n25  knn_undersample_split_20%    0.7239       0.6905    0.7592      0.7232   \n26  knn_undersample_split_30%    0.7247       0.6871    0.7553      0.7196   \n27    xgb_imbalance_split_10%    0.9129       0.9266    0.9820      0.9535   \n28    xgb_imbalance_split_20%    0.9097       0.9233    0.9813      0.9514   \n29    xgb_imbalance_split_30%    0.9082       0.9178    0.9858      0.9506   \n30   xgb_oversample_split_10%    0.9304       0.8970    0.9656      0.9301   \n31   xgb_oversample_split_20%    0.9325       0.9070    0.9624      0.9339   \n32   xgb_oversample_split_30%    0.9334       0.9160    0.9538      0.9345   \n33  xgb_undersample_split_10%    0.7363       0.7551    0.7184      0.7363   \n34  xgb_undersample_split_20%    0.6816       0.6522    0.7068      0.6784   \n35  xgb_undersample_split_30%    0.7065       0.6721    0.7270      0.6985   \n36    svm_imbalance_split_10%    0.9249       0.9256    0.9976      0.9602   \n37    svm_imbalance_split_20%    0.9168       0.9191    0.9952      0.9556   \n38    svm_imbalance_split_30%    0.9126       0.9129    0.9976      0.9534   \n39   svm_oversample_split_10%    0.8125       0.8003    0.8115      0.8058   \n40   svm_oversample_split_20%    0.8106       0.8085    0.8095      0.8090   \n41   svm_oversample_split_30%    0.8094       0.8154    0.7981      0.8067   \n42  svm_undersample_split_10%    0.7413       0.7339    0.7767      0.7547   \n43  svm_undersample_split_20%    0.7289       0.6971    0.7592      0.7268   \n44  svm_undersample_split_30%    0.7247       0.6824    0.7695      0.7233   \n\n    0-support  1-precision  1-recall  1-f1-score  1-support  \\\n0    835.0000       0.2407    0.3095      0.2708    84.0000   \n1   1656.0000       0.2727    0.3462      0.3051   182.0000   \n2   2470.0000       0.2986    0.3007      0.2997   286.0000   \n3    785.0000       0.8705    0.8756      0.8730   852.0000   \n4   1622.0000       0.8580    0.8783      0.8680  1651.0000   \n5   2447.0000       0.8469    0.8782      0.8623  2463.0000   \n6    103.0000       0.6598    0.6531      0.6564    98.0000   \n7    191.0000       0.7213    0.6256      0.6701   211.0000   \n8    282.0000       0.6993    0.6667      0.6826   321.0000   \n9    835.0000       0.7600    0.2262      0.3486    84.0000   \n10  1656.0000       0.8000    0.2198      0.3448   182.0000   \n11  2470.0000       0.8592    0.2133      0.3417   286.0000   \n12   785.0000       0.9610    0.9261      0.9432   852.0000   \n13  1622.0000       0.9452    0.9303      0.9377  1651.0000   \n14  2447.0000       0.9409    0.9245      0.9326  2463.0000   \n15   103.0000       0.7404    0.7857      0.7624    98.0000   \n16   191.0000       0.7488    0.7346      0.7416   211.0000   \n17   282.0000       0.7708    0.7227      0.7460   321.0000   \n18   835.0000       0.5897    0.2738      0.3740    84.0000   \n19  1656.0000       0.5854    0.2637      0.3636   182.0000   \n20  2470.0000       0.5739    0.2308      0.3292   286.0000   \n21   785.0000       0.8006    0.9331      0.8618   852.0000   \n22  1622.0000       0.7844    0.9346      0.8530  1651.0000   \n23  2447.0000       0.7728    0.9338      0.8457  2463.0000   \n24   103.0000       0.7200    0.7347      0.7273    98.0000   \n25   191.0000       0.7604    0.6919      0.7246   211.0000   \n26   282.0000       0.7645    0.6978      0.7296   321.0000   \n27   835.0000       0.5588    0.2262      0.3220    84.0000   \n28  1656.0000       0.6026    0.2582      0.3615   182.0000   \n29  2470.0000       0.6602    0.2378      0.3496   286.0000   \n30   785.0000       0.9659    0.8979      0.9307   852.0000   \n31  1622.0000       0.9607    0.9031      0.9310  1651.0000   \n32  2447.0000       0.9522    0.9131      0.9322  2463.0000   \n33   103.0000       0.7184    0.7551      0.7363    98.0000   \n34   191.0000       0.7128    0.6588      0.6847   211.0000   \n35   282.0000       0.7416    0.6885      0.7141   321.0000   \n36   835.0000       0.8947    0.2024      0.3301    84.0000   \n37  1656.0000       0.8222    0.2033      0.3260   182.0000   \n38  2470.0000       0.8947    0.1783      0.2974   286.0000   \n39   785.0000       0.8240    0.8134      0.8187   852.0000   \n40  1622.0000       0.8126    0.8116      0.8121  1651.0000   \n41  2447.0000       0.8036    0.8205      0.8120  2463.0000   \n42   103.0000       0.7500    0.7041      0.7263    98.0000   \n43   191.0000       0.7629    0.7014      0.7309   211.0000   \n44   282.0000       0.7719    0.6854      0.7261   321.0000   \n\n    macro avg-precision  macro avg-recall  macro avg-f1-score  \\\n0                0.5846            0.6057              0.5929   \n1                0.5993            0.6224              0.6086   \n2                0.6088            0.6095              0.6091   \n3                0.8673            0.8671              0.8672   \n4                0.8655            0.8651              0.8652   \n5                0.8598            0.8592              0.8592   \n6                0.6664            0.6663              0.6664   \n7                0.6803            0.6793              0.6765   \n8                0.6695            0.6702              0.6695   \n9                0.8436            0.6095              0.6538   \n10               0.8603            0.6069              0.6503   \n11               0.8877            0.6046              0.6481   \n12               0.9419            0.9426              0.9419   \n13               0.9377            0.9377              0.9377   \n14               0.9331            0.9330              0.9330   \n15               0.7619            0.7618              0.7612   \n16               0.7308            0.7312              0.7309   \n17               0.7380            0.7390              0.7377   \n18               0.7602            0.6273              0.6645   \n19               0.7545            0.6216              0.6572   \n20               0.7453            0.6055              0.6383   \n21               0.8560            0.8404              0.8417   \n22               0.8509            0.8366              0.8356   \n23               0.8443            0.8288              0.8271   \n24               0.7313            0.7314              0.7313   \n25               0.7254            0.7256              0.7239   \n26               0.7258            0.7266              0.7246   \n27               0.7427            0.6041              0.6378   \n28               0.7629            0.6198              0.6565   \n29               0.7890            0.6118              0.6501   \n30               0.9315            0.9317              0.9304   \n31               0.9339            0.9327              0.9324   \n32               0.9341            0.9335              0.9334   \n33               0.7368            0.7368              0.7363   \n34               0.6825            0.6828              0.6816   \n35               0.7069            0.7077              0.7063   \n36               0.9101            0.6000              0.6452   \n37               0.8707            0.5992              0.6408   \n38               0.9038            0.5879              0.6254   \n39               0.8121            0.8124              0.8122   \n40               0.8106            0.8106              0.8106   \n41               0.8095            0.8093              0.8093   \n42               0.7420            0.7404              0.7405   \n43               0.7300            0.7303              0.7288   \n44               0.7272            0.7274              0.7247   \n\n    macro avg-support  weighted avg-precision  weighted avg-recall  \\\n0            919.0000                  0.8656               0.8477   \n1           1838.0000                  0.8613               0.8439   \n2           2756.0000                  0.8546               0.8541   \n3           1637.0000                  0.8674               0.8674   \n4           3273.0000                  0.8654               0.8653   \n5           4910.0000                  0.8597               0.8593   \n6            201.0000                  0.6666               0.6667   \n7            402.0000                  0.6823               0.6766   \n8            603.0000                  0.6715               0.6700   \n9            919.0000                  0.9120               0.9227   \n10          1838.0000                  0.9086               0.9173   \n11          2756.0000                  0.9103               0.9147   \n12          1637.0000                  0.9427               0.9420   \n13          3273.0000                  0.9378               0.9377   \n14          4910.0000                  0.9331               0.9330   \n15           201.0000                  0.7625               0.7612   \n16           402.0000                  0.7317               0.7313   \n17           603.0000                  0.7401               0.7380   \n18           919.0000                  0.8995               0.9162   \n19          1838.0000                  0.8902               0.9086   \n20          2756.0000                  0.8811               0.9024   \n21          1637.0000                  0.8538               0.8442   \n22          3273.0000                  0.8503               0.8375   \n23          4910.0000                  0.8441               0.8291   \n24           201.0000                  0.7316               0.7313   \n25           402.0000                  0.7272               0.7239   \n26           603.0000                  0.7283               0.7247   \n27           919.0000                  0.8929               0.9129   \n28          1838.0000                  0.8915               0.9097   \n29          2756.0000                  0.8911               0.9082   \n30          1637.0000                  0.9329               0.9304   \n31          3273.0000                  0.9341               0.9325   \n32          4910.0000                  0.9341               0.9334   \n33           201.0000                  0.7372               0.7363   \n34           402.0000                  0.6840               0.6816   \n35           603.0000                  0.7091               0.7065   \n36           919.0000                  0.9227               0.9249   \n37          1838.0000                  0.9095               0.9168   \n38          2756.0000                  0.9110               0.9126   \n39          1637.0000                  0.8126               0.8125   \n40          3273.0000                  0.8106               0.8106   \n41          4910.0000                  0.8095               0.8094   \n42           201.0000                  0.7418               0.7413   \n43           402.0000                  0.7316               0.7289   \n44           603.0000                  0.7301               0.7247   \n\n    weighted avg-f1-score  weighted avg-support  \n0                  0.8561              919.0000  \n1                  0.8519             1838.0000  \n2                  0.8544             2756.0000  \n3                  0.8674             1637.0000  \n4                  0.8652             3273.0000  \n5                  0.8592             4910.0000  \n6                  0.6666              201.0000  \n7                  0.6762              402.0000  \n8                  0.6703              603.0000  \n9                  0.9032              919.0000  \n10                 0.8954             1838.0000  \n11                 0.8908             2756.0000  \n12                 0.9420             1637.0000  \n13                 0.9377             3273.0000  \n14                 0.9330             4910.0000  \n15                 0.7612              201.0000  \n16                 0.7314              402.0000  \n17                 0.7383              603.0000  \n18                 0.9020              919.0000  \n19                 0.8926             1838.0000  \n20                 0.8832             2756.0000  \n21                 0.8425             1637.0000  \n22                 0.8358             3273.0000  \n23                 0.8272             4910.0000  \n24                 0.7314              201.0000  \n25                 0.7239              402.0000  \n26                 0.7249              603.0000  \n27                 0.8958              919.0000  \n28                 0.8930             1838.0000  \n29                 0.8882             2756.0000  \n30                 0.9304             1637.0000  \n31                 0.9324             3273.0000  \n32                 0.9334             4910.0000  \n33                 0.7363              201.0000  \n34                 0.6817              402.0000  \n35                 0.7068              603.0000  \n36                 0.9026              919.0000  \n37                 0.8933             1838.0000  \n38                 0.8853             2756.0000  \n39                 0.8125             1637.0000  \n40                 0.8106             3273.0000  \n41                 0.8093             4910.0000  \n42                 0.7409              201.0000  \n43                 0.7289              402.0000  \n44                 0.7248              603.0000  ",
      "text/html": "<div>\n<style scoped>\n    .dataframe tbody tr th:only-of-type {\n        vertical-align: middle;\n    }\n\n    .dataframe tbody tr th {\n        vertical-align: top;\n    }\n\n    .dataframe thead th {\n        text-align: right;\n    }\n</style>\n<table border=\"1\" class=\"dataframe\">\n  <thead>\n    <tr style=\"text-align: right;\">\n      <th></th>\n      <th>scenario</th>\n      <th>accuracy</th>\n      <th>0-precision</th>\n      <th>0-recall</th>\n      <th>0-f1-score</th>\n      <th>0-support</th>\n      <th>1-precision</th>\n      <th>1-recall</th>\n      <th>1-f1-score</th>\n      <th>1-support</th>\n      <th>macro avg-precision</th>\n      <th>macro avg-recall</th>\n      <th>macro avg-f1-score</th>\n      <th>macro avg-support</th>\n      <th>weighted avg-precision</th>\n      <th>weighted avg-recall</th>\n      <th>weighted avg-f1-score</th>\n      <th>weighted avg-support</th>\n    </tr>\n  </thead>\n  <tbody>\n    <tr>\n      <th>0</th>\n      <td>dt_imbalance_split_10%</td>\n      <td>0.8477</td>\n      <td>0.9285</td>\n      <td>0.9018</td>\n      <td>0.9149</td>\n      <td>835.0000</td>\n      <td>0.2407</td>\n      <td>0.3095</td>\n      <td>0.2708</td>\n      <td>84.0000</td>\n      <td>0.5846</td>\n      <td>0.6057</td>\n      <td>0.5929</td>\n      <td>919.0000</td>\n      <td>0.8656</td>\n      <td>0.8477</td>\n      <td>0.8561</td>\n      <td>919.0000</td>\n    </tr>\n    <tr>\n      <th>1</th>\n      <td>dt_imbalance_split_20%</td>\n      <td>0.8439</td>\n      <td>0.9259</td>\n      <td>0.8986</td>\n      <td>0.9120</td>\n      <td>1656.0000</td>\n      <td>0.2727</td>\n      <td>0.3462</td>\n      <td>0.3051</td>\n      <td>182.0000</td>\n      <td>0.5993</td>\n      <td>0.6224</td>\n      <td>0.6086</td>\n      <td>1838.0000</td>\n      <td>0.8613</td>\n      <td>0.8439</td>\n      <td>0.8519</td>\n      <td>1838.0000</td>\n    </tr>\n    <tr>\n      <th>2</th>\n      <td>dt_imbalance_split_30%</td>\n      <td>0.8541</td>\n      <td>0.9190</td>\n      <td>0.9182</td>\n      <td>0.9186</td>\n      <td>2470.0000</td>\n      <td>0.2986</td>\n      <td>0.3007</td>\n      <td>0.2997</td>\n      <td>286.0000</td>\n      <td>0.6088</td>\n      <td>0.6095</td>\n      <td>0.6091</td>\n      <td>2756.0000</td>\n      <td>0.8546</td>\n      <td>0.8541</td>\n      <td>0.8544</td>\n      <td>2756.0000</td>\n    </tr>\n    <tr>\n      <th>3</th>\n      <td>dt_oversample_split_10%</td>\n      <td>0.8674</td>\n      <td>0.8641</td>\n      <td>0.8586</td>\n      <td>0.8613</td>\n      <td>785.0000</td>\n      <td>0.8705</td>\n      <td>0.8756</td>\n      <td>0.8730</td>\n      <td>852.0000</td>\n      <td>0.8673</td>\n      <td>0.8671</td>\n      <td>0.8672</td>\n      <td>1637.0000</td>\n      <td>0.8674</td>\n      <td>0.8674</td>\n      <td>0.8674</td>\n      <td>1637.0000</td>\n    </tr>\n    <tr>\n      <th>4</th>\n      <td>dt_oversample_split_20%</td>\n      <td>0.8653</td>\n      <td>0.8730</td>\n      <td>0.8520</td>\n      <td>0.8624</td>\n      <td>1622.0000</td>\n      <td>0.8580</td>\n      <td>0.8783</td>\n      <td>0.8680</td>\n      <td>1651.0000</td>\n      <td>0.8655</td>\n      <td>0.8651</td>\n      <td>0.8652</td>\n      <td>3273.0000</td>\n      <td>0.8654</td>\n      <td>0.8653</td>\n      <td>0.8652</td>\n      <td>3273.0000</td>\n    </tr>\n    <tr>\n      <th>5</th>\n      <td>dt_oversample_split_30%</td>\n      <td>0.8593</td>\n      <td>0.8727</td>\n      <td>0.8402</td>\n      <td>0.8561</td>\n      <td>2447.0000</td>\n      <td>0.8469</td>\n      <td>0.8782</td>\n      <td>0.8623</td>\n      <td>2463.0000</td>\n      <td>0.8598</td>\n      <td>0.8592</td>\n      <td>0.8592</td>\n      <td>4910.0000</td>\n      <td>0.8597</td>\n      <td>0.8593</td>\n      <td>0.8592</td>\n      <td>4910.0000</td>\n    </tr>\n    <tr>\n      <th>6</th>\n      <td>dt_undersample_split_10%</td>\n      <td>0.6667</td>\n      <td>0.6731</td>\n      <td>0.6796</td>\n      <td>0.6763</td>\n      <td>103.0000</td>\n      <td>0.6598</td>\n      <td>0.6531</td>\n      <td>0.6564</td>\n      <td>98.0000</td>\n      <td>0.6664</td>\n      <td>0.6663</td>\n      <td>0.6664</td>\n      <td>201.0000</td>\n      <td>0.6666</td>\n      <td>0.6667</td>\n      <td>0.6666</td>\n      <td>201.0000</td>\n    </tr>\n    <tr>\n      <th>7</th>\n      <td>dt_undersample_split_20%</td>\n      <td>0.6766</td>\n      <td>0.6393</td>\n      <td>0.7330</td>\n      <td>0.6829</td>\n      <td>191.0000</td>\n      <td>0.7213</td>\n      <td>0.6256</td>\n      <td>0.6701</td>\n      <td>211.0000</td>\n      <td>0.6803</td>\n      <td>0.6793</td>\n      <td>0.6765</td>\n      <td>402.0000</td>\n      <td>0.6823</td>\n      <td>0.6766</td>\n      <td>0.6762</td>\n      <td>402.0000</td>\n    </tr>\n    <tr>\n      <th>8</th>\n      <td>dt_undersample_split_30%</td>\n      <td>0.6700</td>\n      <td>0.6397</td>\n      <td>0.6738</td>\n      <td>0.6563</td>\n      <td>282.0000</td>\n      <td>0.6993</td>\n      <td>0.6667</td>\n      <td>0.6826</td>\n      <td>321.0000</td>\n      <td>0.6695</td>\n      <td>0.6702</td>\n      <td>0.6695</td>\n      <td>603.0000</td>\n      <td>0.6715</td>\n      <td>0.6700</td>\n      <td>0.6703</td>\n      <td>603.0000</td>\n    </tr>\n    <tr>\n      <th>9</th>\n      <td>rf_imbalance_split_10%</td>\n      <td>0.9227</td>\n      <td>0.9273</td>\n      <td>0.9928</td>\n      <td>0.9589</td>\n      <td>835.0000</td>\n      <td>0.7600</td>\n      <td>0.2262</td>\n      <td>0.3486</td>\n      <td>84.0000</td>\n      <td>0.8436</td>\n      <td>0.6095</td>\n      <td>0.6538</td>\n      <td>919.0000</td>\n      <td>0.9120</td>\n      <td>0.9227</td>\n      <td>0.9032</td>\n      <td>919.0000</td>\n    </tr>\n    <tr>\n      <th>10</th>\n      <td>rf_imbalance_split_20%</td>\n      <td>0.9173</td>\n      <td>0.9206</td>\n      <td>0.9940</td>\n      <td>0.9559</td>\n      <td>1656.0000</td>\n      <td>0.8000</td>\n      <td>0.2198</td>\n      <td>0.3448</td>\n      <td>182.0000</td>\n      <td>0.8603</td>\n      <td>0.6069</td>\n      <td>0.6503</td>\n      <td>1838.0000</td>\n      <td>0.9086</td>\n      <td>0.9173</td>\n      <td>0.8954</td>\n      <td>1838.0000</td>\n    </tr>\n    <tr>\n      <th>11</th>\n      <td>rf_imbalance_split_30%</td>\n      <td>0.9147</td>\n      <td>0.9162</td>\n      <td>0.9960</td>\n      <td>0.9544</td>\n      <td>2470.0000</td>\n      <td>0.8592</td>\n      <td>0.2133</td>\n      <td>0.3417</td>\n      <td>286.0000</td>\n      <td>0.8877</td>\n      <td>0.6046</td>\n      <td>0.6481</td>\n      <td>2756.0000</td>\n      <td>0.9103</td>\n      <td>0.9147</td>\n      <td>0.8908</td>\n      <td>2756.0000</td>\n    </tr>\n    <tr>\n      <th>12</th>\n      <td>rf_oversample_split_10%</td>\n      <td>0.9420</td>\n      <td>0.9228</td>\n      <td>0.9592</td>\n      <td>0.9407</td>\n      <td>785.0000</td>\n      <td>0.9610</td>\n      <td>0.9261</td>\n      <td>0.9432</td>\n      <td>852.0000</td>\n      <td>0.9419</td>\n      <td>0.9426</td>\n      <td>0.9419</td>\n      <td>1637.0000</td>\n      <td>0.9427</td>\n      <td>0.9420</td>\n      <td>0.9420</td>\n      <td>1637.0000</td>\n    </tr>\n    <tr>\n      <th>13</th>\n      <td>rf_oversample_split_20%</td>\n      <td>0.9377</td>\n      <td>0.9302</td>\n      <td>0.9451</td>\n      <td>0.9376</td>\n      <td>1622.0000</td>\n      <td>0.9452</td>\n      <td>0.9303</td>\n      <td>0.9377</td>\n      <td>1651.0000</td>\n      <td>0.9377</td>\n      <td>0.9377</td>\n      <td>0.9377</td>\n      <td>3273.0000</td>\n      <td>0.9378</td>\n      <td>0.9377</td>\n      <td>0.9377</td>\n      <td>3273.0000</td>\n    </tr>\n    <tr>\n      <th>14</th>\n      <td>rf_oversample_split_30%</td>\n      <td>0.9330</td>\n      <td>0.9253</td>\n      <td>0.9416</td>\n      <td>0.9334</td>\n      <td>2447.0000</td>\n      <td>0.9409</td>\n      <td>0.9245</td>\n      <td>0.9326</td>\n      <td>2463.0000</td>\n      <td>0.9331</td>\n      <td>0.9330</td>\n      <td>0.9330</td>\n      <td>4910.0000</td>\n      <td>0.9331</td>\n      <td>0.9330</td>\n      <td>0.9330</td>\n      <td>4910.0000</td>\n    </tr>\n    <tr>\n      <th>15</th>\n      <td>rf_undersample_split_10%</td>\n      <td>0.7612</td>\n      <td>0.7835</td>\n      <td>0.7379</td>\n      <td>0.7600</td>\n      <td>103.0000</td>\n      <td>0.7404</td>\n      <td>0.7857</td>\n      <td>0.7624</td>\n      <td>98.0000</td>\n      <td>0.7619</td>\n      <td>0.7618</td>\n      <td>0.7612</td>\n      <td>201.0000</td>\n      <td>0.7625</td>\n      <td>0.7612</td>\n      <td>0.7612</td>\n      <td>201.0000</td>\n    </tr>\n    <tr>\n      <th>16</th>\n      <td>rf_undersample_split_20%</td>\n      <td>0.7313</td>\n      <td>0.7128</td>\n      <td>0.7277</td>\n      <td>0.7202</td>\n      <td>191.0000</td>\n      <td>0.7488</td>\n      <td>0.7346</td>\n      <td>0.7416</td>\n      <td>211.0000</td>\n      <td>0.7308</td>\n      <td>0.7312</td>\n      <td>0.7309</td>\n      <td>402.0000</td>\n      <td>0.7317</td>\n      <td>0.7313</td>\n      <td>0.7314</td>\n      <td>402.0000</td>\n    </tr>\n    <tr>\n      <th>17</th>\n      <td>rf_undersample_split_30%</td>\n      <td>0.7380</td>\n      <td>0.7053</td>\n      <td>0.7553</td>\n      <td>0.7295</td>\n      <td>282.0000</td>\n      <td>0.7708</td>\n      <td>0.7227</td>\n      <td>0.7460</td>\n      <td>321.0000</td>\n      <td>0.7380</td>\n      <td>0.7390</td>\n      <td>0.7377</td>\n      <td>603.0000</td>\n      <td>0.7401</td>\n      <td>0.7380</td>\n      <td>0.7383</td>\n      <td>603.0000</td>\n    </tr>\n    <tr>\n      <th>18</th>\n      <td>knn_imbalance_split_10%</td>\n      <td>0.9162</td>\n      <td>0.9307</td>\n      <td>0.9808</td>\n      <td>0.9551</td>\n      <td>835.0000</td>\n      <td>0.5897</td>\n      <td>0.2738</td>\n      <td>0.3740</td>\n      <td>84.0000</td>\n      <td>0.7602</td>\n      <td>0.6273</td>\n      <td>0.6645</td>\n      <td>919.0000</td>\n      <td>0.8995</td>\n      <td>0.9162</td>\n      <td>0.9020</td>\n      <td>919.0000</td>\n    </tr>\n    <tr>\n      <th>19</th>\n      <td>knn_imbalance_split_20%</td>\n      <td>0.9086</td>\n      <td>0.9237</td>\n      <td>0.9795</td>\n      <td>0.9508</td>\n      <td>1656.0000</td>\n      <td>0.5854</td>\n      <td>0.2637</td>\n      <td>0.3636</td>\n      <td>182.0000</td>\n      <td>0.7545</td>\n      <td>0.6216</td>\n      <td>0.6572</td>\n      <td>1838.0000</td>\n      <td>0.8902</td>\n      <td>0.9086</td>\n      <td>0.8926</td>\n      <td>1838.0000</td>\n    </tr>\n    <tr>\n      <th>20</th>\n      <td>knn_imbalance_split_30%</td>\n      <td>0.9024</td>\n      <td>0.9167</td>\n      <td>0.9802</td>\n      <td>0.9474</td>\n      <td>2470.0000</td>\n      <td>0.5739</td>\n      <td>0.2308</td>\n      <td>0.3292</td>\n      <td>286.0000</td>\n      <td>0.7453</td>\n      <td>0.6055</td>\n      <td>0.6383</td>\n      <td>2756.0000</td>\n      <td>0.8811</td>\n      <td>0.9024</td>\n      <td>0.8832</td>\n      <td>2756.0000</td>\n    </tr>\n    <tr>\n      <th>21</th>\n      <td>knn_oversample_split_10%</td>\n      <td>0.8442</td>\n      <td>0.9115</td>\n      <td>0.7478</td>\n      <td>0.8216</td>\n      <td>785.0000</td>\n      <td>0.8006</td>\n      <td>0.9331</td>\n      <td>0.8618</td>\n      <td>852.0000</td>\n      <td>0.8560</td>\n      <td>0.8404</td>\n      <td>0.8417</td>\n      <td>1637.0000</td>\n      <td>0.8538</td>\n      <td>0.8442</td>\n      <td>0.8425</td>\n      <td>1637.0000</td>\n    </tr>\n    <tr>\n      <th>22</th>\n      <td>knn_oversample_split_20%</td>\n      <td>0.8375</td>\n      <td>0.9173</td>\n      <td>0.7386</td>\n      <td>0.8183</td>\n      <td>1622.0000</td>\n      <td>0.7844</td>\n      <td>0.9346</td>\n      <td>0.8530</td>\n      <td>1651.0000</td>\n      <td>0.8509</td>\n      <td>0.8366</td>\n      <td>0.8356</td>\n      <td>3273.0000</td>\n      <td>0.8503</td>\n      <td>0.8375</td>\n      <td>0.8358</td>\n      <td>3273.0000</td>\n    </tr>\n    <tr>\n      <th>23</th>\n      <td>knn_oversample_split_30%</td>\n      <td>0.8291</td>\n      <td>0.9157</td>\n      <td>0.7237</td>\n      <td>0.8085</td>\n      <td>2447.0000</td>\n      <td>0.7728</td>\n      <td>0.9338</td>\n      <td>0.8457</td>\n      <td>2463.0000</td>\n      <td>0.8443</td>\n      <td>0.8288</td>\n      <td>0.8271</td>\n      <td>4910.0000</td>\n      <td>0.8441</td>\n      <td>0.8291</td>\n      <td>0.8272</td>\n      <td>4910.0000</td>\n    </tr>\n    <tr>\n      <th>24</th>\n      <td>knn_undersample_split_10%</td>\n      <td>0.7313</td>\n      <td>0.7426</td>\n      <td>0.7282</td>\n      <td>0.7353</td>\n      <td>103.0000</td>\n      <td>0.7200</td>\n      <td>0.7347</td>\n      <td>0.7273</td>\n      <td>98.0000</td>\n      <td>0.7313</td>\n      <td>0.7314</td>\n      <td>0.7313</td>\n      <td>201.0000</td>\n      <td>0.7316</td>\n      <td>0.7313</td>\n      <td>0.7314</td>\n      <td>201.0000</td>\n    </tr>\n    <tr>\n      <th>25</th>\n      <td>knn_undersample_split_20%</td>\n      <td>0.7239</td>\n      <td>0.6905</td>\n      <td>0.7592</td>\n      <td>0.7232</td>\n      <td>191.0000</td>\n      <td>0.7604</td>\n      <td>0.6919</td>\n      <td>0.7246</td>\n      <td>211.0000</td>\n      <td>0.7254</td>\n      <td>0.7256</td>\n      <td>0.7239</td>\n      <td>402.0000</td>\n      <td>0.7272</td>\n      <td>0.7239</td>\n      <td>0.7239</td>\n      <td>402.0000</td>\n    </tr>\n    <tr>\n      <th>26</th>\n      <td>knn_undersample_split_30%</td>\n      <td>0.7247</td>\n      <td>0.6871</td>\n      <td>0.7553</td>\n      <td>0.7196</td>\n      <td>282.0000</td>\n      <td>0.7645</td>\n      <td>0.6978</td>\n      <td>0.7296</td>\n      <td>321.0000</td>\n      <td>0.7258</td>\n      <td>0.7266</td>\n      <td>0.7246</td>\n      <td>603.0000</td>\n      <td>0.7283</td>\n      <td>0.7247</td>\n      <td>0.7249</td>\n      <td>603.0000</td>\n    </tr>\n    <tr>\n      <th>27</th>\n      <td>xgb_imbalance_split_10%</td>\n      <td>0.9129</td>\n      <td>0.9266</td>\n      <td>0.9820</td>\n      <td>0.9535</td>\n      <td>835.0000</td>\n      <td>0.5588</td>\n      <td>0.2262</td>\n      <td>0.3220</td>\n      <td>84.0000</td>\n      <td>0.7427</td>\n      <td>0.6041</td>\n      <td>0.6378</td>\n      <td>919.0000</td>\n      <td>0.8929</td>\n      <td>0.9129</td>\n      <td>0.8958</td>\n      <td>919.0000</td>\n    </tr>\n    <tr>\n      <th>28</th>\n      <td>xgb_imbalance_split_20%</td>\n      <td>0.9097</td>\n      <td>0.9233</td>\n      <td>0.9813</td>\n      <td>0.9514</td>\n      <td>1656.0000</td>\n      <td>0.6026</td>\n      <td>0.2582</td>\n      <td>0.3615</td>\n      <td>182.0000</td>\n      <td>0.7629</td>\n      <td>0.6198</td>\n      <td>0.6565</td>\n      <td>1838.0000</td>\n      <td>0.8915</td>\n      <td>0.9097</td>\n      <td>0.8930</td>\n      <td>1838.0000</td>\n    </tr>\n    <tr>\n      <th>29</th>\n      <td>xgb_imbalance_split_30%</td>\n      <td>0.9082</td>\n      <td>0.9178</td>\n      <td>0.9858</td>\n      <td>0.9506</td>\n      <td>2470.0000</td>\n      <td>0.6602</td>\n      <td>0.2378</td>\n      <td>0.3496</td>\n      <td>286.0000</td>\n      <td>0.7890</td>\n      <td>0.6118</td>\n      <td>0.6501</td>\n      <td>2756.0000</td>\n      <td>0.8911</td>\n      <td>0.9082</td>\n      <td>0.8882</td>\n      <td>2756.0000</td>\n    </tr>\n    <tr>\n      <th>30</th>\n      <td>xgb_oversample_split_10%</td>\n      <td>0.9304</td>\n      <td>0.8970</td>\n      <td>0.9656</td>\n      <td>0.9301</td>\n      <td>785.0000</td>\n      <td>0.9659</td>\n      <td>0.8979</td>\n      <td>0.9307</td>\n      <td>852.0000</td>\n      <td>0.9315</td>\n      <td>0.9317</td>\n      <td>0.9304</td>\n      <td>1637.0000</td>\n      <td>0.9329</td>\n      <td>0.9304</td>\n      <td>0.9304</td>\n      <td>1637.0000</td>\n    </tr>\n    <tr>\n      <th>31</th>\n      <td>xgb_oversample_split_20%</td>\n      <td>0.9325</td>\n      <td>0.9070</td>\n      <td>0.9624</td>\n      <td>0.9339</td>\n      <td>1622.0000</td>\n      <td>0.9607</td>\n      <td>0.9031</td>\n      <td>0.9310</td>\n      <td>1651.0000</td>\n      <td>0.9339</td>\n      <td>0.9327</td>\n      <td>0.9324</td>\n      <td>3273.0000</td>\n      <td>0.9341</td>\n      <td>0.9325</td>\n      <td>0.9324</td>\n      <td>3273.0000</td>\n    </tr>\n    <tr>\n      <th>32</th>\n      <td>xgb_oversample_split_30%</td>\n      <td>0.9334</td>\n      <td>0.9160</td>\n      <td>0.9538</td>\n      <td>0.9345</td>\n      <td>2447.0000</td>\n      <td>0.9522</td>\n      <td>0.9131</td>\n      <td>0.9322</td>\n      <td>2463.0000</td>\n      <td>0.9341</td>\n      <td>0.9335</td>\n      <td>0.9334</td>\n      <td>4910.0000</td>\n      <td>0.9341</td>\n      <td>0.9334</td>\n      <td>0.9334</td>\n      <td>4910.0000</td>\n    </tr>\n    <tr>\n      <th>33</th>\n      <td>xgb_undersample_split_10%</td>\n      <td>0.7363</td>\n      <td>0.7551</td>\n      <td>0.7184</td>\n      <td>0.7363</td>\n      <td>103.0000</td>\n      <td>0.7184</td>\n      <td>0.7551</td>\n      <td>0.7363</td>\n      <td>98.0000</td>\n      <td>0.7368</td>\n      <td>0.7368</td>\n      <td>0.7363</td>\n      <td>201.0000</td>\n      <td>0.7372</td>\n      <td>0.7363</td>\n      <td>0.7363</td>\n      <td>201.0000</td>\n    </tr>\n    <tr>\n      <th>34</th>\n      <td>xgb_undersample_split_20%</td>\n      <td>0.6816</td>\n      <td>0.6522</td>\n      <td>0.7068</td>\n      <td>0.6784</td>\n      <td>191.0000</td>\n      <td>0.7128</td>\n      <td>0.6588</td>\n      <td>0.6847</td>\n      <td>211.0000</td>\n      <td>0.6825</td>\n      <td>0.6828</td>\n      <td>0.6816</td>\n      <td>402.0000</td>\n      <td>0.6840</td>\n      <td>0.6816</td>\n      <td>0.6817</td>\n      <td>402.0000</td>\n    </tr>\n    <tr>\n      <th>35</th>\n      <td>xgb_undersample_split_30%</td>\n      <td>0.7065</td>\n      <td>0.6721</td>\n      <td>0.7270</td>\n      <td>0.6985</td>\n      <td>282.0000</td>\n      <td>0.7416</td>\n      <td>0.6885</td>\n      <td>0.7141</td>\n      <td>321.0000</td>\n      <td>0.7069</td>\n      <td>0.7077</td>\n      <td>0.7063</td>\n      <td>603.0000</td>\n      <td>0.7091</td>\n      <td>0.7065</td>\n      <td>0.7068</td>\n      <td>603.0000</td>\n    </tr>\n    <tr>\n      <th>36</th>\n      <td>svm_imbalance_split_10%</td>\n      <td>0.9249</td>\n      <td>0.9256</td>\n      <td>0.9976</td>\n      <td>0.9602</td>\n      <td>835.0000</td>\n      <td>0.8947</td>\n      <td>0.2024</td>\n      <td>0.3301</td>\n      <td>84.0000</td>\n      <td>0.9101</td>\n      <td>0.6000</td>\n      <td>0.6452</td>\n      <td>919.0000</td>\n      <td>0.9227</td>\n      <td>0.9249</td>\n      <td>0.9026</td>\n      <td>919.0000</td>\n    </tr>\n    <tr>\n      <th>37</th>\n      <td>svm_imbalance_split_20%</td>\n      <td>0.9168</td>\n      <td>0.9191</td>\n      <td>0.9952</td>\n      <td>0.9556</td>\n      <td>1656.0000</td>\n      <td>0.8222</td>\n      <td>0.2033</td>\n      <td>0.3260</td>\n      <td>182.0000</td>\n      <td>0.8707</td>\n      <td>0.5992</td>\n      <td>0.6408</td>\n      <td>1838.0000</td>\n      <td>0.9095</td>\n      <td>0.9168</td>\n      <td>0.8933</td>\n      <td>1838.0000</td>\n    </tr>\n    <tr>\n      <th>38</th>\n      <td>svm_imbalance_split_30%</td>\n      <td>0.9126</td>\n      <td>0.9129</td>\n      <td>0.9976</td>\n      <td>0.9534</td>\n      <td>2470.0000</td>\n      <td>0.8947</td>\n      <td>0.1783</td>\n      <td>0.2974</td>\n      <td>286.0000</td>\n      <td>0.9038</td>\n      <td>0.5879</td>\n      <td>0.6254</td>\n      <td>2756.0000</td>\n      <td>0.9110</td>\n      <td>0.9126</td>\n      <td>0.8853</td>\n      <td>2756.0000</td>\n    </tr>\n    <tr>\n      <th>39</th>\n      <td>svm_oversample_split_10%</td>\n      <td>0.8125</td>\n      <td>0.8003</td>\n      <td>0.8115</td>\n      <td>0.8058</td>\n      <td>785.0000</td>\n      <td>0.8240</td>\n      <td>0.8134</td>\n      <td>0.8187</td>\n      <td>852.0000</td>\n      <td>0.8121</td>\n      <td>0.8124</td>\n      <td>0.8122</td>\n      <td>1637.0000</td>\n      <td>0.8126</td>\n      <td>0.8125</td>\n      <td>0.8125</td>\n      <td>1637.0000</td>\n    </tr>\n    <tr>\n      <th>40</th>\n      <td>svm_oversample_split_20%</td>\n      <td>0.8106</td>\n      <td>0.8085</td>\n      <td>0.8095</td>\n      <td>0.8090</td>\n      <td>1622.0000</td>\n      <td>0.8126</td>\n      <td>0.8116</td>\n      <td>0.8121</td>\n      <td>1651.0000</td>\n      <td>0.8106</td>\n      <td>0.8106</td>\n      <td>0.8106</td>\n      <td>3273.0000</td>\n      <td>0.8106</td>\n      <td>0.8106</td>\n      <td>0.8106</td>\n      <td>3273.0000</td>\n    </tr>\n    <tr>\n      <th>41</th>\n      <td>svm_oversample_split_30%</td>\n      <td>0.8094</td>\n      <td>0.8154</td>\n      <td>0.7981</td>\n      <td>0.8067</td>\n      <td>2447.0000</td>\n      <td>0.8036</td>\n      <td>0.8205</td>\n      <td>0.8120</td>\n      <td>2463.0000</td>\n      <td>0.8095</td>\n      <td>0.8093</td>\n      <td>0.8093</td>\n      <td>4910.0000</td>\n      <td>0.8095</td>\n      <td>0.8094</td>\n      <td>0.8093</td>\n      <td>4910.0000</td>\n    </tr>\n    <tr>\n      <th>42</th>\n      <td>svm_undersample_split_10%</td>\n      <td>0.7413</td>\n      <td>0.7339</td>\n      <td>0.7767</td>\n      <td>0.7547</td>\n      <td>103.0000</td>\n      <td>0.7500</td>\n      <td>0.7041</td>\n      <td>0.7263</td>\n      <td>98.0000</td>\n      <td>0.7420</td>\n      <td>0.7404</td>\n      <td>0.7405</td>\n      <td>201.0000</td>\n      <td>0.7418</td>\n      <td>0.7413</td>\n      <td>0.7409</td>\n      <td>201.0000</td>\n    </tr>\n    <tr>\n      <th>43</th>\n      <td>svm_undersample_split_20%</td>\n      <td>0.7289</td>\n      <td>0.6971</td>\n      <td>0.7592</td>\n      <td>0.7268</td>\n      <td>191.0000</td>\n      <td>0.7629</td>\n      <td>0.7014</td>\n      <td>0.7309</td>\n      <td>211.0000</td>\n      <td>0.7300</td>\n      <td>0.7303</td>\n      <td>0.7288</td>\n      <td>402.0000</td>\n      <td>0.7316</td>\n      <td>0.7289</td>\n      <td>0.7289</td>\n      <td>402.0000</td>\n    </tr>\n    <tr>\n      <th>44</th>\n      <td>svm_undersample_split_30%</td>\n      <td>0.7247</td>\n      <td>0.6824</td>\n      <td>0.7695</td>\n      <td>0.7233</td>\n      <td>282.0000</td>\n      <td>0.7719</td>\n      <td>0.6854</td>\n      <td>0.7261</td>\n      <td>321.0000</td>\n      <td>0.7272</td>\n      <td>0.7274</td>\n      <td>0.7247</td>\n      <td>603.0000</td>\n      <td>0.7301</td>\n      <td>0.7247</td>\n      <td>0.7248</td>\n      <td>603.0000</td>\n    </tr>\n  </tbody>\n</table>\n</div>"
     },
     "execution_count": 27,
     "metadata": {},
     "output_type": "execute_result"
    }
   ],
   "source": [
    "# Define the scenarios\n",
    "scenarios = [\n",
    "   ('dt','imbalance', 0.1),\n",
    "    ('dt','imbalance', 0.2),\n",
    "    ('dt','imbalance', 0.3),\n",
    "    ('dt','oversample', 0.1),\n",
    "    ('dt','oversample', 0.2),\n",
    "    ('dt','oversample', 0.3),\n",
    "    ('dt','undersample', 0.1),\n",
    "    ('dt','undersample', 0.2),\n",
    "    ('dt','undersample', 0.3),\n",
    "    ('rf','imbalance', 0.1),\n",
    "    ('rf','imbalance', 0.2),\n",
    "    ('rf','imbalance', 0.3),\n",
    "    ('rf','oversample', 0.1),\n",
    "    ('rf','oversample', 0.2),\n",
    "    ('rf','oversample', 0.3),\n",
    "    ('rf','undersample', 0.1),\n",
    "    ('rf','undersample', 0.2),\n",
    "    ('rf','undersample', 0.3),\n",
    "    ('knn','imbalance', 0.1),\n",
    "    ('knn','imbalance', 0.2),\n",
    "    ('knn','imbalance', 0.3),\n",
    "    ('knn','oversample', 0.1),\n",
    "    ('knn','oversample', 0.2),\n",
    "    ('knn','oversample', 0.3),\n",
    "    ('knn','undersample', 0.1),\n",
    "    ('knn','undersample', 0.2),\n",
    "    ('knn','undersample', 0.3),\n",
    "    ('xgb','imbalance', 0.1),\n",
    "    ('xgb','imbalance', 0.2),\n",
    "    ('xgb','imbalance', 0.3),\n",
    "    ('xgb','oversample', 0.1),\n",
    "    ('xgb','oversample', 0.2),\n",
    "    ('xgb','oversample', 0.3),\n",
    "    ('xgb','undersample', 0.1),\n",
    "    ('xgb','undersample', 0.2),\n",
    "    ('xgb','undersample', 0.3),\n",
    "    ('svm','imbalance', 0.1),\n",
    "    ('svm','imbalance', 0.2),\n",
    "    ('svm','imbalance', 0.3),\n",
    "    ('svm','oversample', 0.1),\n",
    "    ('svm','oversample', 0.2),\n",
    "    ('svm','oversample', 0.3),\n",
    "    ('svm','undersample', 0.1),\n",
    "    ('svm','undersample', 0.2),\n",
    "    ('svm','undersample', 0.3),\n",
    "]\n",
    "\n",
    "# Create an empty dataframe to store the results\n",
    "results_df = pd.DataFrame()\n",
    "\n",
    "# Loop through each scenario\n",
    "for classifier, balance_method, test_size in scenarios:\n",
    "    # Run the experiment\n",
    "    report, conf_matrix = run_experiment(raw_df, balance_method, test_size, classifier)\n",
    "    \n",
    "    # Flatten the classification report dict\n",
    "    report_flat = {}\n",
    "\n",
    "     # Add the scenario details\n",
    "    report_flat['scenario'] = f'{classifier}_{balance_method}_split_{int(test_size*100)}%'\n",
    "\n",
    "    for key_outer, value_outer in report.items():\n",
    "        if isinstance(value_outer, dict):\n",
    "            for key_inner, value_inner in value_outer.items():\n",
    "                report_flat[f'{key_outer}-{key_inner}'] = value_inner\n",
    "        else:\n",
    "            report_flat[key_outer] = value_outer\n",
    "    \n",
    "   \n",
    "    \n",
    "    # Append the result to the dataframe\n",
    "    # results_df = results_df.append(report_flat, ignore_index=True)\n",
    "    results_df = pd.concat([results_df, pd.DataFrame([report_flat])], ignore_index=True)\n",
    "\n",
    "\n",
    "    # Print and plot the confusion matrix\n",
    "    # print(f\"\\nConfusion Matrix for {balance_method} with test size {test_size*100}%:\")\n",
    "    # print(conf_matrix)\n",
    "    # plt.figure(figsize=(8, 6))\n",
    "    # sns.heatmap(conf_matrix, annot=True, fmt='d', cmap='Blues', cbar=False,\n",
    "    #             xticklabels=['No CVD', 'CVD'], yticklabels=['No CVD', 'CVD'])\n",
    "    # plt.xlabel('Predicted')\n",
    "    # plt.ylabel('Actual')\n",
    "    # plt.title(f'Confusion Matrix: {balance_method} - Test Size {int(test_size*100)}%')\n",
    "    # plt.show()\n",
    "    \n",
    "# Set precision for float display\n",
    "pd.options.display.float_format = '{:.4f}'.format\n",
    "\n",
    "desired_columns = [\n",
    "    'scenario', 'accuracy',\n",
    "    '0-precision', '0-recall', '0-f1-score', '0-support',\n",
    "    '1-precision', '1-recall', '1-f1-score', '1-support',\n",
    "    'macro avg-precision', 'macro avg-recall', 'macro avg-f1-score', 'macro avg-support',\n",
    "    'weighted avg-precision', 'weighted avg-recall', 'weighted avg-f1-score', 'weighted avg-support'\n",
    "]\n",
    "\n",
    "# Reorder columns in results_df\n",
    "results_df = results_df[desired_columns]\n",
    "\n",
    "results_df\n"
   ]
  },
  {
   "cell_type": "code",
   "execution_count": 27,
   "id": "d4cf2b0267bfbc23",
   "metadata": {
    "collapsed": false,
    "ExecuteTime": {
     "end_time": "2024-06-27T15:26:15.779964Z",
     "start_time": "2024-06-27T15:26:15.777265Z"
    }
   },
   "outputs": [],
   "source": []
  }
 ],
 "metadata": {
  "kernelspec": {
   "display_name": "Python 3",
   "language": "python",
   "name": "python3"
  },
  "language_info": {
   "codemirror_mode": {
    "name": "ipython",
    "version": 3
   },
   "file_extension": ".py",
   "mimetype": "text/x-python",
   "name": "python",
   "nbconvert_exporter": "python",
   "pygments_lexer": "ipython3",
   "version": "3.11.4"
  }
 },
 "nbformat": 4,
 "nbformat_minor": 5
}
