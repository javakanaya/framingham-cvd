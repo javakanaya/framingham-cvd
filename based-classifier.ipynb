{
 "cells": [
  {
   "cell_type": "markdown",
   "id": "fde6f38ed6991cf8",
   "metadata": {
    "collapsed": false
   },
   "source": [
    "# Import Libraries"
   ]
  },
  {
   "cell_type": "code",
   "execution_count": 1,
   "id": "initial_id",
   "metadata": {
    "collapsed": true,
    "ExecuteTime": {
     "end_time": "2024-06-22T04:20:29.312008Z",
     "start_time": "2024-06-22T04:20:28.815268Z"
    }
   },
   "outputs": [],
   "source": [
    "import pandas as pd\n",
    "from sklearn.model_selection import train_test_split\n",
    "import seaborn as sns\n",
    "import matplotlib.pyplot as plt\n",
    "from lazypredict.Supervised import LazyClassifier\n",
    "from sklearn.preprocessing import StandardScaler\n",
    "from sklearn.tree import DecisionTreeClassifier\n",
    "from sklearn.metrics import classification_report, confusion_matrix\n",
    "from sklearn.ensemble import RandomForestClassifier\n",
    "from sklearn.svm import SVC\n",
    "from sklearn.neighbors import KNeighborsClassifier\n",
    "from xgboost import XGBClassifier"
   ]
  },
  {
   "cell_type": "markdown",
   "id": "8fb10a87ca369896",
   "metadata": {
    "collapsed": false
   },
   "source": [
    "# Import Dataset"
   ]
  },
  {
   "cell_type": "code",
   "execution_count": 2,
   "id": "2c5d9183ac35ebb7",
   "metadata": {
    "collapsed": false,
    "ExecuteTime": {
     "end_time": "2024-06-22T04:20:29.335162Z",
     "start_time": "2024-06-22T04:20:29.311915Z"
    }
   },
   "outputs": [],
   "source": [
    "# fetch dataset \n",
    "raw_df = pd.read_csv('dataset/Framingham Dataset.csv')"
   ]
  },
  {
   "cell_type": "code",
   "execution_count": 3,
   "id": "ae6f53d0ed40fadb",
   "metadata": {
    "collapsed": false,
    "ExecuteTime": {
     "end_time": "2024-06-22T04:20:29.346817Z",
     "start_time": "2024-06-22T04:20:29.336417Z"
    }
   },
   "outputs": [
    {
     "data": {
      "text/plain": "        RANDID  SEX  TOTCHOL  AGE  SYSBP  DIABP  CURSMOKE  CIGPDAY   BMI  \\\n0         2448    1   195.00   39 106.00  70.00         0     0.00 26.97   \n1         2448    1   209.00   52 121.00  66.00         0     0.00   NaN   \n2         6238    2   250.00   46 121.00  81.00         0     0.00 28.73   \n3         6238    2   260.00   52 105.00  69.50         0     0.00 29.43   \n4         6238    2   237.00   58 108.00  66.00         0     0.00 28.50   \n...        ...  ...      ...  ...    ...    ...       ...      ...   ...   \n11622  9998212    1   173.00   46 126.00  82.00         0     0.00 19.17   \n11623  9998212    1   153.00   52 143.00  89.00         0     0.00 25.74   \n11624  9999312    2   196.00   39 133.00  86.00         1    30.00 20.91   \n11625  9999312    2   240.00   46 138.00  79.00         1    20.00 26.39   \n11626  9999312    2      NaN   50 147.00  96.00         1    10.00 24.19   \n\n       DIABETES  ...  CVD  HYPERTEN  TIMEAP  TIMEMI  TIMEMIFC  TIMECHD  \\\n0             0  ...    1         0    8766    6438      6438     6438   \n1             0  ...    1         0    8766    6438      6438     6438   \n2             0  ...    0         0    8766    8766      8766     8766   \n3             0  ...    0         0    8766    8766      8766     8766   \n4             0  ...    0         0    8766    8766      8766     8766   \n...         ...  ...  ...       ...     ...     ...       ...      ...   \n11622         0  ...    0         1    8766    8766      8766     8766   \n11623         0  ...    0         1    8766    8766      8766     8766   \n11624         0  ...    0         1    8766    8766      8766     8766   \n11625         0  ...    0         1    8766    8766      8766     8766   \n11626         0  ...    0         1    8766    8766      8766     8766   \n\n       TIMESTRK  TIMECVD  TIMEDTH  TIMEHYP  \n0          8766     6438     8766     8766  \n1          8766     6438     8766     8766  \n2          8766     8766     8766     8766  \n3          8766     8766     8766     8766  \n4          8766     8766     8766     8766  \n...         ...      ...      ...      ...  \n11622      8766     8766     8766        0  \n11623      8766     8766     8766        0  \n11624      8766     8766     8766     4201  \n11625      8766     8766     8766     4201  \n11626      8766     8766     8766     4201  \n\n[11627 rows x 39 columns]",
      "text/html": "<div>\n<style scoped>\n    .dataframe tbody tr th:only-of-type {\n        vertical-align: middle;\n    }\n\n    .dataframe tbody tr th {\n        vertical-align: top;\n    }\n\n    .dataframe thead th {\n        text-align: right;\n    }\n</style>\n<table border=\"1\" class=\"dataframe\">\n  <thead>\n    <tr style=\"text-align: right;\">\n      <th></th>\n      <th>RANDID</th>\n      <th>SEX</th>\n      <th>TOTCHOL</th>\n      <th>AGE</th>\n      <th>SYSBP</th>\n      <th>DIABP</th>\n      <th>CURSMOKE</th>\n      <th>CIGPDAY</th>\n      <th>BMI</th>\n      <th>DIABETES</th>\n      <th>...</th>\n      <th>CVD</th>\n      <th>HYPERTEN</th>\n      <th>TIMEAP</th>\n      <th>TIMEMI</th>\n      <th>TIMEMIFC</th>\n      <th>TIMECHD</th>\n      <th>TIMESTRK</th>\n      <th>TIMECVD</th>\n      <th>TIMEDTH</th>\n      <th>TIMEHYP</th>\n    </tr>\n  </thead>\n  <tbody>\n    <tr>\n      <th>0</th>\n      <td>2448</td>\n      <td>1</td>\n      <td>195.00</td>\n      <td>39</td>\n      <td>106.00</td>\n      <td>70.00</td>\n      <td>0</td>\n      <td>0.00</td>\n      <td>26.97</td>\n      <td>0</td>\n      <td>...</td>\n      <td>1</td>\n      <td>0</td>\n      <td>8766</td>\n      <td>6438</td>\n      <td>6438</td>\n      <td>6438</td>\n      <td>8766</td>\n      <td>6438</td>\n      <td>8766</td>\n      <td>8766</td>\n    </tr>\n    <tr>\n      <th>1</th>\n      <td>2448</td>\n      <td>1</td>\n      <td>209.00</td>\n      <td>52</td>\n      <td>121.00</td>\n      <td>66.00</td>\n      <td>0</td>\n      <td>0.00</td>\n      <td>NaN</td>\n      <td>0</td>\n      <td>...</td>\n      <td>1</td>\n      <td>0</td>\n      <td>8766</td>\n      <td>6438</td>\n      <td>6438</td>\n      <td>6438</td>\n      <td>8766</td>\n      <td>6438</td>\n      <td>8766</td>\n      <td>8766</td>\n    </tr>\n    <tr>\n      <th>2</th>\n      <td>6238</td>\n      <td>2</td>\n      <td>250.00</td>\n      <td>46</td>\n      <td>121.00</td>\n      <td>81.00</td>\n      <td>0</td>\n      <td>0.00</td>\n      <td>28.73</td>\n      <td>0</td>\n      <td>...</td>\n      <td>0</td>\n      <td>0</td>\n      <td>8766</td>\n      <td>8766</td>\n      <td>8766</td>\n      <td>8766</td>\n      <td>8766</td>\n      <td>8766</td>\n      <td>8766</td>\n      <td>8766</td>\n    </tr>\n    <tr>\n      <th>3</th>\n      <td>6238</td>\n      <td>2</td>\n      <td>260.00</td>\n      <td>52</td>\n      <td>105.00</td>\n      <td>69.50</td>\n      <td>0</td>\n      <td>0.00</td>\n      <td>29.43</td>\n      <td>0</td>\n      <td>...</td>\n      <td>0</td>\n      <td>0</td>\n      <td>8766</td>\n      <td>8766</td>\n      <td>8766</td>\n      <td>8766</td>\n      <td>8766</td>\n      <td>8766</td>\n      <td>8766</td>\n      <td>8766</td>\n    </tr>\n    <tr>\n      <th>4</th>\n      <td>6238</td>\n      <td>2</td>\n      <td>237.00</td>\n      <td>58</td>\n      <td>108.00</td>\n      <td>66.00</td>\n      <td>0</td>\n      <td>0.00</td>\n      <td>28.50</td>\n      <td>0</td>\n      <td>...</td>\n      <td>0</td>\n      <td>0</td>\n      <td>8766</td>\n      <td>8766</td>\n      <td>8766</td>\n      <td>8766</td>\n      <td>8766</td>\n      <td>8766</td>\n      <td>8766</td>\n      <td>8766</td>\n    </tr>\n    <tr>\n      <th>...</th>\n      <td>...</td>\n      <td>...</td>\n      <td>...</td>\n      <td>...</td>\n      <td>...</td>\n      <td>...</td>\n      <td>...</td>\n      <td>...</td>\n      <td>...</td>\n      <td>...</td>\n      <td>...</td>\n      <td>...</td>\n      <td>...</td>\n      <td>...</td>\n      <td>...</td>\n      <td>...</td>\n      <td>...</td>\n      <td>...</td>\n      <td>...</td>\n      <td>...</td>\n      <td>...</td>\n    </tr>\n    <tr>\n      <th>11622</th>\n      <td>9998212</td>\n      <td>1</td>\n      <td>173.00</td>\n      <td>46</td>\n      <td>126.00</td>\n      <td>82.00</td>\n      <td>0</td>\n      <td>0.00</td>\n      <td>19.17</td>\n      <td>0</td>\n      <td>...</td>\n      <td>0</td>\n      <td>1</td>\n      <td>8766</td>\n      <td>8766</td>\n      <td>8766</td>\n      <td>8766</td>\n      <td>8766</td>\n      <td>8766</td>\n      <td>8766</td>\n      <td>0</td>\n    </tr>\n    <tr>\n      <th>11623</th>\n      <td>9998212</td>\n      <td>1</td>\n      <td>153.00</td>\n      <td>52</td>\n      <td>143.00</td>\n      <td>89.00</td>\n      <td>0</td>\n      <td>0.00</td>\n      <td>25.74</td>\n      <td>0</td>\n      <td>...</td>\n      <td>0</td>\n      <td>1</td>\n      <td>8766</td>\n      <td>8766</td>\n      <td>8766</td>\n      <td>8766</td>\n      <td>8766</td>\n      <td>8766</td>\n      <td>8766</td>\n      <td>0</td>\n    </tr>\n    <tr>\n      <th>11624</th>\n      <td>9999312</td>\n      <td>2</td>\n      <td>196.00</td>\n      <td>39</td>\n      <td>133.00</td>\n      <td>86.00</td>\n      <td>1</td>\n      <td>30.00</td>\n      <td>20.91</td>\n      <td>0</td>\n      <td>...</td>\n      <td>0</td>\n      <td>1</td>\n      <td>8766</td>\n      <td>8766</td>\n      <td>8766</td>\n      <td>8766</td>\n      <td>8766</td>\n      <td>8766</td>\n      <td>8766</td>\n      <td>4201</td>\n    </tr>\n    <tr>\n      <th>11625</th>\n      <td>9999312</td>\n      <td>2</td>\n      <td>240.00</td>\n      <td>46</td>\n      <td>138.00</td>\n      <td>79.00</td>\n      <td>1</td>\n      <td>20.00</td>\n      <td>26.39</td>\n      <td>0</td>\n      <td>...</td>\n      <td>0</td>\n      <td>1</td>\n      <td>8766</td>\n      <td>8766</td>\n      <td>8766</td>\n      <td>8766</td>\n      <td>8766</td>\n      <td>8766</td>\n      <td>8766</td>\n      <td>4201</td>\n    </tr>\n    <tr>\n      <th>11626</th>\n      <td>9999312</td>\n      <td>2</td>\n      <td>NaN</td>\n      <td>50</td>\n      <td>147.00</td>\n      <td>96.00</td>\n      <td>1</td>\n      <td>10.00</td>\n      <td>24.19</td>\n      <td>0</td>\n      <td>...</td>\n      <td>0</td>\n      <td>1</td>\n      <td>8766</td>\n      <td>8766</td>\n      <td>8766</td>\n      <td>8766</td>\n      <td>8766</td>\n      <td>8766</td>\n      <td>8766</td>\n      <td>4201</td>\n    </tr>\n  </tbody>\n</table>\n<p>11627 rows × 39 columns</p>\n</div>"
     },
     "execution_count": 3,
     "metadata": {},
     "output_type": "execute_result"
    }
   ],
   "source": [
    "raw_df"
   ]
  },
  {
   "cell_type": "markdown",
   "id": "2582fdbb255c3adc",
   "metadata": {
    "collapsed": false
   },
   "source": [
    "# EDA"
   ]
  },
  {
   "cell_type": "code",
   "execution_count": 4,
   "id": "70604c551ae57654",
   "metadata": {
    "collapsed": false,
    "ExecuteTime": {
     "end_time": "2024-06-22T04:20:29.354634Z",
     "start_time": "2024-06-22T04:20:29.346306Z"
    }
   },
   "outputs": [
    {
     "name": "stdout",
     "output_type": "stream",
     "text": [
      "<class 'pandas.core.frame.DataFrame'>\n",
      "RangeIndex: 11627 entries, 0 to 11626\n",
      "Data columns (total 39 columns):\n",
      " #   Column    Non-Null Count  Dtype  \n",
      "---  ------    --------------  -----  \n",
      " 0   RANDID    11627 non-null  int64  \n",
      " 1   SEX       11627 non-null  int64  \n",
      " 2   TOTCHOL   11218 non-null  float64\n",
      " 3   AGE       11627 non-null  int64  \n",
      " 4   SYSBP     11627 non-null  float64\n",
      " 5   DIABP     11627 non-null  float64\n",
      " 6   CURSMOKE  11627 non-null  int64  \n",
      " 7   CIGPDAY   11548 non-null  float64\n",
      " 8   BMI       11575 non-null  float64\n",
      " 9   DIABETES  11627 non-null  int64  \n",
      " 10  BPMEDS    11034 non-null  float64\n",
      " 11  HEARTRTE  11621 non-null  float64\n",
      " 12  GLUCOSE   10187 non-null  float64\n",
      " 13  educ      11332 non-null  float64\n",
      " 14  PREVCHD   11627 non-null  int64  \n",
      " 15  PREVAP    11627 non-null  int64  \n",
      " 16  PREVMI    11627 non-null  int64  \n",
      " 17  PREVSTRK  11627 non-null  int64  \n",
      " 18  PREVHYP   11627 non-null  int64  \n",
      " 19  TIME      11627 non-null  int64  \n",
      " 20  PERIOD    11627 non-null  int64  \n",
      " 21  HDLC      3027 non-null   float64\n",
      " 22  LDLC      3026 non-null   float64\n",
      " 23  DEATH     11627 non-null  int64  \n",
      " 24  ANGINA    11627 non-null  int64  \n",
      " 25  HOSPMI    11627 non-null  int64  \n",
      " 26  MI_FCHD   11627 non-null  int64  \n",
      " 27  ANYCHD    11627 non-null  int64  \n",
      " 28  STROKE    11627 non-null  int64  \n",
      " 29  CVD       11627 non-null  int64  \n",
      " 30  HYPERTEN  11627 non-null  int64  \n",
      " 31  TIMEAP    11627 non-null  int64  \n",
      " 32  TIMEMI    11627 non-null  int64  \n",
      " 33  TIMEMIFC  11627 non-null  int64  \n",
      " 34  TIMECHD   11627 non-null  int64  \n",
      " 35  TIMESTRK  11627 non-null  int64  \n",
      " 36  TIMECVD   11627 non-null  int64  \n",
      " 37  TIMEDTH   11627 non-null  int64  \n",
      " 38  TIMEHYP   11627 non-null  int64  \n",
      "dtypes: float64(11), int64(28)\n",
      "memory usage: 3.5 MB\n"
     ]
    }
   ],
   "source": [
    "raw_df.info()"
   ]
  },
  {
   "cell_type": "code",
   "execution_count": 5,
   "id": "90eb658d5bc81fb4",
   "metadata": {
    "collapsed": false,
    "ExecuteTime": {
     "end_time": "2024-06-22T04:20:29.373119Z",
     "start_time": "2024-06-22T04:20:29.355585Z"
    }
   },
   "outputs": [
    {
     "name": "stdout",
     "output_type": "stream",
     "text": [
      "Categorical: []\n",
      "Numerical: ['RANDID', 'SEX', 'TOTCHOL', 'AGE', 'SYSBP', 'DIABP', 'CURSMOKE', 'CIGPDAY', 'BMI', 'DIABETES', 'BPMEDS', 'HEARTRTE', 'GLUCOSE', 'educ', 'PREVCHD', 'PREVAP', 'PREVMI', 'PREVSTRK', 'PREVHYP', 'TIME', 'PERIOD', 'HDLC', 'LDLC', 'DEATH', 'ANGINA', 'HOSPMI', 'MI_FCHD', 'ANYCHD', 'STROKE', 'CVD', 'HYPERTEN', 'TIMEAP', 'TIMEMI', 'TIMEMIFC', 'TIMECHD', 'TIMESTRK', 'TIMECVD', 'TIMEDTH', 'TIMEHYP']\n"
     ]
    }
   ],
   "source": [
    "# Initialize empty lists for categorical, numerical, and binary features\n",
    "categorical = []\n",
    "numerical = []\n",
    "\n",
    "# Iterate through columns and append to appropriate list\n",
    "for column in raw_df.columns:\n",
    "    if raw_df[column].dtype == 'object':\n",
    "        categorical.append(column)\n",
    "    elif raw_df[column].dtype in ['float64', 'int64']:\n",
    "        numerical.append(column)\n",
    "        \n",
    "print('Categorical:', categorical)\n",
    "print('Numerical:', numerical)\n"
   ]
  },
  {
   "cell_type": "code",
   "execution_count": 6,
   "id": "85d77dcfbe4d9d5a",
   "metadata": {
    "collapsed": false,
    "ExecuteTime": {
     "end_time": "2024-06-22T04:20:29.395462Z",
     "start_time": "2024-06-22T04:20:29.360261Z"
    }
   },
   "outputs": [],
   "source": [
    "# # Calculate number of rows and columns for the grid\n",
    "# num_cols = 3  # Number of columns in the grid\n",
    "# num_rows_numerical = (len(numerical) + num_cols - 1) // num_cols  # Calculate number of rows needed for numerical features\n",
    "# num_rows_categorical = (len(categorical) + num_cols - 1) // num_cols  # Calculate number of rows needed for categorical features\n",
    "\n",
    "# # Plot numerical features in a grid\n",
    "# plt.figure(figsize=(20, 4 * num_rows_numerical))  # Adjust height based on number of rows\n",
    "\n",
    "# for i, feature in enumerate(numerical):\n",
    "#     plt.subplot(num_rows_numerical, num_cols, i + 1)\n",
    "#     sns.histplot(data=raw_df, x=feature, bins=15, hue='CVD')\n",
    "#     plt.title(f'Histogram of {feature}')\n",
    "#     plt.xlabel(feature)\n",
    "#     plt.ylabel('Frequency')\n",
    "\n",
    "# plt.tight_layout()\n",
    "# plt.show()\n",
    "\n",
    "\n",
    "# # Plot categorical features in a grid\n",
    "# plt.figure(figsize=(20, 4 * num_rows_categorical))  # Adjust height based on number of rows\n",
    "\n",
    "# for i, feature in enumerate(categorical):\n",
    "#     plt.subplot(num_rows_categorical, num_cols, i + 1)\n",
    "#     sns.countplot(y=feature, data=raw_df, hue='CVD')\n",
    "#     plt.title(f'Bar Plot of {feature}')\n",
    "#     plt.xlabel('Count')\n",
    "#     plt.ylabel(feature)\n",
    "\n",
    "# plt.tight_layout()\n",
    "# plt.show()"
   ]
  },
  {
   "cell_type": "code",
   "execution_count": 7,
   "id": "970e2cddc2db4d2d",
   "metadata": {
    "collapsed": false,
    "ExecuteTime": {
     "end_time": "2024-06-22T04:20:29.408010Z",
     "start_time": "2024-06-22T04:20:29.363168Z"
    }
   },
   "outputs": [],
   "source": [
    "# # Get value counts for all columns\n",
    "# value_counts = {column: raw_df[column].value_counts() for column in raw_df.columns}\n",
    "\n",
    "# # Print value counts for all columns\n",
    "# for column, counts in value_counts.items():\n",
    "#     print(f\"Value counts for column '{column}':\")\n",
    "#     print(counts)\n",
    "#     print()"
   ]
  },
  {
   "cell_type": "markdown",
   "id": "94f93558350e79e3",
   "metadata": {
    "collapsed": false
   },
   "source": [
    "# Preprocessing\n",
    "## Handling Missing Values"
   ]
  },
  {
   "cell_type": "code",
   "execution_count": 8,
   "id": "6a3e2802b6df6f6f",
   "metadata": {
    "collapsed": false,
    "ExecuteTime": {
     "end_time": "2024-06-22T04:20:29.408295Z",
     "start_time": "2024-06-22T04:20:29.365898Z"
    }
   },
   "outputs": [],
   "source": [
    "# counter percentage missing value in dataset (Function)\n",
    "def missing_value(data_frame):\n",
    "    total = data_frame.isnull().sum().sort_values(ascending=False)\n",
    "    percentage = (data_frame.isnull().sum() / data_frame.isnull().count() * 100).sort_values(ascending=False)\n",
    "    dtypes = data_frame.dtypes\n",
    "    return pd.concat([total, percentage, dtypes], axis=1, keys=['Total', 'Percentage', 'Dtypes'])"
   ]
  },
  {
   "cell_type": "code",
   "execution_count": 9,
   "id": "d01f961011ee0db1",
   "metadata": {
    "collapsed": false,
    "ExecuteTime": {
     "end_time": "2024-06-22T04:20:29.410143Z",
     "start_time": "2024-06-22T04:20:29.368088Z"
    }
   },
   "outputs": [
    {
     "data": {
      "text/plain": "          Total  Percentage   Dtypes\nLDLC       8601       73.97  float64\nHDLC       8600       73.97  float64\nGLUCOSE    1440       12.38  float64\nBPMEDS      593        5.10  float64\nTOTCHOL     409        3.52  float64\neduc        295        2.54  float64\nCIGPDAY      79        0.68  float64\nBMI          52        0.45  float64\nHEARTRTE      6        0.05  float64\nTIMEAP        0        0.00    int64\nMI_FCHD       0        0.00    int64\nANYCHD        0        0.00    int64\nSTROKE        0        0.00    int64\nCVD           0        0.00    int64\nHYPERTEN      0        0.00    int64\nRANDID        0        0.00    int64\nTIMEMI        0        0.00    int64\nANGINA        0        0.00    int64\nTIMEMIFC      0        0.00    int64\nTIMECHD       0        0.00    int64\nTIMESTRK      0        0.00    int64\nTIMECVD       0        0.00    int64\nTIMEDTH       0        0.00    int64\nHOSPMI        0        0.00    int64\nTIME          0        0.00    int64\nDEATH         0        0.00    int64\nPERIOD        0        0.00    int64\nSEX           0        0.00    int64\nPREVHYP       0        0.00    int64\nPREVSTRK      0        0.00    int64\nPREVMI        0        0.00    int64\nPREVAP        0        0.00    int64\nPREVCHD       0        0.00    int64\nDIABETES      0        0.00    int64\nCURSMOKE      0        0.00    int64\nDIABP         0        0.00  float64\nSYSBP         0        0.00  float64\nAGE           0        0.00    int64\nTIMEHYP       0        0.00    int64",
      "text/html": "<div>\n<style scoped>\n    .dataframe tbody tr th:only-of-type {\n        vertical-align: middle;\n    }\n\n    .dataframe tbody tr th {\n        vertical-align: top;\n    }\n\n    .dataframe thead th {\n        text-align: right;\n    }\n</style>\n<table border=\"1\" class=\"dataframe\">\n  <thead>\n    <tr style=\"text-align: right;\">\n      <th></th>\n      <th>Total</th>\n      <th>Percentage</th>\n      <th>Dtypes</th>\n    </tr>\n  </thead>\n  <tbody>\n    <tr>\n      <th>LDLC</th>\n      <td>8601</td>\n      <td>73.97</td>\n      <td>float64</td>\n    </tr>\n    <tr>\n      <th>HDLC</th>\n      <td>8600</td>\n      <td>73.97</td>\n      <td>float64</td>\n    </tr>\n    <tr>\n      <th>GLUCOSE</th>\n      <td>1440</td>\n      <td>12.38</td>\n      <td>float64</td>\n    </tr>\n    <tr>\n      <th>BPMEDS</th>\n      <td>593</td>\n      <td>5.10</td>\n      <td>float64</td>\n    </tr>\n    <tr>\n      <th>TOTCHOL</th>\n      <td>409</td>\n      <td>3.52</td>\n      <td>float64</td>\n    </tr>\n    <tr>\n      <th>educ</th>\n      <td>295</td>\n      <td>2.54</td>\n      <td>float64</td>\n    </tr>\n    <tr>\n      <th>CIGPDAY</th>\n      <td>79</td>\n      <td>0.68</td>\n      <td>float64</td>\n    </tr>\n    <tr>\n      <th>BMI</th>\n      <td>52</td>\n      <td>0.45</td>\n      <td>float64</td>\n    </tr>\n    <tr>\n      <th>HEARTRTE</th>\n      <td>6</td>\n      <td>0.05</td>\n      <td>float64</td>\n    </tr>\n    <tr>\n      <th>TIMEAP</th>\n      <td>0</td>\n      <td>0.00</td>\n      <td>int64</td>\n    </tr>\n    <tr>\n      <th>MI_FCHD</th>\n      <td>0</td>\n      <td>0.00</td>\n      <td>int64</td>\n    </tr>\n    <tr>\n      <th>ANYCHD</th>\n      <td>0</td>\n      <td>0.00</td>\n      <td>int64</td>\n    </tr>\n    <tr>\n      <th>STROKE</th>\n      <td>0</td>\n      <td>0.00</td>\n      <td>int64</td>\n    </tr>\n    <tr>\n      <th>CVD</th>\n      <td>0</td>\n      <td>0.00</td>\n      <td>int64</td>\n    </tr>\n    <tr>\n      <th>HYPERTEN</th>\n      <td>0</td>\n      <td>0.00</td>\n      <td>int64</td>\n    </tr>\n    <tr>\n      <th>RANDID</th>\n      <td>0</td>\n      <td>0.00</td>\n      <td>int64</td>\n    </tr>\n    <tr>\n      <th>TIMEMI</th>\n      <td>0</td>\n      <td>0.00</td>\n      <td>int64</td>\n    </tr>\n    <tr>\n      <th>ANGINA</th>\n      <td>0</td>\n      <td>0.00</td>\n      <td>int64</td>\n    </tr>\n    <tr>\n      <th>TIMEMIFC</th>\n      <td>0</td>\n      <td>0.00</td>\n      <td>int64</td>\n    </tr>\n    <tr>\n      <th>TIMECHD</th>\n      <td>0</td>\n      <td>0.00</td>\n      <td>int64</td>\n    </tr>\n    <tr>\n      <th>TIMESTRK</th>\n      <td>0</td>\n      <td>0.00</td>\n      <td>int64</td>\n    </tr>\n    <tr>\n      <th>TIMECVD</th>\n      <td>0</td>\n      <td>0.00</td>\n      <td>int64</td>\n    </tr>\n    <tr>\n      <th>TIMEDTH</th>\n      <td>0</td>\n      <td>0.00</td>\n      <td>int64</td>\n    </tr>\n    <tr>\n      <th>HOSPMI</th>\n      <td>0</td>\n      <td>0.00</td>\n      <td>int64</td>\n    </tr>\n    <tr>\n      <th>TIME</th>\n      <td>0</td>\n      <td>0.00</td>\n      <td>int64</td>\n    </tr>\n    <tr>\n      <th>DEATH</th>\n      <td>0</td>\n      <td>0.00</td>\n      <td>int64</td>\n    </tr>\n    <tr>\n      <th>PERIOD</th>\n      <td>0</td>\n      <td>0.00</td>\n      <td>int64</td>\n    </tr>\n    <tr>\n      <th>SEX</th>\n      <td>0</td>\n      <td>0.00</td>\n      <td>int64</td>\n    </tr>\n    <tr>\n      <th>PREVHYP</th>\n      <td>0</td>\n      <td>0.00</td>\n      <td>int64</td>\n    </tr>\n    <tr>\n      <th>PREVSTRK</th>\n      <td>0</td>\n      <td>0.00</td>\n      <td>int64</td>\n    </tr>\n    <tr>\n      <th>PREVMI</th>\n      <td>0</td>\n      <td>0.00</td>\n      <td>int64</td>\n    </tr>\n    <tr>\n      <th>PREVAP</th>\n      <td>0</td>\n      <td>0.00</td>\n      <td>int64</td>\n    </tr>\n    <tr>\n      <th>PREVCHD</th>\n      <td>0</td>\n      <td>0.00</td>\n      <td>int64</td>\n    </tr>\n    <tr>\n      <th>DIABETES</th>\n      <td>0</td>\n      <td>0.00</td>\n      <td>int64</td>\n    </tr>\n    <tr>\n      <th>CURSMOKE</th>\n      <td>0</td>\n      <td>0.00</td>\n      <td>int64</td>\n    </tr>\n    <tr>\n      <th>DIABP</th>\n      <td>0</td>\n      <td>0.00</td>\n      <td>float64</td>\n    </tr>\n    <tr>\n      <th>SYSBP</th>\n      <td>0</td>\n      <td>0.00</td>\n      <td>float64</td>\n    </tr>\n    <tr>\n      <th>AGE</th>\n      <td>0</td>\n      <td>0.00</td>\n      <td>int64</td>\n    </tr>\n    <tr>\n      <th>TIMEHYP</th>\n      <td>0</td>\n      <td>0.00</td>\n      <td>int64</td>\n    </tr>\n  </tbody>\n</table>\n</div>"
     },
     "execution_count": 9,
     "metadata": {},
     "output_type": "execute_result"
    }
   ],
   "source": [
    "missing_value(raw_df)"
   ]
  },
  {
   "cell_type": "code",
   "execution_count": 10,
   "id": "d7cfbcd89330fb28",
   "metadata": {
    "collapsed": false,
    "ExecuteTime": {
     "end_time": "2024-06-22T04:20:29.421397Z",
     "start_time": "2024-06-22T04:20:29.376142Z"
    }
   },
   "outputs": [],
   "source": [
    "def impute_median(data):\n",
    "    return data.fillna(data.median())\n",
    "\n",
    "raw_df['TOTCHOL'] = raw_df['TOTCHOL'].transform(impute_median)\n",
    "raw_df['CIGPDAY'] = raw_df['CIGPDAY'].transform(impute_median)\n",
    "raw_df['BMI'] = raw_df['BMI'].transform(impute_median)\n",
    "raw_df['BPMEDS'] = raw_df['BPMEDS'].transform(impute_median)\n",
    "raw_df['HEARTRTE'] = raw_df['HEARTRTE'].transform(impute_median)\n",
    "raw_df['GLUCOSE'] = raw_df['GLUCOSE'].transform(impute_median)\n",
    "raw_df['educ'] = raw_df['educ'].transform(impute_median)"
   ]
  },
  {
   "cell_type": "code",
   "execution_count": 11,
   "id": "415e3e6907137162",
   "metadata": {
    "collapsed": false,
    "ExecuteTime": {
     "end_time": "2024-06-22T04:20:29.426716Z",
     "start_time": "2024-06-22T04:20:29.382078Z"
    }
   },
   "outputs": [
    {
     "data": {
      "text/plain": "          Total  Percentage   Dtypes\nLDLC       8601       73.97  float64\nHDLC       8600       73.97  float64\nCVD           0        0.00    int64\nDEATH         0        0.00    int64\nANGINA        0        0.00    int64\nHOSPMI        0        0.00    int64\nMI_FCHD       0        0.00    int64\nANYCHD        0        0.00    int64\nSTROKE        0        0.00    int64\nRANDID        0        0.00    int64\nPERIOD        0        0.00    int64\nTIMEAP        0        0.00    int64\nTIMEMI        0        0.00    int64\nTIMEMIFC      0        0.00    int64\nTIMECHD       0        0.00    int64\nTIMESTRK      0        0.00    int64\nTIMECVD       0        0.00    int64\nTIMEDTH       0        0.00    int64\nHYPERTEN      0        0.00    int64\nTIME          0        0.00    int64\nSEX           0        0.00    int64\nDIABETES      0        0.00    int64\nTOTCHOL       0        0.00  float64\nAGE           0        0.00    int64\nSYSBP         0        0.00  float64\nDIABP         0        0.00  float64\nCURSMOKE      0        0.00    int64\nCIGPDAY       0        0.00  float64\nBMI           0        0.00  float64\nBPMEDS        0        0.00  float64\nPREVHYP       0        0.00    int64\nHEARTRTE      0        0.00  float64\nGLUCOSE       0        0.00  float64\neduc          0        0.00  float64\nPREVCHD       0        0.00    int64\nPREVAP        0        0.00    int64\nPREVMI        0        0.00    int64\nPREVSTRK      0        0.00    int64\nTIMEHYP       0        0.00    int64",
      "text/html": "<div>\n<style scoped>\n    .dataframe tbody tr th:only-of-type {\n        vertical-align: middle;\n    }\n\n    .dataframe tbody tr th {\n        vertical-align: top;\n    }\n\n    .dataframe thead th {\n        text-align: right;\n    }\n</style>\n<table border=\"1\" class=\"dataframe\">\n  <thead>\n    <tr style=\"text-align: right;\">\n      <th></th>\n      <th>Total</th>\n      <th>Percentage</th>\n      <th>Dtypes</th>\n    </tr>\n  </thead>\n  <tbody>\n    <tr>\n      <th>LDLC</th>\n      <td>8601</td>\n      <td>73.97</td>\n      <td>float64</td>\n    </tr>\n    <tr>\n      <th>HDLC</th>\n      <td>8600</td>\n      <td>73.97</td>\n      <td>float64</td>\n    </tr>\n    <tr>\n      <th>CVD</th>\n      <td>0</td>\n      <td>0.00</td>\n      <td>int64</td>\n    </tr>\n    <tr>\n      <th>DEATH</th>\n      <td>0</td>\n      <td>0.00</td>\n      <td>int64</td>\n    </tr>\n    <tr>\n      <th>ANGINA</th>\n      <td>0</td>\n      <td>0.00</td>\n      <td>int64</td>\n    </tr>\n    <tr>\n      <th>HOSPMI</th>\n      <td>0</td>\n      <td>0.00</td>\n      <td>int64</td>\n    </tr>\n    <tr>\n      <th>MI_FCHD</th>\n      <td>0</td>\n      <td>0.00</td>\n      <td>int64</td>\n    </tr>\n    <tr>\n      <th>ANYCHD</th>\n      <td>0</td>\n      <td>0.00</td>\n      <td>int64</td>\n    </tr>\n    <tr>\n      <th>STROKE</th>\n      <td>0</td>\n      <td>0.00</td>\n      <td>int64</td>\n    </tr>\n    <tr>\n      <th>RANDID</th>\n      <td>0</td>\n      <td>0.00</td>\n      <td>int64</td>\n    </tr>\n    <tr>\n      <th>PERIOD</th>\n      <td>0</td>\n      <td>0.00</td>\n      <td>int64</td>\n    </tr>\n    <tr>\n      <th>TIMEAP</th>\n      <td>0</td>\n      <td>0.00</td>\n      <td>int64</td>\n    </tr>\n    <tr>\n      <th>TIMEMI</th>\n      <td>0</td>\n      <td>0.00</td>\n      <td>int64</td>\n    </tr>\n    <tr>\n      <th>TIMEMIFC</th>\n      <td>0</td>\n      <td>0.00</td>\n      <td>int64</td>\n    </tr>\n    <tr>\n      <th>TIMECHD</th>\n      <td>0</td>\n      <td>0.00</td>\n      <td>int64</td>\n    </tr>\n    <tr>\n      <th>TIMESTRK</th>\n      <td>0</td>\n      <td>0.00</td>\n      <td>int64</td>\n    </tr>\n    <tr>\n      <th>TIMECVD</th>\n      <td>0</td>\n      <td>0.00</td>\n      <td>int64</td>\n    </tr>\n    <tr>\n      <th>TIMEDTH</th>\n      <td>0</td>\n      <td>0.00</td>\n      <td>int64</td>\n    </tr>\n    <tr>\n      <th>HYPERTEN</th>\n      <td>0</td>\n      <td>0.00</td>\n      <td>int64</td>\n    </tr>\n    <tr>\n      <th>TIME</th>\n      <td>0</td>\n      <td>0.00</td>\n      <td>int64</td>\n    </tr>\n    <tr>\n      <th>SEX</th>\n      <td>0</td>\n      <td>0.00</td>\n      <td>int64</td>\n    </tr>\n    <tr>\n      <th>DIABETES</th>\n      <td>0</td>\n      <td>0.00</td>\n      <td>int64</td>\n    </tr>\n    <tr>\n      <th>TOTCHOL</th>\n      <td>0</td>\n      <td>0.00</td>\n      <td>float64</td>\n    </tr>\n    <tr>\n      <th>AGE</th>\n      <td>0</td>\n      <td>0.00</td>\n      <td>int64</td>\n    </tr>\n    <tr>\n      <th>SYSBP</th>\n      <td>0</td>\n      <td>0.00</td>\n      <td>float64</td>\n    </tr>\n    <tr>\n      <th>DIABP</th>\n      <td>0</td>\n      <td>0.00</td>\n      <td>float64</td>\n    </tr>\n    <tr>\n      <th>CURSMOKE</th>\n      <td>0</td>\n      <td>0.00</td>\n      <td>int64</td>\n    </tr>\n    <tr>\n      <th>CIGPDAY</th>\n      <td>0</td>\n      <td>0.00</td>\n      <td>float64</td>\n    </tr>\n    <tr>\n      <th>BMI</th>\n      <td>0</td>\n      <td>0.00</td>\n      <td>float64</td>\n    </tr>\n    <tr>\n      <th>BPMEDS</th>\n      <td>0</td>\n      <td>0.00</td>\n      <td>float64</td>\n    </tr>\n    <tr>\n      <th>PREVHYP</th>\n      <td>0</td>\n      <td>0.00</td>\n      <td>int64</td>\n    </tr>\n    <tr>\n      <th>HEARTRTE</th>\n      <td>0</td>\n      <td>0.00</td>\n      <td>float64</td>\n    </tr>\n    <tr>\n      <th>GLUCOSE</th>\n      <td>0</td>\n      <td>0.00</td>\n      <td>float64</td>\n    </tr>\n    <tr>\n      <th>educ</th>\n      <td>0</td>\n      <td>0.00</td>\n      <td>float64</td>\n    </tr>\n    <tr>\n      <th>PREVCHD</th>\n      <td>0</td>\n      <td>0.00</td>\n      <td>int64</td>\n    </tr>\n    <tr>\n      <th>PREVAP</th>\n      <td>0</td>\n      <td>0.00</td>\n      <td>int64</td>\n    </tr>\n    <tr>\n      <th>PREVMI</th>\n      <td>0</td>\n      <td>0.00</td>\n      <td>int64</td>\n    </tr>\n    <tr>\n      <th>PREVSTRK</th>\n      <td>0</td>\n      <td>0.00</td>\n      <td>int64</td>\n    </tr>\n    <tr>\n      <th>TIMEHYP</th>\n      <td>0</td>\n      <td>0.00</td>\n      <td>int64</td>\n    </tr>\n  </tbody>\n</table>\n</div>"
     },
     "execution_count": 11,
     "metadata": {},
     "output_type": "execute_result"
    }
   ],
   "source": [
    "missing_value(raw_df)"
   ]
  },
  {
   "cell_type": "markdown",
   "id": "ca746d2a8eab5f93",
   "metadata": {
    "collapsed": false
   },
   "source": [
    "## Outliers"
   ]
  },
  {
   "cell_type": "code",
   "execution_count": 12,
   "id": "c0da9f4b2ef07213",
   "metadata": {
    "collapsed": false,
    "ExecuteTime": {
     "end_time": "2024-06-22T04:20:29.426821Z",
     "start_time": "2024-06-22T04:20:29.388965Z"
    }
   },
   "outputs": [],
   "source": [
    "# # Assuming `raw_df` is your dataframe and `numerical` is a list of numerical column names\n",
    "# fig, axes = plt.subplots(nrows=num_rows_numerical, ncols=num_cols, figsize=(15, 5 * num_rows_numerical))\n",
    "\n",
    "# # Flatten the axes array to make it easier to iterate over\n",
    "# axes = axes.flatten()\n",
    "\n",
    "# # Create box plots for each selected feature\n",
    "# for i, feature in enumerate(numerical):\n",
    "#     sns.boxplot(raw_df[feature], color='blue', ax=axes[i])\n",
    "#     axes[i].set_title(f'{feature} Distribution')\n",
    "#     axes[i].set_xlabel(f'Amount Spent on {feature}')\n",
    "#     axes[i].set_ylabel('Amount')\n",
    "\n",
    "# # Remove any extra subplots if there are fewer features than subplots\n",
    "# for j in range(i + 1, num_rows_numerical * num_cols):\n",
    "#     fig.delaxes(axes[j])\n",
    "\n",
    "# # Adjust layout\n",
    "# plt.tight_layout()\n",
    "# plt.show()\n"
   ]
  },
  {
   "cell_type": "code",
   "execution_count": 13,
   "id": "c36ef4c971586e6f",
   "metadata": {
    "collapsed": false,
    "ExecuteTime": {
     "end_time": "2024-06-22T04:20:29.454038Z",
     "start_time": "2024-06-22T04:20:29.391681Z"
    }
   },
   "outputs": [],
   "source": [
    "raw_df = raw_df[raw_df['CIGPDAY'] <= 40]\n",
    "raw_df = raw_df[(raw_df['DIABP'] > 40) & (raw_df['DIABP'] < 140)]\n",
    "raw_df = raw_df[(raw_df['BMI'] <= 50) & (raw_df['BMI'] >= 20)]\n",
    "raw_df = raw_df[raw_df['HEARTRTE'] <= 200]\n",
    "raw_df = raw_df[raw_df['GLUCOSE'] < 450]\n",
    "raw_df = raw_df[raw_df['TOTCHOL'] < 500]"
   ]
  },
  {
   "cell_type": "code",
   "execution_count": 14,
   "id": "f69487d90e540d3f",
   "metadata": {
    "collapsed": false,
    "ExecuteTime": {
     "end_time": "2024-06-22T04:20:29.467187Z",
     "start_time": "2024-06-22T04:20:29.398394Z"
    }
   },
   "outputs": [],
   "source": [
    "# import matplotlib.pyplot as plt\n",
    "# import seaborn as sns\n",
    "# import numpy as np\n",
    "\n",
    "# # Assuming `raw_df` is your dataframe and `numerical` is a list of numerical column names\n",
    "# fig, axes = plt.subplots(nrows=num_rows_numerical, ncols=num_cols, figsize=(15, 5 * num_rows_numerical))\n",
    "\n",
    "# # Flatten the axes array to make it easier to iterate over\n",
    "# axes = axes.flatten()\n",
    "\n",
    "# # Create box plots for each selected feature\n",
    "# for i, feature in enumerate(numerical):\n",
    "#     sns.boxplot(raw_df[feature], color='blue', ax=axes[i])\n",
    "#     axes[i].set_title(f'{feature} Distribution')\n",
    "#     axes[i].set_xlabel(f'Amount Spent on {feature}')\n",
    "#     axes[i].set_ylabel('Amount')\n",
    "\n",
    "# # Remove any extra subplots if there are fewer features than subplots\n",
    "# for j in range(i + 1, num_rows_numerical * num_cols):\n",
    "#     fig.delaxes(axes[j])\n",
    "\n",
    "# # Adjust layout\n",
    "# plt.tight_layout()\n",
    "# plt.show()\n"
   ]
  },
  {
   "cell_type": "markdown",
   "id": "4e9239b1905c1de8",
   "metadata": {
    "collapsed": false
   },
   "source": [
    "## Drop Absurd data"
   ]
  },
  {
   "cell_type": "code",
   "execution_count": 15,
   "id": "2baee6a5aae720df",
   "metadata": {
    "collapsed": false,
    "ExecuteTime": {
     "end_time": "2024-06-22T04:20:29.467399Z",
     "start_time": "2024-06-22T04:20:29.400489Z"
    }
   },
   "outputs": [],
   "source": [
    "raw_df.drop(columns=['LDLC', 'HDLC', 'RANDID'], inplace=True)"
   ]
  },
  {
   "cell_type": "code",
   "execution_count": 16,
   "id": "9d24527dcd898b97",
   "metadata": {
    "collapsed": false,
    "ExecuteTime": {
     "end_time": "2024-06-22T04:20:29.467476Z",
     "start_time": "2024-06-22T04:20:29.402698Z"
    }
   },
   "outputs": [],
   "source": [
    "filtered_df = raw_df[(raw_df['CVD'] == 0) & ((raw_df['MI_FCHD'] == 1) |(raw_df['HOSPMI'] == 1)| (raw_df['ANYCHD'] == 1) | (raw_df['STROKE'] == 1) | (raw_df['ANGINA'] == 1))]\n",
    "\n",
    "indices_to_drop = filtered_df.index\n",
    "raw_df.drop(indices_to_drop, inplace=True)"
   ]
  },
  {
   "cell_type": "code",
   "execution_count": 17,
   "id": "ce50480e7d3b6689",
   "metadata": {
    "collapsed": false,
    "ExecuteTime": {
     "end_time": "2024-06-22T04:20:29.469544Z",
     "start_time": "2024-06-22T04:20:29.408812Z"
    }
   },
   "outputs": [],
   "source": [
    "raw_df.drop(columns=['TIMEHYP', 'TIMEDTH', 'TIMESTRK', 'TIMECHD', 'TIMEMI', 'TIME', 'TIMEAP','TIMECVD', 'TIMEMIFC'], inplace=True)"
   ]
  },
  {
   "cell_type": "code",
   "execution_count": 18,
   "id": "64ed2312e1cabbef",
   "metadata": {
    "collapsed": false,
    "ExecuteTime": {
     "end_time": "2024-06-22T04:20:29.470156Z",
     "start_time": "2024-06-22T04:20:29.411510Z"
    }
   },
   "outputs": [],
   "source": [
    "raw_df.drop(columns=['STROKE', 'HYPERTEN', 'ANYCHD', 'HOSPMI', 'MI_FCHD'], inplace=True)"
   ]
  },
  {
   "cell_type": "markdown",
   "id": "1153ee26c897f526",
   "metadata": {
    "collapsed": false
   },
   "source": [
    "# Features Correlations"
   ]
  },
  {
   "cell_type": "code",
   "execution_count": 19,
   "id": "18e3b44cc368cc1f",
   "metadata": {
    "collapsed": false,
    "ExecuteTime": {
     "end_time": "2024-06-22T04:20:29.470260Z",
     "start_time": "2024-06-22T04:20:29.414097Z"
    }
   },
   "outputs": [],
   "source": [
    "# # Calculate correlations with 'Class_Mapped'\n",
    "# correlations = raw_df.corr()['CVD'].drop('CVD')\n",
    "\n",
    "# # Plotting the correlations with explicit hue assignment\n",
    "# plt.figure(figsize=(10, 6))\n",
    "# sns.barplot(x=correlations.index, y=correlations.values, hue=correlations.index, dodge=False, palette='viridis', legend=False)\n",
    "\n",
    "# plt.xlabel('Features')\n",
    "# plt.ylabel('Correlation with Class_Mapped')\n",
    "# plt.title('Correlation between Features and Class_Mapped')\n",
    "# plt.xticks(rotation=45)\n",
    "# plt.grid(True, axis='y', linestyle='--', alpha=0.7)\n",
    "\n",
    "# plt.tight_layout()\n",
    "# plt.show()"
   ]
  },
  {
   "cell_type": "code",
   "execution_count": 20,
   "id": "a2176545b43b2012",
   "metadata": {
    "collapsed": false,
    "ExecuteTime": {
     "end_time": "2024-06-22T04:20:29.471453Z",
     "start_time": "2024-06-22T04:20:29.416312Z"
    }
   },
   "outputs": [
    {
     "data": {
      "text/plain": "       SEX  TOTCHOL  AGE  SYSBP  DIABP  CURSMOKE  CIGPDAY   BMI  DIABETES  \\\n0        1   195.00   39 106.00  70.00         0     0.00 26.97         0   \n1        1   209.00   52 121.00  66.00         0     0.00 25.48         0   \n2        2   250.00   46 121.00  81.00         0     0.00 28.73         0   \n3        2   260.00   52 105.00  69.50         0     0.00 29.43         0   \n4        2   237.00   58 108.00  66.00         0     0.00 28.50         0   \n...    ...      ...  ...    ...    ...       ...      ...   ...       ...   \n11621    1   185.00   40 141.00  98.00         0     0.00 25.60         0   \n11623    1   153.00   52 143.00  89.00         0     0.00 25.74         0   \n11624    2   196.00   39 133.00  86.00         1    30.00 20.91         0   \n11625    2   240.00   46 138.00  79.00         1    20.00 26.39         0   \n11626    2   238.00   50 147.00  96.00         1    10.00 24.19         0   \n\n       BPMEDS  ...  educ  PREVCHD  PREVAP  PREVMI  PREVSTRK  PREVHYP  PERIOD  \\\n0        0.00  ...  4.00        0       0       0         0        0       1   \n1        0.00  ...  4.00        0       0       0         0        0       3   \n2        0.00  ...  2.00        0       0       0         0        0       1   \n3        0.00  ...  2.00        0       0       0         0        0       2   \n4        0.00  ...  2.00        0       0       0         0        0       3   \n...       ...  ...   ...      ...     ...     ...       ...      ...     ...   \n11621    0.00  ...  3.00        0       0       0         0        1       1   \n11623    0.00  ...  3.00        0       0       0         0        1       3   \n11624    0.00  ...  3.00        0       0       0         0        0       1   \n11625    0.00  ...  3.00        0       0       0         0        0       2   \n11626    0.00  ...  3.00        0       0       0         0        1       3   \n\n       DEATH  ANGINA  CVD  \n0          0       0    1  \n1          0       0    1  \n2          0       0    0  \n3          0       0    0  \n4          0       0    0  \n...      ...     ...  ...  \n11621      0       0    0  \n11623      0       0    0  \n11624      0       0    0  \n11625      0       0    0  \n11626      0       0    0  \n\n[10115 rows x 22 columns]",
      "text/html": "<div>\n<style scoped>\n    .dataframe tbody tr th:only-of-type {\n        vertical-align: middle;\n    }\n\n    .dataframe tbody tr th {\n        vertical-align: top;\n    }\n\n    .dataframe thead th {\n        text-align: right;\n    }\n</style>\n<table border=\"1\" class=\"dataframe\">\n  <thead>\n    <tr style=\"text-align: right;\">\n      <th></th>\n      <th>SEX</th>\n      <th>TOTCHOL</th>\n      <th>AGE</th>\n      <th>SYSBP</th>\n      <th>DIABP</th>\n      <th>CURSMOKE</th>\n      <th>CIGPDAY</th>\n      <th>BMI</th>\n      <th>DIABETES</th>\n      <th>BPMEDS</th>\n      <th>...</th>\n      <th>educ</th>\n      <th>PREVCHD</th>\n      <th>PREVAP</th>\n      <th>PREVMI</th>\n      <th>PREVSTRK</th>\n      <th>PREVHYP</th>\n      <th>PERIOD</th>\n      <th>DEATH</th>\n      <th>ANGINA</th>\n      <th>CVD</th>\n    </tr>\n  </thead>\n  <tbody>\n    <tr>\n      <th>0</th>\n      <td>1</td>\n      <td>195.00</td>\n      <td>39</td>\n      <td>106.00</td>\n      <td>70.00</td>\n      <td>0</td>\n      <td>0.00</td>\n      <td>26.97</td>\n      <td>0</td>\n      <td>0.00</td>\n      <td>...</td>\n      <td>4.00</td>\n      <td>0</td>\n      <td>0</td>\n      <td>0</td>\n      <td>0</td>\n      <td>0</td>\n      <td>1</td>\n      <td>0</td>\n      <td>0</td>\n      <td>1</td>\n    </tr>\n    <tr>\n      <th>1</th>\n      <td>1</td>\n      <td>209.00</td>\n      <td>52</td>\n      <td>121.00</td>\n      <td>66.00</td>\n      <td>0</td>\n      <td>0.00</td>\n      <td>25.48</td>\n      <td>0</td>\n      <td>0.00</td>\n      <td>...</td>\n      <td>4.00</td>\n      <td>0</td>\n      <td>0</td>\n      <td>0</td>\n      <td>0</td>\n      <td>0</td>\n      <td>3</td>\n      <td>0</td>\n      <td>0</td>\n      <td>1</td>\n    </tr>\n    <tr>\n      <th>2</th>\n      <td>2</td>\n      <td>250.00</td>\n      <td>46</td>\n      <td>121.00</td>\n      <td>81.00</td>\n      <td>0</td>\n      <td>0.00</td>\n      <td>28.73</td>\n      <td>0</td>\n      <td>0.00</td>\n      <td>...</td>\n      <td>2.00</td>\n      <td>0</td>\n      <td>0</td>\n      <td>0</td>\n      <td>0</td>\n      <td>0</td>\n      <td>1</td>\n      <td>0</td>\n      <td>0</td>\n      <td>0</td>\n    </tr>\n    <tr>\n      <th>3</th>\n      <td>2</td>\n      <td>260.00</td>\n      <td>52</td>\n      <td>105.00</td>\n      <td>69.50</td>\n      <td>0</td>\n      <td>0.00</td>\n      <td>29.43</td>\n      <td>0</td>\n      <td>0.00</td>\n      <td>...</td>\n      <td>2.00</td>\n      <td>0</td>\n      <td>0</td>\n      <td>0</td>\n      <td>0</td>\n      <td>0</td>\n      <td>2</td>\n      <td>0</td>\n      <td>0</td>\n      <td>0</td>\n    </tr>\n    <tr>\n      <th>4</th>\n      <td>2</td>\n      <td>237.00</td>\n      <td>58</td>\n      <td>108.00</td>\n      <td>66.00</td>\n      <td>0</td>\n      <td>0.00</td>\n      <td>28.50</td>\n      <td>0</td>\n      <td>0.00</td>\n      <td>...</td>\n      <td>2.00</td>\n      <td>0</td>\n      <td>0</td>\n      <td>0</td>\n      <td>0</td>\n      <td>0</td>\n      <td>3</td>\n      <td>0</td>\n      <td>0</td>\n      <td>0</td>\n    </tr>\n    <tr>\n      <th>...</th>\n      <td>...</td>\n      <td>...</td>\n      <td>...</td>\n      <td>...</td>\n      <td>...</td>\n      <td>...</td>\n      <td>...</td>\n      <td>...</td>\n      <td>...</td>\n      <td>...</td>\n      <td>...</td>\n      <td>...</td>\n      <td>...</td>\n      <td>...</td>\n      <td>...</td>\n      <td>...</td>\n      <td>...</td>\n      <td>...</td>\n      <td>...</td>\n      <td>...</td>\n      <td>...</td>\n    </tr>\n    <tr>\n      <th>11621</th>\n      <td>1</td>\n      <td>185.00</td>\n      <td>40</td>\n      <td>141.00</td>\n      <td>98.00</td>\n      <td>0</td>\n      <td>0.00</td>\n      <td>25.60</td>\n      <td>0</td>\n      <td>0.00</td>\n      <td>...</td>\n      <td>3.00</td>\n      <td>0</td>\n      <td>0</td>\n      <td>0</td>\n      <td>0</td>\n      <td>1</td>\n      <td>1</td>\n      <td>0</td>\n      <td>0</td>\n      <td>0</td>\n    </tr>\n    <tr>\n      <th>11623</th>\n      <td>1</td>\n      <td>153.00</td>\n      <td>52</td>\n      <td>143.00</td>\n      <td>89.00</td>\n      <td>0</td>\n      <td>0.00</td>\n      <td>25.74</td>\n      <td>0</td>\n      <td>0.00</td>\n      <td>...</td>\n      <td>3.00</td>\n      <td>0</td>\n      <td>0</td>\n      <td>0</td>\n      <td>0</td>\n      <td>1</td>\n      <td>3</td>\n      <td>0</td>\n      <td>0</td>\n      <td>0</td>\n    </tr>\n    <tr>\n      <th>11624</th>\n      <td>2</td>\n      <td>196.00</td>\n      <td>39</td>\n      <td>133.00</td>\n      <td>86.00</td>\n      <td>1</td>\n      <td>30.00</td>\n      <td>20.91</td>\n      <td>0</td>\n      <td>0.00</td>\n      <td>...</td>\n      <td>3.00</td>\n      <td>0</td>\n      <td>0</td>\n      <td>0</td>\n      <td>0</td>\n      <td>0</td>\n      <td>1</td>\n      <td>0</td>\n      <td>0</td>\n      <td>0</td>\n    </tr>\n    <tr>\n      <th>11625</th>\n      <td>2</td>\n      <td>240.00</td>\n      <td>46</td>\n      <td>138.00</td>\n      <td>79.00</td>\n      <td>1</td>\n      <td>20.00</td>\n      <td>26.39</td>\n      <td>0</td>\n      <td>0.00</td>\n      <td>...</td>\n      <td>3.00</td>\n      <td>0</td>\n      <td>0</td>\n      <td>0</td>\n      <td>0</td>\n      <td>0</td>\n      <td>2</td>\n      <td>0</td>\n      <td>0</td>\n      <td>0</td>\n    </tr>\n    <tr>\n      <th>11626</th>\n      <td>2</td>\n      <td>238.00</td>\n      <td>50</td>\n      <td>147.00</td>\n      <td>96.00</td>\n      <td>1</td>\n      <td>10.00</td>\n      <td>24.19</td>\n      <td>0</td>\n      <td>0.00</td>\n      <td>...</td>\n      <td>3.00</td>\n      <td>0</td>\n      <td>0</td>\n      <td>0</td>\n      <td>0</td>\n      <td>1</td>\n      <td>3</td>\n      <td>0</td>\n      <td>0</td>\n      <td>0</td>\n    </tr>\n  </tbody>\n</table>\n<p>10115 rows × 22 columns</p>\n</div>"
     },
     "execution_count": 20,
     "metadata": {},
     "output_type": "execute_result"
    }
   ],
   "source": [
    "raw_df"
   ]
  },
  {
   "cell_type": "markdown",
   "id": "8ed3a5316b762bd1",
   "metadata": {
    "collapsed": false
   },
   "source": [
    "# Split"
   ]
  },
  {
   "cell_type": "code",
   "execution_count": 21,
   "id": "fe9941de0a574b9e",
   "metadata": {
    "collapsed": false,
    "ExecuteTime": {
     "end_time": "2024-06-22T04:20:29.471686Z",
     "start_time": "2024-06-22T04:20:29.423325Z"
    }
   },
   "outputs": [],
   "source": [
    "def split_data(X, y, test_size, random_state=42):\n",
    "    return train_test_split(X, y, test_size=test_size, random_state=random_state)"
   ]
  },
  {
   "cell_type": "markdown",
   "id": "c8547ac2",
   "metadata": {},
   "source": [
    "# Imbalance"
   ]
  },
  {
   "cell_type": "code",
   "execution_count": 22,
   "id": "568f78ed",
   "metadata": {
    "ExecuteTime": {
     "end_time": "2024-06-22T04:20:29.496645Z",
     "start_time": "2024-06-22T04:20:29.426171Z"
    }
   },
   "outputs": [],
   "source": [
    "from imblearn.over_sampling import SMOTE\n",
    "\n",
    "def oversample(df):\n",
    "    X_sample = df.drop(columns=['CVD'])\n",
    "    y_sample = df['CVD']\n",
    "    smote = SMOTE(random_state=42)\n",
    "    X_resampled, y_resampled = smote.fit_resample(X_sample, y_sample)\n",
    "    oversampled_df = pd.DataFrame(X_resampled, columns=X_sample.columns)\n",
    "    oversampled_df['CVD'] = y_resampled\n",
    "    return oversampled_df.sample(frac=1, random_state=42).reset_index(drop=True)\n",
    "\n",
    "def undersample(df):\n",
    "    minority_class = df[df['CVD'] == 1]\n",
    "    majority_class = df[df['CVD'] == 0]\n",
    "    \n",
    "    # Determine the size of the minority class\n",
    "    n_minority = len(minority_class)\n",
    "    \n",
    "    # Sample from the majority class to match the size of the minority class\n",
    "    majority_class_undersampled = majority_class.sample(n=n_minority, random_state=42)\n",
    "    \n",
    "    # Concatenate minority and undersampled majority classes\n",
    "    undersampled_df = pd.concat([minority_class, majority_class_undersampled])\n",
    "    \n",
    "    return undersampled_df.sample(frac=1, random_state=42).reset_index(drop=True)"
   ]
  },
  {
   "cell_type": "markdown",
   "id": "56fec7faa73300c8",
   "metadata": {
    "collapsed": false
   },
   "source": [
    "# Standardize"
   ]
  },
  {
   "cell_type": "code",
   "execution_count": 23,
   "id": "ed9c03e9135f7666",
   "metadata": {
    "collapsed": false,
    "ExecuteTime": {
     "end_time": "2024-06-22T04:20:29.506896Z",
     "start_time": "2024-06-22T04:20:29.448916Z"
    }
   },
   "outputs": [],
   "source": [
    "def scale_data(X_train, X_test):\n",
    "    scaler = StandardScaler()\n",
    "    X_train_scaled = scaler.fit_transform(X_train)\n",
    "    X_test_scaled = scaler.transform(X_test)\n",
    "    return X_train_scaled, X_test_scaled"
   ]
  },
  {
   "cell_type": "markdown",
   "id": "89e41ec9",
   "metadata": {},
   "source": [
    "# Classifier"
   ]
  },
  {
   "cell_type": "code",
   "execution_count": 24,
   "id": "a6b9bc63",
   "metadata": {
    "ExecuteTime": {
     "end_time": "2024-06-22T04:20:29.507737Z",
     "start_time": "2024-06-22T04:20:29.453941Z"
    }
   },
   "outputs": [],
   "source": [
    "def train_classifier(classifier, X_train, y_train):\n",
    "    if classifier == 'dt':\n",
    "        clf = DecisionTreeClassifier()\n",
    "    elif classifier == 'rf':\n",
    "        clf = RandomForestClassifier()\n",
    "    elif classifier == 'svm':\n",
    "        clf = SVC()\n",
    "    elif classifier == 'knn':\n",
    "        clf = KNeighborsClassifier()\n",
    "    elif classifier == 'xgb':\n",
    "        clf = XGBClassifier()\n",
    "    else:\n",
    "        raise ValueError(f\"Classifier '{classifier}' not supported.\")\n",
    "    \n",
    "    clf.fit(X_train, y_train)\n",
    "    return clf"
   ]
  },
  {
   "cell_type": "code",
   "execution_count": 25,
   "id": "91026d17",
   "metadata": {
    "ExecuteTime": {
     "end_time": "2024-06-22T04:20:29.507886Z",
     "start_time": "2024-06-22T04:20:29.457108Z"
    }
   },
   "outputs": [],
   "source": [
    "def run_experiment(df, balance_method, test_size, classifier):\n",
    "    if balance_method == 'oversample':\n",
    "        df = oversample(df)\n",
    "    elif balance_method == 'undersample':\n",
    "        df = undersample(df)\n",
    "    \n",
    "    X = df.drop(columns=['CVD'])\n",
    "    y = df['CVD']\n",
    "    \n",
    "    # Split the data\n",
    "    X_train, X_test, y_train, y_test = split_data(X, y, test_size)\n",
    "    \n",
    "    # Scale the data\n",
    "    X_train, X_test = scale_data(X_train, X_test)\n",
    "    \n",
    "     # Train classifier based on the classifier parameter\n",
    "    clf = train_classifier(classifier, X_train, y_train)\n",
    "    \n",
    "    y_pred = clf.predict(X_test)\n",
    "    \n",
    "    # Get the classification report as a dict\n",
    "    report = classification_report(y_test, y_pred, output_dict=True)\n",
    "    conf_matrix = confusion_matrix(y_test, y_pred)\n",
    "    \n",
    "    return report, conf_matrix"
   ]
  },
  {
   "cell_type": "code",
   "execution_count": 26,
   "id": "a83e73e195f6b1ca",
   "metadata": {
    "collapsed": false,
    "ExecuteTime": {
     "end_time": "2024-06-22T04:22:11.868057Z",
     "start_time": "2024-06-22T04:20:29.458949Z"
    }
   },
   "outputs": [
    {
     "data": {
      "text/plain": "                     scenario  accuracy  0-precision  0-recall  0-f1-score  \\\n0      dt_imbalance_split_10%      0.80         0.87      0.85        0.86   \n1      dt_imbalance_split_20%      0.79         0.87      0.84        0.85   \n2      dt_imbalance_split_30%      0.80         0.87      0.86        0.86   \n3     dt_oversample_split_10%      0.82         0.83      0.80        0.82   \n4     dt_oversample_split_20%      0.81         0.82      0.79        0.80   \n5     dt_oversample_split_30%      0.80         0.81      0.79        0.80   \n6    dt_undersample_split_10%      0.75         0.75      0.78        0.76   \n7    dt_undersample_split_20%      0.73         0.74      0.73        0.73   \n8    dt_undersample_split_30%      0.74         0.75      0.74        0.74   \n9      rf_imbalance_split_10%      0.85         0.86      0.97        0.91   \n10     rf_imbalance_split_20%      0.86         0.86      0.96        0.91   \n11     rf_imbalance_split_30%      0.85         0.86      0.96        0.90   \n12    rf_oversample_split_10%      0.88         0.88      0.87        0.88   \n13    rf_oversample_split_20%      0.88         0.88      0.88        0.88   \n14    rf_oversample_split_30%      0.86         0.86      0.86        0.86   \n15   rf_undersample_split_10%      0.82         0.78      0.89        0.83   \n16   rf_undersample_split_20%      0.82         0.79      0.87        0.83   \n17   rf_undersample_split_30%      0.80         0.78      0.84        0.81   \n18    knn_imbalance_split_10%      0.86         0.87      0.94        0.91   \n19    knn_imbalance_split_20%      0.85         0.87      0.94        0.90   \n20    knn_imbalance_split_30%      0.84         0.86      0.93        0.90   \n21   knn_oversample_split_10%      0.79         0.84      0.74        0.79   \n22   knn_oversample_split_20%      0.79         0.83      0.74        0.78   \n23   knn_oversample_split_30%      0.79         0.83      0.74        0.78   \n24  knn_undersample_split_10%      0.80         0.77      0.86        0.81   \n25  knn_undersample_split_20%      0.80         0.78      0.85        0.81   \n26  knn_undersample_split_30%      0.80         0.79      0.84        0.81   \n27    xgb_imbalance_split_10%      0.85         0.87      0.94        0.90   \n28    xgb_imbalance_split_20%      0.85         0.87      0.94        0.90   \n29    xgb_imbalance_split_30%      0.84         0.86      0.94        0.90   \n30   xgb_oversample_split_10%      0.89         0.88      0.90        0.89   \n31   xgb_oversample_split_20%      0.88         0.86      0.90        0.88   \n32   xgb_oversample_split_30%      0.88         0.85      0.91        0.88   \n33  xgb_undersample_split_10%      0.80         0.79      0.84        0.82   \n34  xgb_undersample_split_20%      0.80         0.78      0.84        0.81   \n35  xgb_undersample_split_30%      0.80         0.79      0.83        0.81   \n36    svm_imbalance_split_10%      0.86         0.85      0.98        0.91   \n37    svm_imbalance_split_20%      0.86         0.85      0.98        0.91   \n38    svm_imbalance_split_30%      0.85         0.85      0.97        0.91   \n39   svm_oversample_split_10%      0.81         0.82      0.80        0.81   \n40   svm_oversample_split_20%      0.82         0.83      0.81        0.82   \n41   svm_oversample_split_30%      0.81         0.82      0.80        0.81   \n42  svm_undersample_split_10%      0.82         0.79      0.88        0.83   \n43  svm_undersample_split_20%      0.81         0.79      0.86        0.82   \n44  svm_undersample_split_30%      0.82         0.80      0.85        0.83   \n\n    0-support  1-precision  1-recall  1-f1-score  1-support  \\\n0      745.00         0.61      0.66        0.63     267.00   \n1     1475.00         0.60      0.65        0.63     548.00   \n2     2220.00         0.62      0.65        0.63     815.00   \n3      747.00         0.81      0.83        0.82     726.00   \n4     1474.00         0.80      0.83        0.81    1472.00   \n5     2203.00         0.80      0.81        0.81    2216.00   \n6      282.00         0.76      0.72        0.74     269.00   \n7      555.00         0.73      0.74        0.73     546.00   \n8      832.00         0.74      0.75        0.74     819.00   \n9      745.00         0.85      0.54        0.66     267.00   \n10    1475.00         0.85      0.59        0.70     548.00   \n11    2220.00         0.83      0.57        0.67     815.00   \n12     747.00         0.87      0.88        0.88     726.00   \n13    1474.00         0.88      0.88        0.88    1472.00   \n14    2203.00         0.86      0.86        0.86    2216.00   \n15     282.00         0.87      0.74        0.80     269.00   \n16     555.00         0.85      0.77        0.81     546.00   \n17     832.00         0.82      0.76        0.79     819.00   \n18     745.00         0.80      0.61        0.69     267.00   \n19    1475.00         0.79      0.63        0.70     548.00   \n20    2220.00         0.76      0.60        0.67     815.00   \n21     747.00         0.76      0.85        0.80     726.00   \n22    1474.00         0.77      0.85        0.80    1472.00   \n23    2203.00         0.77      0.85        0.81    2216.00   \n24     282.00         0.83      0.74        0.78     269.00   \n25     555.00         0.83      0.75        0.79     546.00   \n26     832.00         0.83      0.77        0.80     819.00   \n27     745.00         0.79      0.60        0.68     267.00   \n28    1475.00         0.78      0.61        0.68     548.00   \n29    2220.00         0.77      0.59        0.67     815.00   \n30     747.00         0.90      0.87        0.88     726.00   \n31    1474.00         0.90      0.85        0.87    1472.00   \n32    2203.00         0.90      0.84        0.87    2216.00   \n33     282.00         0.82      0.76        0.79     269.00   \n34     555.00         0.83      0.76        0.79     546.00   \n35     832.00         0.82      0.77        0.80     819.00   \n36     745.00         0.89      0.53        0.67     267.00   \n37    1475.00         0.91      0.53        0.67     548.00   \n38    2220.00         0.88      0.52        0.65     815.00   \n39     747.00         0.80      0.83        0.81     726.00   \n40    1474.00         0.81      0.83        0.82    1472.00   \n41    2203.00         0.81      0.82        0.81    2216.00   \n42     282.00         0.86      0.75        0.80     269.00   \n43     555.00         0.85      0.76        0.80     546.00   \n44     832.00         0.84      0.78        0.81     819.00   \n\n    macro avg-precision  macro avg-recall  macro avg-f1-score  \\\n0                  0.74              0.75                0.75   \n1                  0.73              0.75                0.74   \n2                  0.75              0.75                0.75   \n3                  0.82              0.82                0.82   \n4                  0.81              0.81                0.81   \n5                  0.80              0.80                0.80   \n6                  0.75              0.75                0.75   \n7                  0.73              0.73                0.73   \n8                  0.74              0.74                0.74   \n9                  0.85              0.75                0.79   \n10                 0.86              0.78                0.80   \n11                 0.84              0.76                0.79   \n12                 0.88              0.88                0.88   \n13                 0.88              0.88                0.88   \n14                 0.86              0.86                0.86   \n15                 0.82              0.81                0.82   \n16                 0.82              0.82                0.82   \n17                 0.80              0.80                0.80   \n18                 0.84              0.78                0.80   \n19                 0.83              0.78                0.80   \n20                 0.81              0.77                0.78   \n21                 0.80              0.80                0.79   \n22                 0.80              0.79                0.79   \n23                 0.80              0.79                0.79   \n24                 0.80              0.80                0.80   \n25                 0.81              0.80                0.80   \n26                 0.81              0.80                0.80   \n27                 0.83              0.77                0.79   \n28                 0.82              0.77                0.79   \n29                 0.82              0.76                0.78   \n30                 0.89              0.89                0.89   \n31                 0.88              0.88                0.88   \n32                 0.88              0.88                0.88   \n33                 0.81              0.80                0.80   \n34                 0.81              0.80                0.80   \n35                 0.80              0.80                0.80   \n36                 0.87              0.75                0.79   \n37                 0.88              0.76                0.79   \n38                 0.86              0.75                0.78   \n39                 0.81              0.81                0.81   \n40                 0.82              0.82                0.82   \n41                 0.81              0.81                0.81   \n42                 0.82              0.82                0.82   \n43                 0.82              0.81                0.81   \n44                 0.82              0.82                0.82   \n\n    macro avg-support  weighted avg-precision  weighted avg-recall  \\\n0             1012.00                    0.80                 0.80   \n1             2023.00                    0.79                 0.79   \n2             3035.00                    0.80                 0.80   \n3             1473.00                    0.82                 0.82   \n4             2946.00                    0.81                 0.81   \n5             4419.00                    0.80                 0.80   \n6              551.00                    0.75                 0.75   \n7             1101.00                    0.73                 0.73   \n8             1651.00                    0.74                 0.74   \n9             1012.00                    0.85                 0.85   \n10            2023.00                    0.86                 0.86   \n11            3035.00                    0.85                 0.85   \n12            1473.00                    0.88                 0.88   \n13            2946.00                    0.88                 0.88   \n14            4419.00                    0.86                 0.86   \n15             551.00                    0.82                 0.82   \n16            1101.00                    0.82                 0.82   \n17            1651.00                    0.80                 0.80   \n18            1012.00                    0.85                 0.86   \n19            2023.00                    0.85                 0.85   \n20            3035.00                    0.84                 0.84   \n21            1473.00                    0.80                 0.79   \n22            2946.00                    0.80                 0.79   \n23            4419.00                    0.80                 0.79   \n24             551.00                    0.80                 0.80   \n25            1101.00                    0.80                 0.80   \n26            1651.00                    0.81                 0.80   \n27            1012.00                    0.85                 0.85   \n28            2023.00                    0.84                 0.85   \n29            3035.00                    0.84                 0.84   \n30            1473.00                    0.89                 0.89   \n31            2946.00                    0.88                 0.88   \n32            4419.00                    0.88                 0.88   \n33             551.00                    0.81                 0.80   \n34            1101.00                    0.81                 0.80   \n35            1651.00                    0.80                 0.80   \n36            1012.00                    0.86                 0.86   \n37            2023.00                    0.87                 0.86   \n38            3035.00                    0.85                 0.85   \n39            1473.00                    0.81                 0.81   \n40            2946.00                    0.82                 0.82   \n41            4419.00                    0.81                 0.81   \n42             551.00                    0.82                 0.82   \n43            1101.00                    0.82                 0.81   \n44            1651.00                    0.82                 0.82   \n\n    weighted avg-f1-score  weighted avg-support  \n0                    0.80               1012.00  \n1                    0.79               2023.00  \n2                    0.80               3035.00  \n3                    0.82               1473.00  \n4                    0.81               2946.00  \n5                    0.80               4419.00  \n6                    0.75                551.00  \n7                    0.73               1101.00  \n8                    0.74               1651.00  \n9                    0.84               1012.00  \n10                   0.85               2023.00  \n11                   0.84               3035.00  \n12                   0.88               1473.00  \n13                   0.88               2946.00  \n14                   0.86               4419.00  \n15                   0.82                551.00  \n16                   0.82               1101.00  \n17                   0.80               1651.00  \n18                   0.85               1012.00  \n19                   0.85               2023.00  \n20                   0.84               3035.00  \n21                   0.79               1473.00  \n22                   0.79               2946.00  \n23                   0.79               4419.00  \n24                   0.80                551.00  \n25                   0.80               1101.00  \n26                   0.80               1651.00  \n27                   0.85               1012.00  \n28                   0.84               2023.00  \n29                   0.84               3035.00  \n30                   0.89               1473.00  \n31                   0.88               2946.00  \n32                   0.88               4419.00  \n33                   0.80                551.00  \n34                   0.80               1101.00  \n35                   0.80               1651.00  \n36                   0.85               1012.00  \n37                   0.85               2023.00  \n38                   0.84               3035.00  \n39                   0.81               1473.00  \n40                   0.82               2946.00  \n41                   0.81               4419.00  \n42                   0.82                551.00  \n43                   0.81               1101.00  \n44                   0.82               1651.00  ",
      "text/html": "<div>\n<style scoped>\n    .dataframe tbody tr th:only-of-type {\n        vertical-align: middle;\n    }\n\n    .dataframe tbody tr th {\n        vertical-align: top;\n    }\n\n    .dataframe thead th {\n        text-align: right;\n    }\n</style>\n<table border=\"1\" class=\"dataframe\">\n  <thead>\n    <tr style=\"text-align: right;\">\n      <th></th>\n      <th>scenario</th>\n      <th>accuracy</th>\n      <th>0-precision</th>\n      <th>0-recall</th>\n      <th>0-f1-score</th>\n      <th>0-support</th>\n      <th>1-precision</th>\n      <th>1-recall</th>\n      <th>1-f1-score</th>\n      <th>1-support</th>\n      <th>macro avg-precision</th>\n      <th>macro avg-recall</th>\n      <th>macro avg-f1-score</th>\n      <th>macro avg-support</th>\n      <th>weighted avg-precision</th>\n      <th>weighted avg-recall</th>\n      <th>weighted avg-f1-score</th>\n      <th>weighted avg-support</th>\n    </tr>\n  </thead>\n  <tbody>\n    <tr>\n      <th>0</th>\n      <td>dt_imbalance_split_10%</td>\n      <td>0.80</td>\n      <td>0.87</td>\n      <td>0.85</td>\n      <td>0.86</td>\n      <td>745.00</td>\n      <td>0.61</td>\n      <td>0.66</td>\n      <td>0.63</td>\n      <td>267.00</td>\n      <td>0.74</td>\n      <td>0.75</td>\n      <td>0.75</td>\n      <td>1012.00</td>\n      <td>0.80</td>\n      <td>0.80</td>\n      <td>0.80</td>\n      <td>1012.00</td>\n    </tr>\n    <tr>\n      <th>1</th>\n      <td>dt_imbalance_split_20%</td>\n      <td>0.79</td>\n      <td>0.87</td>\n      <td>0.84</td>\n      <td>0.85</td>\n      <td>1475.00</td>\n      <td>0.60</td>\n      <td>0.65</td>\n      <td>0.63</td>\n      <td>548.00</td>\n      <td>0.73</td>\n      <td>0.75</td>\n      <td>0.74</td>\n      <td>2023.00</td>\n      <td>0.79</td>\n      <td>0.79</td>\n      <td>0.79</td>\n      <td>2023.00</td>\n    </tr>\n    <tr>\n      <th>2</th>\n      <td>dt_imbalance_split_30%</td>\n      <td>0.80</td>\n      <td>0.87</td>\n      <td>0.86</td>\n      <td>0.86</td>\n      <td>2220.00</td>\n      <td>0.62</td>\n      <td>0.65</td>\n      <td>0.63</td>\n      <td>815.00</td>\n      <td>0.75</td>\n      <td>0.75</td>\n      <td>0.75</td>\n      <td>3035.00</td>\n      <td>0.80</td>\n      <td>0.80</td>\n      <td>0.80</td>\n      <td>3035.00</td>\n    </tr>\n    <tr>\n      <th>3</th>\n      <td>dt_oversample_split_10%</td>\n      <td>0.82</td>\n      <td>0.83</td>\n      <td>0.80</td>\n      <td>0.82</td>\n      <td>747.00</td>\n      <td>0.81</td>\n      <td>0.83</td>\n      <td>0.82</td>\n      <td>726.00</td>\n      <td>0.82</td>\n      <td>0.82</td>\n      <td>0.82</td>\n      <td>1473.00</td>\n      <td>0.82</td>\n      <td>0.82</td>\n      <td>0.82</td>\n      <td>1473.00</td>\n    </tr>\n    <tr>\n      <th>4</th>\n      <td>dt_oversample_split_20%</td>\n      <td>0.81</td>\n      <td>0.82</td>\n      <td>0.79</td>\n      <td>0.80</td>\n      <td>1474.00</td>\n      <td>0.80</td>\n      <td>0.83</td>\n      <td>0.81</td>\n      <td>1472.00</td>\n      <td>0.81</td>\n      <td>0.81</td>\n      <td>0.81</td>\n      <td>2946.00</td>\n      <td>0.81</td>\n      <td>0.81</td>\n      <td>0.81</td>\n      <td>2946.00</td>\n    </tr>\n    <tr>\n      <th>5</th>\n      <td>dt_oversample_split_30%</td>\n      <td>0.80</td>\n      <td>0.81</td>\n      <td>0.79</td>\n      <td>0.80</td>\n      <td>2203.00</td>\n      <td>0.80</td>\n      <td>0.81</td>\n      <td>0.81</td>\n      <td>2216.00</td>\n      <td>0.80</td>\n      <td>0.80</td>\n      <td>0.80</td>\n      <td>4419.00</td>\n      <td>0.80</td>\n      <td>0.80</td>\n      <td>0.80</td>\n      <td>4419.00</td>\n    </tr>\n    <tr>\n      <th>6</th>\n      <td>dt_undersample_split_10%</td>\n      <td>0.75</td>\n      <td>0.75</td>\n      <td>0.78</td>\n      <td>0.76</td>\n      <td>282.00</td>\n      <td>0.76</td>\n      <td>0.72</td>\n      <td>0.74</td>\n      <td>269.00</td>\n      <td>0.75</td>\n      <td>0.75</td>\n      <td>0.75</td>\n      <td>551.00</td>\n      <td>0.75</td>\n      <td>0.75</td>\n      <td>0.75</td>\n      <td>551.00</td>\n    </tr>\n    <tr>\n      <th>7</th>\n      <td>dt_undersample_split_20%</td>\n      <td>0.73</td>\n      <td>0.74</td>\n      <td>0.73</td>\n      <td>0.73</td>\n      <td>555.00</td>\n      <td>0.73</td>\n      <td>0.74</td>\n      <td>0.73</td>\n      <td>546.00</td>\n      <td>0.73</td>\n      <td>0.73</td>\n      <td>0.73</td>\n      <td>1101.00</td>\n      <td>0.73</td>\n      <td>0.73</td>\n      <td>0.73</td>\n      <td>1101.00</td>\n    </tr>\n    <tr>\n      <th>8</th>\n      <td>dt_undersample_split_30%</td>\n      <td>0.74</td>\n      <td>0.75</td>\n      <td>0.74</td>\n      <td>0.74</td>\n      <td>832.00</td>\n      <td>0.74</td>\n      <td>0.75</td>\n      <td>0.74</td>\n      <td>819.00</td>\n      <td>0.74</td>\n      <td>0.74</td>\n      <td>0.74</td>\n      <td>1651.00</td>\n      <td>0.74</td>\n      <td>0.74</td>\n      <td>0.74</td>\n      <td>1651.00</td>\n    </tr>\n    <tr>\n      <th>9</th>\n      <td>rf_imbalance_split_10%</td>\n      <td>0.85</td>\n      <td>0.86</td>\n      <td>0.97</td>\n      <td>0.91</td>\n      <td>745.00</td>\n      <td>0.85</td>\n      <td>0.54</td>\n      <td>0.66</td>\n      <td>267.00</td>\n      <td>0.85</td>\n      <td>0.75</td>\n      <td>0.79</td>\n      <td>1012.00</td>\n      <td>0.85</td>\n      <td>0.85</td>\n      <td>0.84</td>\n      <td>1012.00</td>\n    </tr>\n    <tr>\n      <th>10</th>\n      <td>rf_imbalance_split_20%</td>\n      <td>0.86</td>\n      <td>0.86</td>\n      <td>0.96</td>\n      <td>0.91</td>\n      <td>1475.00</td>\n      <td>0.85</td>\n      <td>0.59</td>\n      <td>0.70</td>\n      <td>548.00</td>\n      <td>0.86</td>\n      <td>0.78</td>\n      <td>0.80</td>\n      <td>2023.00</td>\n      <td>0.86</td>\n      <td>0.86</td>\n      <td>0.85</td>\n      <td>2023.00</td>\n    </tr>\n    <tr>\n      <th>11</th>\n      <td>rf_imbalance_split_30%</td>\n      <td>0.85</td>\n      <td>0.86</td>\n      <td>0.96</td>\n      <td>0.90</td>\n      <td>2220.00</td>\n      <td>0.83</td>\n      <td>0.57</td>\n      <td>0.67</td>\n      <td>815.00</td>\n      <td>0.84</td>\n      <td>0.76</td>\n      <td>0.79</td>\n      <td>3035.00</td>\n      <td>0.85</td>\n      <td>0.85</td>\n      <td>0.84</td>\n      <td>3035.00</td>\n    </tr>\n    <tr>\n      <th>12</th>\n      <td>rf_oversample_split_10%</td>\n      <td>0.88</td>\n      <td>0.88</td>\n      <td>0.87</td>\n      <td>0.88</td>\n      <td>747.00</td>\n      <td>0.87</td>\n      <td>0.88</td>\n      <td>0.88</td>\n      <td>726.00</td>\n      <td>0.88</td>\n      <td>0.88</td>\n      <td>0.88</td>\n      <td>1473.00</td>\n      <td>0.88</td>\n      <td>0.88</td>\n      <td>0.88</td>\n      <td>1473.00</td>\n    </tr>\n    <tr>\n      <th>13</th>\n      <td>rf_oversample_split_20%</td>\n      <td>0.88</td>\n      <td>0.88</td>\n      <td>0.88</td>\n      <td>0.88</td>\n      <td>1474.00</td>\n      <td>0.88</td>\n      <td>0.88</td>\n      <td>0.88</td>\n      <td>1472.00</td>\n      <td>0.88</td>\n      <td>0.88</td>\n      <td>0.88</td>\n      <td>2946.00</td>\n      <td>0.88</td>\n      <td>0.88</td>\n      <td>0.88</td>\n      <td>2946.00</td>\n    </tr>\n    <tr>\n      <th>14</th>\n      <td>rf_oversample_split_30%</td>\n      <td>0.86</td>\n      <td>0.86</td>\n      <td>0.86</td>\n      <td>0.86</td>\n      <td>2203.00</td>\n      <td>0.86</td>\n      <td>0.86</td>\n      <td>0.86</td>\n      <td>2216.00</td>\n      <td>0.86</td>\n      <td>0.86</td>\n      <td>0.86</td>\n      <td>4419.00</td>\n      <td>0.86</td>\n      <td>0.86</td>\n      <td>0.86</td>\n      <td>4419.00</td>\n    </tr>\n    <tr>\n      <th>15</th>\n      <td>rf_undersample_split_10%</td>\n      <td>0.82</td>\n      <td>0.78</td>\n      <td>0.89</td>\n      <td>0.83</td>\n      <td>282.00</td>\n      <td>0.87</td>\n      <td>0.74</td>\n      <td>0.80</td>\n      <td>269.00</td>\n      <td>0.82</td>\n      <td>0.81</td>\n      <td>0.82</td>\n      <td>551.00</td>\n      <td>0.82</td>\n      <td>0.82</td>\n      <td>0.82</td>\n      <td>551.00</td>\n    </tr>\n    <tr>\n      <th>16</th>\n      <td>rf_undersample_split_20%</td>\n      <td>0.82</td>\n      <td>0.79</td>\n      <td>0.87</td>\n      <td>0.83</td>\n      <td>555.00</td>\n      <td>0.85</td>\n      <td>0.77</td>\n      <td>0.81</td>\n      <td>546.00</td>\n      <td>0.82</td>\n      <td>0.82</td>\n      <td>0.82</td>\n      <td>1101.00</td>\n      <td>0.82</td>\n      <td>0.82</td>\n      <td>0.82</td>\n      <td>1101.00</td>\n    </tr>\n    <tr>\n      <th>17</th>\n      <td>rf_undersample_split_30%</td>\n      <td>0.80</td>\n      <td>0.78</td>\n      <td>0.84</td>\n      <td>0.81</td>\n      <td>832.00</td>\n      <td>0.82</td>\n      <td>0.76</td>\n      <td>0.79</td>\n      <td>819.00</td>\n      <td>0.80</td>\n      <td>0.80</td>\n      <td>0.80</td>\n      <td>1651.00</td>\n      <td>0.80</td>\n      <td>0.80</td>\n      <td>0.80</td>\n      <td>1651.00</td>\n    </tr>\n    <tr>\n      <th>18</th>\n      <td>knn_imbalance_split_10%</td>\n      <td>0.86</td>\n      <td>0.87</td>\n      <td>0.94</td>\n      <td>0.91</td>\n      <td>745.00</td>\n      <td>0.80</td>\n      <td>0.61</td>\n      <td>0.69</td>\n      <td>267.00</td>\n      <td>0.84</td>\n      <td>0.78</td>\n      <td>0.80</td>\n      <td>1012.00</td>\n      <td>0.85</td>\n      <td>0.86</td>\n      <td>0.85</td>\n      <td>1012.00</td>\n    </tr>\n    <tr>\n      <th>19</th>\n      <td>knn_imbalance_split_20%</td>\n      <td>0.85</td>\n      <td>0.87</td>\n      <td>0.94</td>\n      <td>0.90</td>\n      <td>1475.00</td>\n      <td>0.79</td>\n      <td>0.63</td>\n      <td>0.70</td>\n      <td>548.00</td>\n      <td>0.83</td>\n      <td>0.78</td>\n      <td>0.80</td>\n      <td>2023.00</td>\n      <td>0.85</td>\n      <td>0.85</td>\n      <td>0.85</td>\n      <td>2023.00</td>\n    </tr>\n    <tr>\n      <th>20</th>\n      <td>knn_imbalance_split_30%</td>\n      <td>0.84</td>\n      <td>0.86</td>\n      <td>0.93</td>\n      <td>0.90</td>\n      <td>2220.00</td>\n      <td>0.76</td>\n      <td>0.60</td>\n      <td>0.67</td>\n      <td>815.00</td>\n      <td>0.81</td>\n      <td>0.77</td>\n      <td>0.78</td>\n      <td>3035.00</td>\n      <td>0.84</td>\n      <td>0.84</td>\n      <td>0.84</td>\n      <td>3035.00</td>\n    </tr>\n    <tr>\n      <th>21</th>\n      <td>knn_oversample_split_10%</td>\n      <td>0.79</td>\n      <td>0.84</td>\n      <td>0.74</td>\n      <td>0.79</td>\n      <td>747.00</td>\n      <td>0.76</td>\n      <td>0.85</td>\n      <td>0.80</td>\n      <td>726.00</td>\n      <td>0.80</td>\n      <td>0.80</td>\n      <td>0.79</td>\n      <td>1473.00</td>\n      <td>0.80</td>\n      <td>0.79</td>\n      <td>0.79</td>\n      <td>1473.00</td>\n    </tr>\n    <tr>\n      <th>22</th>\n      <td>knn_oversample_split_20%</td>\n      <td>0.79</td>\n      <td>0.83</td>\n      <td>0.74</td>\n      <td>0.78</td>\n      <td>1474.00</td>\n      <td>0.77</td>\n      <td>0.85</td>\n      <td>0.80</td>\n      <td>1472.00</td>\n      <td>0.80</td>\n      <td>0.79</td>\n      <td>0.79</td>\n      <td>2946.00</td>\n      <td>0.80</td>\n      <td>0.79</td>\n      <td>0.79</td>\n      <td>2946.00</td>\n    </tr>\n    <tr>\n      <th>23</th>\n      <td>knn_oversample_split_30%</td>\n      <td>0.79</td>\n      <td>0.83</td>\n      <td>0.74</td>\n      <td>0.78</td>\n      <td>2203.00</td>\n      <td>0.77</td>\n      <td>0.85</td>\n      <td>0.81</td>\n      <td>2216.00</td>\n      <td>0.80</td>\n      <td>0.79</td>\n      <td>0.79</td>\n      <td>4419.00</td>\n      <td>0.80</td>\n      <td>0.79</td>\n      <td>0.79</td>\n      <td>4419.00</td>\n    </tr>\n    <tr>\n      <th>24</th>\n      <td>knn_undersample_split_10%</td>\n      <td>0.80</td>\n      <td>0.77</td>\n      <td>0.86</td>\n      <td>0.81</td>\n      <td>282.00</td>\n      <td>0.83</td>\n      <td>0.74</td>\n      <td>0.78</td>\n      <td>269.00</td>\n      <td>0.80</td>\n      <td>0.80</td>\n      <td>0.80</td>\n      <td>551.00</td>\n      <td>0.80</td>\n      <td>0.80</td>\n      <td>0.80</td>\n      <td>551.00</td>\n    </tr>\n    <tr>\n      <th>25</th>\n      <td>knn_undersample_split_20%</td>\n      <td>0.80</td>\n      <td>0.78</td>\n      <td>0.85</td>\n      <td>0.81</td>\n      <td>555.00</td>\n      <td>0.83</td>\n      <td>0.75</td>\n      <td>0.79</td>\n      <td>546.00</td>\n      <td>0.81</td>\n      <td>0.80</td>\n      <td>0.80</td>\n      <td>1101.00</td>\n      <td>0.80</td>\n      <td>0.80</td>\n      <td>0.80</td>\n      <td>1101.00</td>\n    </tr>\n    <tr>\n      <th>26</th>\n      <td>knn_undersample_split_30%</td>\n      <td>0.80</td>\n      <td>0.79</td>\n      <td>0.84</td>\n      <td>0.81</td>\n      <td>832.00</td>\n      <td>0.83</td>\n      <td>0.77</td>\n      <td>0.80</td>\n      <td>819.00</td>\n      <td>0.81</td>\n      <td>0.80</td>\n      <td>0.80</td>\n      <td>1651.00</td>\n      <td>0.81</td>\n      <td>0.80</td>\n      <td>0.80</td>\n      <td>1651.00</td>\n    </tr>\n    <tr>\n      <th>27</th>\n      <td>xgb_imbalance_split_10%</td>\n      <td>0.85</td>\n      <td>0.87</td>\n      <td>0.94</td>\n      <td>0.90</td>\n      <td>745.00</td>\n      <td>0.79</td>\n      <td>0.60</td>\n      <td>0.68</td>\n      <td>267.00</td>\n      <td>0.83</td>\n      <td>0.77</td>\n      <td>0.79</td>\n      <td>1012.00</td>\n      <td>0.85</td>\n      <td>0.85</td>\n      <td>0.85</td>\n      <td>1012.00</td>\n    </tr>\n    <tr>\n      <th>28</th>\n      <td>xgb_imbalance_split_20%</td>\n      <td>0.85</td>\n      <td>0.87</td>\n      <td>0.94</td>\n      <td>0.90</td>\n      <td>1475.00</td>\n      <td>0.78</td>\n      <td>0.61</td>\n      <td>0.68</td>\n      <td>548.00</td>\n      <td>0.82</td>\n      <td>0.77</td>\n      <td>0.79</td>\n      <td>2023.00</td>\n      <td>0.84</td>\n      <td>0.85</td>\n      <td>0.84</td>\n      <td>2023.00</td>\n    </tr>\n    <tr>\n      <th>29</th>\n      <td>xgb_imbalance_split_30%</td>\n      <td>0.84</td>\n      <td>0.86</td>\n      <td>0.94</td>\n      <td>0.90</td>\n      <td>2220.00</td>\n      <td>0.77</td>\n      <td>0.59</td>\n      <td>0.67</td>\n      <td>815.00</td>\n      <td>0.82</td>\n      <td>0.76</td>\n      <td>0.78</td>\n      <td>3035.00</td>\n      <td>0.84</td>\n      <td>0.84</td>\n      <td>0.84</td>\n      <td>3035.00</td>\n    </tr>\n    <tr>\n      <th>30</th>\n      <td>xgb_oversample_split_10%</td>\n      <td>0.89</td>\n      <td>0.88</td>\n      <td>0.90</td>\n      <td>0.89</td>\n      <td>747.00</td>\n      <td>0.90</td>\n      <td>0.87</td>\n      <td>0.88</td>\n      <td>726.00</td>\n      <td>0.89</td>\n      <td>0.89</td>\n      <td>0.89</td>\n      <td>1473.00</td>\n      <td>0.89</td>\n      <td>0.89</td>\n      <td>0.89</td>\n      <td>1473.00</td>\n    </tr>\n    <tr>\n      <th>31</th>\n      <td>xgb_oversample_split_20%</td>\n      <td>0.88</td>\n      <td>0.86</td>\n      <td>0.90</td>\n      <td>0.88</td>\n      <td>1474.00</td>\n      <td>0.90</td>\n      <td>0.85</td>\n      <td>0.87</td>\n      <td>1472.00</td>\n      <td>0.88</td>\n      <td>0.88</td>\n      <td>0.88</td>\n      <td>2946.00</td>\n      <td>0.88</td>\n      <td>0.88</td>\n      <td>0.88</td>\n      <td>2946.00</td>\n    </tr>\n    <tr>\n      <th>32</th>\n      <td>xgb_oversample_split_30%</td>\n      <td>0.88</td>\n      <td>0.85</td>\n      <td>0.91</td>\n      <td>0.88</td>\n      <td>2203.00</td>\n      <td>0.90</td>\n      <td>0.84</td>\n      <td>0.87</td>\n      <td>2216.00</td>\n      <td>0.88</td>\n      <td>0.88</td>\n      <td>0.88</td>\n      <td>4419.00</td>\n      <td>0.88</td>\n      <td>0.88</td>\n      <td>0.88</td>\n      <td>4419.00</td>\n    </tr>\n    <tr>\n      <th>33</th>\n      <td>xgb_undersample_split_10%</td>\n      <td>0.80</td>\n      <td>0.79</td>\n      <td>0.84</td>\n      <td>0.82</td>\n      <td>282.00</td>\n      <td>0.82</td>\n      <td>0.76</td>\n      <td>0.79</td>\n      <td>269.00</td>\n      <td>0.81</td>\n      <td>0.80</td>\n      <td>0.80</td>\n      <td>551.00</td>\n      <td>0.81</td>\n      <td>0.80</td>\n      <td>0.80</td>\n      <td>551.00</td>\n    </tr>\n    <tr>\n      <th>34</th>\n      <td>xgb_undersample_split_20%</td>\n      <td>0.80</td>\n      <td>0.78</td>\n      <td>0.84</td>\n      <td>0.81</td>\n      <td>555.00</td>\n      <td>0.83</td>\n      <td>0.76</td>\n      <td>0.79</td>\n      <td>546.00</td>\n      <td>0.81</td>\n      <td>0.80</td>\n      <td>0.80</td>\n      <td>1101.00</td>\n      <td>0.81</td>\n      <td>0.80</td>\n      <td>0.80</td>\n      <td>1101.00</td>\n    </tr>\n    <tr>\n      <th>35</th>\n      <td>xgb_undersample_split_30%</td>\n      <td>0.80</td>\n      <td>0.79</td>\n      <td>0.83</td>\n      <td>0.81</td>\n      <td>832.00</td>\n      <td>0.82</td>\n      <td>0.77</td>\n      <td>0.80</td>\n      <td>819.00</td>\n      <td>0.80</td>\n      <td>0.80</td>\n      <td>0.80</td>\n      <td>1651.00</td>\n      <td>0.80</td>\n      <td>0.80</td>\n      <td>0.80</td>\n      <td>1651.00</td>\n    </tr>\n    <tr>\n      <th>36</th>\n      <td>svm_imbalance_split_10%</td>\n      <td>0.86</td>\n      <td>0.85</td>\n      <td>0.98</td>\n      <td>0.91</td>\n      <td>745.00</td>\n      <td>0.89</td>\n      <td>0.53</td>\n      <td>0.67</td>\n      <td>267.00</td>\n      <td>0.87</td>\n      <td>0.75</td>\n      <td>0.79</td>\n      <td>1012.00</td>\n      <td>0.86</td>\n      <td>0.86</td>\n      <td>0.85</td>\n      <td>1012.00</td>\n    </tr>\n    <tr>\n      <th>37</th>\n      <td>svm_imbalance_split_20%</td>\n      <td>0.86</td>\n      <td>0.85</td>\n      <td>0.98</td>\n      <td>0.91</td>\n      <td>1475.00</td>\n      <td>0.91</td>\n      <td>0.53</td>\n      <td>0.67</td>\n      <td>548.00</td>\n      <td>0.88</td>\n      <td>0.76</td>\n      <td>0.79</td>\n      <td>2023.00</td>\n      <td>0.87</td>\n      <td>0.86</td>\n      <td>0.85</td>\n      <td>2023.00</td>\n    </tr>\n    <tr>\n      <th>38</th>\n      <td>svm_imbalance_split_30%</td>\n      <td>0.85</td>\n      <td>0.85</td>\n      <td>0.97</td>\n      <td>0.91</td>\n      <td>2220.00</td>\n      <td>0.88</td>\n      <td>0.52</td>\n      <td>0.65</td>\n      <td>815.00</td>\n      <td>0.86</td>\n      <td>0.75</td>\n      <td>0.78</td>\n      <td>3035.00</td>\n      <td>0.85</td>\n      <td>0.85</td>\n      <td>0.84</td>\n      <td>3035.00</td>\n    </tr>\n    <tr>\n      <th>39</th>\n      <td>svm_oversample_split_10%</td>\n      <td>0.81</td>\n      <td>0.82</td>\n      <td>0.80</td>\n      <td>0.81</td>\n      <td>747.00</td>\n      <td>0.80</td>\n      <td>0.83</td>\n      <td>0.81</td>\n      <td>726.00</td>\n      <td>0.81</td>\n      <td>0.81</td>\n      <td>0.81</td>\n      <td>1473.00</td>\n      <td>0.81</td>\n      <td>0.81</td>\n      <td>0.81</td>\n      <td>1473.00</td>\n    </tr>\n    <tr>\n      <th>40</th>\n      <td>svm_oversample_split_20%</td>\n      <td>0.82</td>\n      <td>0.83</td>\n      <td>0.81</td>\n      <td>0.82</td>\n      <td>1474.00</td>\n      <td>0.81</td>\n      <td>0.83</td>\n      <td>0.82</td>\n      <td>1472.00</td>\n      <td>0.82</td>\n      <td>0.82</td>\n      <td>0.82</td>\n      <td>2946.00</td>\n      <td>0.82</td>\n      <td>0.82</td>\n      <td>0.82</td>\n      <td>2946.00</td>\n    </tr>\n    <tr>\n      <th>41</th>\n      <td>svm_oversample_split_30%</td>\n      <td>0.81</td>\n      <td>0.82</td>\n      <td>0.80</td>\n      <td>0.81</td>\n      <td>2203.00</td>\n      <td>0.81</td>\n      <td>0.82</td>\n      <td>0.81</td>\n      <td>2216.00</td>\n      <td>0.81</td>\n      <td>0.81</td>\n      <td>0.81</td>\n      <td>4419.00</td>\n      <td>0.81</td>\n      <td>0.81</td>\n      <td>0.81</td>\n      <td>4419.00</td>\n    </tr>\n    <tr>\n      <th>42</th>\n      <td>svm_undersample_split_10%</td>\n      <td>0.82</td>\n      <td>0.79</td>\n      <td>0.88</td>\n      <td>0.83</td>\n      <td>282.00</td>\n      <td>0.86</td>\n      <td>0.75</td>\n      <td>0.80</td>\n      <td>269.00</td>\n      <td>0.82</td>\n      <td>0.82</td>\n      <td>0.82</td>\n      <td>551.00</td>\n      <td>0.82</td>\n      <td>0.82</td>\n      <td>0.82</td>\n      <td>551.00</td>\n    </tr>\n    <tr>\n      <th>43</th>\n      <td>svm_undersample_split_20%</td>\n      <td>0.81</td>\n      <td>0.79</td>\n      <td>0.86</td>\n      <td>0.82</td>\n      <td>555.00</td>\n      <td>0.85</td>\n      <td>0.76</td>\n      <td>0.80</td>\n      <td>546.00</td>\n      <td>0.82</td>\n      <td>0.81</td>\n      <td>0.81</td>\n      <td>1101.00</td>\n      <td>0.82</td>\n      <td>0.81</td>\n      <td>0.81</td>\n      <td>1101.00</td>\n    </tr>\n    <tr>\n      <th>44</th>\n      <td>svm_undersample_split_30%</td>\n      <td>0.82</td>\n      <td>0.80</td>\n      <td>0.85</td>\n      <td>0.83</td>\n      <td>832.00</td>\n      <td>0.84</td>\n      <td>0.78</td>\n      <td>0.81</td>\n      <td>819.00</td>\n      <td>0.82</td>\n      <td>0.82</td>\n      <td>0.82</td>\n      <td>1651.00</td>\n      <td>0.82</td>\n      <td>0.82</td>\n      <td>0.82</td>\n      <td>1651.00</td>\n    </tr>\n  </tbody>\n</table>\n</div>"
     },
     "execution_count": 26,
     "metadata": {},
     "output_type": "execute_result"
    }
   ],
   "source": [
    "# Define the scenarios\n",
    "scenarios = [\n",
    "   ('dt','imbalance', 0.1),\n",
    "    ('dt','imbalance', 0.2),\n",
    "    ('dt','imbalance', 0.3),\n",
    "    ('dt','oversample', 0.1),\n",
    "    ('dt','oversample', 0.2),\n",
    "    ('dt','oversample', 0.3),\n",
    "    ('dt','undersample', 0.1),\n",
    "    ('dt','undersample', 0.2),\n",
    "    ('dt','undersample', 0.3),\n",
    "    ('rf','imbalance', 0.1),\n",
    "    ('rf','imbalance', 0.2),\n",
    "    ('rf','imbalance', 0.3),\n",
    "    ('rf','oversample', 0.1),\n",
    "    ('rf','oversample', 0.2),\n",
    "    ('rf','oversample', 0.3),\n",
    "    ('rf','undersample', 0.1),\n",
    "    ('rf','undersample', 0.2),\n",
    "    ('rf','undersample', 0.3),\n",
    "    ('knn','imbalance', 0.1),\n",
    "    ('knn','imbalance', 0.2),\n",
    "    ('knn','imbalance', 0.3),\n",
    "    ('knn','oversample', 0.1),\n",
    "    ('knn','oversample', 0.2),\n",
    "    ('knn','oversample', 0.3),\n",
    "    ('knn','undersample', 0.1),\n",
    "    ('knn','undersample', 0.2),\n",
    "    ('knn','undersample', 0.3),\n",
    "    ('xgb','imbalance', 0.1),\n",
    "    ('xgb','imbalance', 0.2),\n",
    "    ('xgb','imbalance', 0.3),\n",
    "    ('xgb','oversample', 0.1),\n",
    "    ('xgb','oversample', 0.2),\n",
    "    ('xgb','oversample', 0.3),\n",
    "    ('xgb','undersample', 0.1),\n",
    "    ('xgb','undersample', 0.2),\n",
    "    ('xgb','undersample', 0.3),\n",
    "    ('svm','imbalance', 0.1),\n",
    "    ('svm','imbalance', 0.2),\n",
    "    ('svm','imbalance', 0.3),\n",
    "    ('svm','oversample', 0.1),\n",
    "    ('svm','oversample', 0.2),\n",
    "    ('svm','oversample', 0.3),\n",
    "    ('svm','undersample', 0.1),\n",
    "    ('svm','undersample', 0.2),\n",
    "    ('svm','undersample', 0.3),\n",
    "]\n",
    "\n",
    "# Create an empty dataframe to store the results\n",
    "results_df = pd.DataFrame()\n",
    "\n",
    "# Loop through each scenario\n",
    "for classifier, balance_method, test_size in scenarios:\n",
    "    # Run the experiment\n",
    "    report, conf_matrix = run_experiment(raw_df, balance_method, test_size, classifier)\n",
    "    \n",
    "    # Flatten the classification report dict\n",
    "    report_flat = {}\n",
    "\n",
    "     # Add the scenario details\n",
    "    report_flat['scenario'] = f'{classifier}_{balance_method}_split_{int(test_size*100)}%'\n",
    "\n",
    "    for key_outer, value_outer in report.items():\n",
    "        if isinstance(value_outer, dict):\n",
    "            for key_inner, value_inner in value_outer.items():\n",
    "                report_flat[f'{key_outer}-{key_inner}'] = value_inner\n",
    "        else:\n",
    "            report_flat[key_outer] = value_outer\n",
    "    \n",
    "   \n",
    "    \n",
    "    # Append the result to the dataframe\n",
    "    # results_df = results_df.append(report_flat, ignore_index=True)\n",
    "    results_df = pd.concat([results_df, pd.DataFrame([report_flat])], ignore_index=True)\n",
    "\n",
    "\n",
    "    # Print and plot the confusion matrix\n",
    "    # print(f\"\\nConfusion Matrix for {balance_method} with test size {test_size*100}%:\")\n",
    "    # print(conf_matrix)\n",
    "    # plt.figure(figsize=(8, 6))\n",
    "    # sns.heatmap(conf_matrix, annot=True, fmt='d', cmap='Blues', cbar=False,\n",
    "    #             xticklabels=['No CVD', 'CVD'], yticklabels=['No CVD', 'CVD'])\n",
    "    # plt.xlabel('Predicted')\n",
    "    # plt.ylabel('Actual')\n",
    "    # plt.title(f'Confusion Matrix: {balance_method} - Test Size {int(test_size*100)}%')\n",
    "    # plt.show()\n",
    "\n",
    "desired_columns = [\n",
    "    'scenario', 'accuracy',\n",
    "    '0-precision', '0-recall', '0-f1-score', '0-support',\n",
    "    '1-precision', '1-recall', '1-f1-score', '1-support',\n",
    "    'macro avg-precision', 'macro avg-recall', 'macro avg-f1-score', 'macro avg-support',\n",
    "    'weighted avg-precision', 'weighted avg-recall', 'weighted avg-f1-score', 'weighted avg-support'\n",
    "]\n",
    "\n",
    "# Reorder columns in results_df\n",
    "results_df = results_df[desired_columns]\n",
    "\n",
    "results_df\n"
   ]
  },
  {
   "cell_type": "code",
   "execution_count": 26,
   "outputs": [],
   "source": [],
   "metadata": {
    "collapsed": false,
    "ExecuteTime": {
     "end_time": "2024-06-22T04:22:11.869068Z",
     "start_time": "2024-06-22T04:22:11.866586Z"
    }
   },
   "id": "d4cf2b0267bfbc23"
  }
 ],
 "metadata": {
  "kernelspec": {
   "display_name": "Python 3",
   "language": "python",
   "name": "python3"
  },
  "language_info": {
   "codemirror_mode": {
    "name": "ipython",
    "version": 3
   },
   "file_extension": ".py",
   "mimetype": "text/x-python",
   "name": "python",
   "nbconvert_exporter": "python",
   "pygments_lexer": "ipython3",
   "version": "3.11.4"
  }
 },
 "nbformat": 4,
 "nbformat_minor": 5
}
