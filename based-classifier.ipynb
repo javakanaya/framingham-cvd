{
 "cells": [
  {
   "cell_type": "markdown",
   "id": "fde6f38ed6991cf8",
   "metadata": {
    "collapsed": false
   },
   "source": [
    "# Import Libraries"
   ]
  },
  {
   "cell_type": "code",
   "execution_count": 1,
   "id": "initial_id",
   "metadata": {
    "collapsed": true,
    "ExecuteTime": {
     "end_time": "2024-06-22T18:05:04.907142Z",
     "start_time": "2024-06-22T18:05:04.344997Z"
    }
   },
   "outputs": [],
   "source": [
    "import pandas as pd\n",
    "from sklearn.model_selection import train_test_split\n",
    "import seaborn as sns\n",
    "import matplotlib.pyplot as plt\n",
    "from lazypredict.Supervised import LazyClassifier\n",
    "from sklearn.preprocessing import StandardScaler\n",
    "from sklearn.tree import DecisionTreeClassifier\n",
    "from sklearn.metrics import classification_report, confusion_matrix\n",
    "from sklearn.ensemble import RandomForestClassifier\n",
    "from sklearn.svm import SVC\n",
    "from sklearn.neighbors import KNeighborsClassifier\n",
    "from xgboost import XGBClassifier"
   ]
  },
  {
   "cell_type": "markdown",
   "id": "8fb10a87ca369896",
   "metadata": {
    "collapsed": false
   },
   "source": [
    "# Import Dataset"
   ]
  },
  {
   "cell_type": "code",
   "execution_count": 2,
   "id": "2c5d9183ac35ebb7",
   "metadata": {
    "collapsed": false,
    "ExecuteTime": {
     "end_time": "2024-06-22T18:05:04.925813Z",
     "start_time": "2024-06-22T18:05:04.907046Z"
    }
   },
   "outputs": [],
   "source": [
    "# fetch dataset \n",
    "raw_df = pd.read_csv('dataset/Framingham Dataset.csv')"
   ]
  },
  {
   "cell_type": "code",
   "execution_count": 3,
   "id": "ae6f53d0ed40fadb",
   "metadata": {
    "collapsed": false,
    "ExecuteTime": {
     "end_time": "2024-06-22T18:05:04.941867Z",
     "start_time": "2024-06-22T18:05:04.928695Z"
    }
   },
   "outputs": [
    {
     "data": {
      "text/plain": "        RANDID  SEX  TOTCHOL  AGE  SYSBP  DIABP  CURSMOKE  CIGPDAY   BMI  \\\n0         2448    1   195.00   39 106.00  70.00         0     0.00 26.97   \n1         2448    1   209.00   52 121.00  66.00         0     0.00   NaN   \n2         6238    2   250.00   46 121.00  81.00         0     0.00 28.73   \n3         6238    2   260.00   52 105.00  69.50         0     0.00 29.43   \n4         6238    2   237.00   58 108.00  66.00         0     0.00 28.50   \n...        ...  ...      ...  ...    ...    ...       ...      ...   ...   \n11622  9998212    1   173.00   46 126.00  82.00         0     0.00 19.17   \n11623  9998212    1   153.00   52 143.00  89.00         0     0.00 25.74   \n11624  9999312    2   196.00   39 133.00  86.00         1    30.00 20.91   \n11625  9999312    2   240.00   46 138.00  79.00         1    20.00 26.39   \n11626  9999312    2      NaN   50 147.00  96.00         1    10.00 24.19   \n\n       DIABETES  ...  CVD  HYPERTEN  TIMEAP  TIMEMI  TIMEMIFC  TIMECHD  \\\n0             0  ...    1         0    8766    6438      6438     6438   \n1             0  ...    1         0    8766    6438      6438     6438   \n2             0  ...    0         0    8766    8766      8766     8766   \n3             0  ...    0         0    8766    8766      8766     8766   \n4             0  ...    0         0    8766    8766      8766     8766   \n...         ...  ...  ...       ...     ...     ...       ...      ...   \n11622         0  ...    0         1    8766    8766      8766     8766   \n11623         0  ...    0         1    8766    8766      8766     8766   \n11624         0  ...    0         1    8766    8766      8766     8766   \n11625         0  ...    0         1    8766    8766      8766     8766   \n11626         0  ...    0         1    8766    8766      8766     8766   \n\n       TIMESTRK  TIMECVD  TIMEDTH  TIMEHYP  \n0          8766     6438     8766     8766  \n1          8766     6438     8766     8766  \n2          8766     8766     8766     8766  \n3          8766     8766     8766     8766  \n4          8766     8766     8766     8766  \n...         ...      ...      ...      ...  \n11622      8766     8766     8766        0  \n11623      8766     8766     8766        0  \n11624      8766     8766     8766     4201  \n11625      8766     8766     8766     4201  \n11626      8766     8766     8766     4201  \n\n[11627 rows x 39 columns]",
      "text/html": "<div>\n<style scoped>\n    .dataframe tbody tr th:only-of-type {\n        vertical-align: middle;\n    }\n\n    .dataframe tbody tr th {\n        vertical-align: top;\n    }\n\n    .dataframe thead th {\n        text-align: right;\n    }\n</style>\n<table border=\"1\" class=\"dataframe\">\n  <thead>\n    <tr style=\"text-align: right;\">\n      <th></th>\n      <th>RANDID</th>\n      <th>SEX</th>\n      <th>TOTCHOL</th>\n      <th>AGE</th>\n      <th>SYSBP</th>\n      <th>DIABP</th>\n      <th>CURSMOKE</th>\n      <th>CIGPDAY</th>\n      <th>BMI</th>\n      <th>DIABETES</th>\n      <th>...</th>\n      <th>CVD</th>\n      <th>HYPERTEN</th>\n      <th>TIMEAP</th>\n      <th>TIMEMI</th>\n      <th>TIMEMIFC</th>\n      <th>TIMECHD</th>\n      <th>TIMESTRK</th>\n      <th>TIMECVD</th>\n      <th>TIMEDTH</th>\n      <th>TIMEHYP</th>\n    </tr>\n  </thead>\n  <tbody>\n    <tr>\n      <th>0</th>\n      <td>2448</td>\n      <td>1</td>\n      <td>195.00</td>\n      <td>39</td>\n      <td>106.00</td>\n      <td>70.00</td>\n      <td>0</td>\n      <td>0.00</td>\n      <td>26.97</td>\n      <td>0</td>\n      <td>...</td>\n      <td>1</td>\n      <td>0</td>\n      <td>8766</td>\n      <td>6438</td>\n      <td>6438</td>\n      <td>6438</td>\n      <td>8766</td>\n      <td>6438</td>\n      <td>8766</td>\n      <td>8766</td>\n    </tr>\n    <tr>\n      <th>1</th>\n      <td>2448</td>\n      <td>1</td>\n      <td>209.00</td>\n      <td>52</td>\n      <td>121.00</td>\n      <td>66.00</td>\n      <td>0</td>\n      <td>0.00</td>\n      <td>NaN</td>\n      <td>0</td>\n      <td>...</td>\n      <td>1</td>\n      <td>0</td>\n      <td>8766</td>\n      <td>6438</td>\n      <td>6438</td>\n      <td>6438</td>\n      <td>8766</td>\n      <td>6438</td>\n      <td>8766</td>\n      <td>8766</td>\n    </tr>\n    <tr>\n      <th>2</th>\n      <td>6238</td>\n      <td>2</td>\n      <td>250.00</td>\n      <td>46</td>\n      <td>121.00</td>\n      <td>81.00</td>\n      <td>0</td>\n      <td>0.00</td>\n      <td>28.73</td>\n      <td>0</td>\n      <td>...</td>\n      <td>0</td>\n      <td>0</td>\n      <td>8766</td>\n      <td>8766</td>\n      <td>8766</td>\n      <td>8766</td>\n      <td>8766</td>\n      <td>8766</td>\n      <td>8766</td>\n      <td>8766</td>\n    </tr>\n    <tr>\n      <th>3</th>\n      <td>6238</td>\n      <td>2</td>\n      <td>260.00</td>\n      <td>52</td>\n      <td>105.00</td>\n      <td>69.50</td>\n      <td>0</td>\n      <td>0.00</td>\n      <td>29.43</td>\n      <td>0</td>\n      <td>...</td>\n      <td>0</td>\n      <td>0</td>\n      <td>8766</td>\n      <td>8766</td>\n      <td>8766</td>\n      <td>8766</td>\n      <td>8766</td>\n      <td>8766</td>\n      <td>8766</td>\n      <td>8766</td>\n    </tr>\n    <tr>\n      <th>4</th>\n      <td>6238</td>\n      <td>2</td>\n      <td>237.00</td>\n      <td>58</td>\n      <td>108.00</td>\n      <td>66.00</td>\n      <td>0</td>\n      <td>0.00</td>\n      <td>28.50</td>\n      <td>0</td>\n      <td>...</td>\n      <td>0</td>\n      <td>0</td>\n      <td>8766</td>\n      <td>8766</td>\n      <td>8766</td>\n      <td>8766</td>\n      <td>8766</td>\n      <td>8766</td>\n      <td>8766</td>\n      <td>8766</td>\n    </tr>\n    <tr>\n      <th>...</th>\n      <td>...</td>\n      <td>...</td>\n      <td>...</td>\n      <td>...</td>\n      <td>...</td>\n      <td>...</td>\n      <td>...</td>\n      <td>...</td>\n      <td>...</td>\n      <td>...</td>\n      <td>...</td>\n      <td>...</td>\n      <td>...</td>\n      <td>...</td>\n      <td>...</td>\n      <td>...</td>\n      <td>...</td>\n      <td>...</td>\n      <td>...</td>\n      <td>...</td>\n      <td>...</td>\n    </tr>\n    <tr>\n      <th>11622</th>\n      <td>9998212</td>\n      <td>1</td>\n      <td>173.00</td>\n      <td>46</td>\n      <td>126.00</td>\n      <td>82.00</td>\n      <td>0</td>\n      <td>0.00</td>\n      <td>19.17</td>\n      <td>0</td>\n      <td>...</td>\n      <td>0</td>\n      <td>1</td>\n      <td>8766</td>\n      <td>8766</td>\n      <td>8766</td>\n      <td>8766</td>\n      <td>8766</td>\n      <td>8766</td>\n      <td>8766</td>\n      <td>0</td>\n    </tr>\n    <tr>\n      <th>11623</th>\n      <td>9998212</td>\n      <td>1</td>\n      <td>153.00</td>\n      <td>52</td>\n      <td>143.00</td>\n      <td>89.00</td>\n      <td>0</td>\n      <td>0.00</td>\n      <td>25.74</td>\n      <td>0</td>\n      <td>...</td>\n      <td>0</td>\n      <td>1</td>\n      <td>8766</td>\n      <td>8766</td>\n      <td>8766</td>\n      <td>8766</td>\n      <td>8766</td>\n      <td>8766</td>\n      <td>8766</td>\n      <td>0</td>\n    </tr>\n    <tr>\n      <th>11624</th>\n      <td>9999312</td>\n      <td>2</td>\n      <td>196.00</td>\n      <td>39</td>\n      <td>133.00</td>\n      <td>86.00</td>\n      <td>1</td>\n      <td>30.00</td>\n      <td>20.91</td>\n      <td>0</td>\n      <td>...</td>\n      <td>0</td>\n      <td>1</td>\n      <td>8766</td>\n      <td>8766</td>\n      <td>8766</td>\n      <td>8766</td>\n      <td>8766</td>\n      <td>8766</td>\n      <td>8766</td>\n      <td>4201</td>\n    </tr>\n    <tr>\n      <th>11625</th>\n      <td>9999312</td>\n      <td>2</td>\n      <td>240.00</td>\n      <td>46</td>\n      <td>138.00</td>\n      <td>79.00</td>\n      <td>1</td>\n      <td>20.00</td>\n      <td>26.39</td>\n      <td>0</td>\n      <td>...</td>\n      <td>0</td>\n      <td>1</td>\n      <td>8766</td>\n      <td>8766</td>\n      <td>8766</td>\n      <td>8766</td>\n      <td>8766</td>\n      <td>8766</td>\n      <td>8766</td>\n      <td>4201</td>\n    </tr>\n    <tr>\n      <th>11626</th>\n      <td>9999312</td>\n      <td>2</td>\n      <td>NaN</td>\n      <td>50</td>\n      <td>147.00</td>\n      <td>96.00</td>\n      <td>1</td>\n      <td>10.00</td>\n      <td>24.19</td>\n      <td>0</td>\n      <td>...</td>\n      <td>0</td>\n      <td>1</td>\n      <td>8766</td>\n      <td>8766</td>\n      <td>8766</td>\n      <td>8766</td>\n      <td>8766</td>\n      <td>8766</td>\n      <td>8766</td>\n      <td>4201</td>\n    </tr>\n  </tbody>\n</table>\n<p>11627 rows × 39 columns</p>\n</div>"
     },
     "execution_count": 3,
     "metadata": {},
     "output_type": "execute_result"
    }
   ],
   "source": [
    "raw_df"
   ]
  },
  {
   "cell_type": "markdown",
   "id": "2582fdbb255c3adc",
   "metadata": {
    "collapsed": false
   },
   "source": [
    "# EDA"
   ]
  },
  {
   "cell_type": "code",
   "execution_count": 4,
   "id": "70604c551ae57654",
   "metadata": {
    "collapsed": false,
    "ExecuteTime": {
     "end_time": "2024-06-22T18:05:04.944785Z",
     "start_time": "2024-06-22T18:05:04.937523Z"
    }
   },
   "outputs": [
    {
     "name": "stdout",
     "output_type": "stream",
     "text": [
      "<class 'pandas.core.frame.DataFrame'>\n",
      "RangeIndex: 11627 entries, 0 to 11626\n",
      "Data columns (total 39 columns):\n",
      " #   Column    Non-Null Count  Dtype  \n",
      "---  ------    --------------  -----  \n",
      " 0   RANDID    11627 non-null  int64  \n",
      " 1   SEX       11627 non-null  int64  \n",
      " 2   TOTCHOL   11218 non-null  float64\n",
      " 3   AGE       11627 non-null  int64  \n",
      " 4   SYSBP     11627 non-null  float64\n",
      " 5   DIABP     11627 non-null  float64\n",
      " 6   CURSMOKE  11627 non-null  int64  \n",
      " 7   CIGPDAY   11548 non-null  float64\n",
      " 8   BMI       11575 non-null  float64\n",
      " 9   DIABETES  11627 non-null  int64  \n",
      " 10  BPMEDS    11034 non-null  float64\n",
      " 11  HEARTRTE  11621 non-null  float64\n",
      " 12  GLUCOSE   10187 non-null  float64\n",
      " 13  educ      11332 non-null  float64\n",
      " 14  PREVCHD   11627 non-null  int64  \n",
      " 15  PREVAP    11627 non-null  int64  \n",
      " 16  PREVMI    11627 non-null  int64  \n",
      " 17  PREVSTRK  11627 non-null  int64  \n",
      " 18  PREVHYP   11627 non-null  int64  \n",
      " 19  TIME      11627 non-null  int64  \n",
      " 20  PERIOD    11627 non-null  int64  \n",
      " 21  HDLC      3027 non-null   float64\n",
      " 22  LDLC      3026 non-null   float64\n",
      " 23  DEATH     11627 non-null  int64  \n",
      " 24  ANGINA    11627 non-null  int64  \n",
      " 25  HOSPMI    11627 non-null  int64  \n",
      " 26  MI_FCHD   11627 non-null  int64  \n",
      " 27  ANYCHD    11627 non-null  int64  \n",
      " 28  STROKE    11627 non-null  int64  \n",
      " 29  CVD       11627 non-null  int64  \n",
      " 30  HYPERTEN  11627 non-null  int64  \n",
      " 31  TIMEAP    11627 non-null  int64  \n",
      " 32  TIMEMI    11627 non-null  int64  \n",
      " 33  TIMEMIFC  11627 non-null  int64  \n",
      " 34  TIMECHD   11627 non-null  int64  \n",
      " 35  TIMESTRK  11627 non-null  int64  \n",
      " 36  TIMECVD   11627 non-null  int64  \n",
      " 37  TIMEDTH   11627 non-null  int64  \n",
      " 38  TIMEHYP   11627 non-null  int64  \n",
      "dtypes: float64(11), int64(28)\n",
      "memory usage: 3.5 MB\n"
     ]
    }
   ],
   "source": [
    "raw_df.info()"
   ]
  },
  {
   "cell_type": "code",
   "execution_count": 5,
   "id": "90eb658d5bc81fb4",
   "metadata": {
    "collapsed": false,
    "ExecuteTime": {
     "end_time": "2024-06-22T18:05:04.950173Z",
     "start_time": "2024-06-22T18:05:04.944587Z"
    }
   },
   "outputs": [
    {
     "name": "stdout",
     "output_type": "stream",
     "text": [
      "Categorical: []\n",
      "Numerical: ['RANDID', 'SEX', 'TOTCHOL', 'AGE', 'SYSBP', 'DIABP', 'CURSMOKE', 'CIGPDAY', 'BMI', 'DIABETES', 'BPMEDS', 'HEARTRTE', 'GLUCOSE', 'educ', 'PREVCHD', 'PREVAP', 'PREVMI', 'PREVSTRK', 'PREVHYP', 'TIME', 'PERIOD', 'HDLC', 'LDLC', 'DEATH', 'ANGINA', 'HOSPMI', 'MI_FCHD', 'ANYCHD', 'STROKE', 'CVD', 'HYPERTEN', 'TIMEAP', 'TIMEMI', 'TIMEMIFC', 'TIMECHD', 'TIMESTRK', 'TIMECVD', 'TIMEDTH', 'TIMEHYP']\n"
     ]
    }
   ],
   "source": [
    "# Initialize empty lists for categorical, numerical, and binary features\n",
    "categorical = []\n",
    "numerical = []\n",
    "\n",
    "# Iterate through columns and append to appropriate list\n",
    "for column in raw_df.columns:\n",
    "    if raw_df[column].dtype == 'object':\n",
    "        categorical.append(column)\n",
    "    elif raw_df[column].dtype in ['float64', 'int64']:\n",
    "        numerical.append(column)\n",
    "        \n",
    "print('Categorical:', categorical)\n",
    "print('Numerical:', numerical)\n"
   ]
  },
  {
   "cell_type": "code",
   "execution_count": 6,
   "id": "85d77dcfbe4d9d5a",
   "metadata": {
    "collapsed": false,
    "ExecuteTime": {
     "end_time": "2024-06-22T18:05:04.951836Z",
     "start_time": "2024-06-22T18:05:04.948670Z"
    }
   },
   "outputs": [],
   "source": [
    "# # Calculate number of rows and columns for the grid\n",
    "# num_cols = 3  # Number of columns in the grid\n",
    "# num_rows_numerical = (len(numerical) + num_cols - 1) // num_cols  # Calculate number of rows needed for numerical features\n",
    "# num_rows_categorical = (len(categorical) + num_cols - 1) // num_cols  # Calculate number of rows needed for categorical features\n",
    "\n",
    "# # Plot numerical features in a grid\n",
    "# plt.figure(figsize=(20, 4 * num_rows_numerical))  # Adjust height based on number of rows\n",
    "\n",
    "# for i, feature in enumerate(numerical):\n",
    "#     plt.subplot(num_rows_numerical, num_cols, i + 1)\n",
    "#     sns.histplot(data=raw_df, x=feature, bins=15, hue='CVD')\n",
    "#     plt.title(f'Histogram of {feature}')\n",
    "#     plt.xlabel(feature)\n",
    "#     plt.ylabel('Frequency')\n",
    "\n",
    "# plt.tight_layout()\n",
    "# plt.show()\n",
    "\n",
    "\n",
    "# # Plot categorical features in a grid\n",
    "# plt.figure(figsize=(20, 4 * num_rows_categorical))  # Adjust height based on number of rows\n",
    "\n",
    "# for i, feature in enumerate(categorical):\n",
    "#     plt.subplot(num_rows_categorical, num_cols, i + 1)\n",
    "#     sns.countplot(y=feature, data=raw_df, hue='CVD')\n",
    "#     plt.title(f'Bar Plot of {feature}')\n",
    "#     plt.xlabel('Count')\n",
    "#     plt.ylabel(feature)\n",
    "\n",
    "# plt.tight_layout()\n",
    "# plt.show()"
   ]
  },
  {
   "cell_type": "code",
   "execution_count": 7,
   "id": "970e2cddc2db4d2d",
   "metadata": {
    "collapsed": false,
    "ExecuteTime": {
     "end_time": "2024-06-22T18:05:04.952824Z",
     "start_time": "2024-06-22T18:05:04.951325Z"
    }
   },
   "outputs": [],
   "source": [
    "# # Get value counts for all columns\n",
    "# value_counts = {column: raw_df[column].value_counts() for column in raw_df.columns}\n",
    "\n",
    "# # Print value counts for all columns\n",
    "# for column, counts in value_counts.items():\n",
    "#     print(f\"Value counts for column '{column}':\")\n",
    "#     print(counts)\n",
    "#     print()"
   ]
  },
  {
   "cell_type": "markdown",
   "id": "94f93558350e79e3",
   "metadata": {
    "collapsed": false
   },
   "source": [
    "# Preprocessing\n",
    "## Handling Missing Values"
   ]
  },
  {
   "cell_type": "code",
   "execution_count": 8,
   "id": "6a3e2802b6df6f6f",
   "metadata": {
    "collapsed": false,
    "ExecuteTime": {
     "end_time": "2024-06-22T18:05:04.957440Z",
     "start_time": "2024-06-22T18:05:04.953719Z"
    }
   },
   "outputs": [],
   "source": [
    "# counter percentage missing value in dataset (Function)\n",
    "def missing_value(data_frame):\n",
    "    total = data_frame.isnull().sum().sort_values(ascending=False)\n",
    "    percentage = (data_frame.isnull().sum() / data_frame.isnull().count() * 100).sort_values(ascending=False)\n",
    "    dtypes = data_frame.dtypes\n",
    "    return pd.concat([total, percentage, dtypes], axis=1, keys=['Total', 'Percentage', 'Dtypes'])"
   ]
  },
  {
   "cell_type": "code",
   "execution_count": 9,
   "id": "d01f961011ee0db1",
   "metadata": {
    "collapsed": false,
    "ExecuteTime": {
     "end_time": "2024-06-22T18:05:04.986873Z",
     "start_time": "2024-06-22T18:05:04.955298Z"
    }
   },
   "outputs": [
    {
     "data": {
      "text/plain": "          Total  Percentage   Dtypes\nLDLC       8601       73.97  float64\nHDLC       8600       73.97  float64\nGLUCOSE    1440       12.38  float64\nBPMEDS      593        5.10  float64\nTOTCHOL     409        3.52  float64\neduc        295        2.54  float64\nCIGPDAY      79        0.68  float64\nBMI          52        0.45  float64\nHEARTRTE      6        0.05  float64\nTIMEAP        0        0.00    int64\nMI_FCHD       0        0.00    int64\nANYCHD        0        0.00    int64\nSTROKE        0        0.00    int64\nCVD           0        0.00    int64\nHYPERTEN      0        0.00    int64\nRANDID        0        0.00    int64\nTIMEMI        0        0.00    int64\nANGINA        0        0.00    int64\nTIMEMIFC      0        0.00    int64\nTIMECHD       0        0.00    int64\nTIMESTRK      0        0.00    int64\nTIMECVD       0        0.00    int64\nTIMEDTH       0        0.00    int64\nHOSPMI        0        0.00    int64\nTIME          0        0.00    int64\nDEATH         0        0.00    int64\nPERIOD        0        0.00    int64\nSEX           0        0.00    int64\nPREVHYP       0        0.00    int64\nPREVSTRK      0        0.00    int64\nPREVMI        0        0.00    int64\nPREVAP        0        0.00    int64\nPREVCHD       0        0.00    int64\nDIABETES      0        0.00    int64\nCURSMOKE      0        0.00    int64\nDIABP         0        0.00  float64\nSYSBP         0        0.00  float64\nAGE           0        0.00    int64\nTIMEHYP       0        0.00    int64",
      "text/html": "<div>\n<style scoped>\n    .dataframe tbody tr th:only-of-type {\n        vertical-align: middle;\n    }\n\n    .dataframe tbody tr th {\n        vertical-align: top;\n    }\n\n    .dataframe thead th {\n        text-align: right;\n    }\n</style>\n<table border=\"1\" class=\"dataframe\">\n  <thead>\n    <tr style=\"text-align: right;\">\n      <th></th>\n      <th>Total</th>\n      <th>Percentage</th>\n      <th>Dtypes</th>\n    </tr>\n  </thead>\n  <tbody>\n    <tr>\n      <th>LDLC</th>\n      <td>8601</td>\n      <td>73.97</td>\n      <td>float64</td>\n    </tr>\n    <tr>\n      <th>HDLC</th>\n      <td>8600</td>\n      <td>73.97</td>\n      <td>float64</td>\n    </tr>\n    <tr>\n      <th>GLUCOSE</th>\n      <td>1440</td>\n      <td>12.38</td>\n      <td>float64</td>\n    </tr>\n    <tr>\n      <th>BPMEDS</th>\n      <td>593</td>\n      <td>5.10</td>\n      <td>float64</td>\n    </tr>\n    <tr>\n      <th>TOTCHOL</th>\n      <td>409</td>\n      <td>3.52</td>\n      <td>float64</td>\n    </tr>\n    <tr>\n      <th>educ</th>\n      <td>295</td>\n      <td>2.54</td>\n      <td>float64</td>\n    </tr>\n    <tr>\n      <th>CIGPDAY</th>\n      <td>79</td>\n      <td>0.68</td>\n      <td>float64</td>\n    </tr>\n    <tr>\n      <th>BMI</th>\n      <td>52</td>\n      <td>0.45</td>\n      <td>float64</td>\n    </tr>\n    <tr>\n      <th>HEARTRTE</th>\n      <td>6</td>\n      <td>0.05</td>\n      <td>float64</td>\n    </tr>\n    <tr>\n      <th>TIMEAP</th>\n      <td>0</td>\n      <td>0.00</td>\n      <td>int64</td>\n    </tr>\n    <tr>\n      <th>MI_FCHD</th>\n      <td>0</td>\n      <td>0.00</td>\n      <td>int64</td>\n    </tr>\n    <tr>\n      <th>ANYCHD</th>\n      <td>0</td>\n      <td>0.00</td>\n      <td>int64</td>\n    </tr>\n    <tr>\n      <th>STROKE</th>\n      <td>0</td>\n      <td>0.00</td>\n      <td>int64</td>\n    </tr>\n    <tr>\n      <th>CVD</th>\n      <td>0</td>\n      <td>0.00</td>\n      <td>int64</td>\n    </tr>\n    <tr>\n      <th>HYPERTEN</th>\n      <td>0</td>\n      <td>0.00</td>\n      <td>int64</td>\n    </tr>\n    <tr>\n      <th>RANDID</th>\n      <td>0</td>\n      <td>0.00</td>\n      <td>int64</td>\n    </tr>\n    <tr>\n      <th>TIMEMI</th>\n      <td>0</td>\n      <td>0.00</td>\n      <td>int64</td>\n    </tr>\n    <tr>\n      <th>ANGINA</th>\n      <td>0</td>\n      <td>0.00</td>\n      <td>int64</td>\n    </tr>\n    <tr>\n      <th>TIMEMIFC</th>\n      <td>0</td>\n      <td>0.00</td>\n      <td>int64</td>\n    </tr>\n    <tr>\n      <th>TIMECHD</th>\n      <td>0</td>\n      <td>0.00</td>\n      <td>int64</td>\n    </tr>\n    <tr>\n      <th>TIMESTRK</th>\n      <td>0</td>\n      <td>0.00</td>\n      <td>int64</td>\n    </tr>\n    <tr>\n      <th>TIMECVD</th>\n      <td>0</td>\n      <td>0.00</td>\n      <td>int64</td>\n    </tr>\n    <tr>\n      <th>TIMEDTH</th>\n      <td>0</td>\n      <td>0.00</td>\n      <td>int64</td>\n    </tr>\n    <tr>\n      <th>HOSPMI</th>\n      <td>0</td>\n      <td>0.00</td>\n      <td>int64</td>\n    </tr>\n    <tr>\n      <th>TIME</th>\n      <td>0</td>\n      <td>0.00</td>\n      <td>int64</td>\n    </tr>\n    <tr>\n      <th>DEATH</th>\n      <td>0</td>\n      <td>0.00</td>\n      <td>int64</td>\n    </tr>\n    <tr>\n      <th>PERIOD</th>\n      <td>0</td>\n      <td>0.00</td>\n      <td>int64</td>\n    </tr>\n    <tr>\n      <th>SEX</th>\n      <td>0</td>\n      <td>0.00</td>\n      <td>int64</td>\n    </tr>\n    <tr>\n      <th>PREVHYP</th>\n      <td>0</td>\n      <td>0.00</td>\n      <td>int64</td>\n    </tr>\n    <tr>\n      <th>PREVSTRK</th>\n      <td>0</td>\n      <td>0.00</td>\n      <td>int64</td>\n    </tr>\n    <tr>\n      <th>PREVMI</th>\n      <td>0</td>\n      <td>0.00</td>\n      <td>int64</td>\n    </tr>\n    <tr>\n      <th>PREVAP</th>\n      <td>0</td>\n      <td>0.00</td>\n      <td>int64</td>\n    </tr>\n    <tr>\n      <th>PREVCHD</th>\n      <td>0</td>\n      <td>0.00</td>\n      <td>int64</td>\n    </tr>\n    <tr>\n      <th>DIABETES</th>\n      <td>0</td>\n      <td>0.00</td>\n      <td>int64</td>\n    </tr>\n    <tr>\n      <th>CURSMOKE</th>\n      <td>0</td>\n      <td>0.00</td>\n      <td>int64</td>\n    </tr>\n    <tr>\n      <th>DIABP</th>\n      <td>0</td>\n      <td>0.00</td>\n      <td>float64</td>\n    </tr>\n    <tr>\n      <th>SYSBP</th>\n      <td>0</td>\n      <td>0.00</td>\n      <td>float64</td>\n    </tr>\n    <tr>\n      <th>AGE</th>\n      <td>0</td>\n      <td>0.00</td>\n      <td>int64</td>\n    </tr>\n    <tr>\n      <th>TIMEHYP</th>\n      <td>0</td>\n      <td>0.00</td>\n      <td>int64</td>\n    </tr>\n  </tbody>\n</table>\n</div>"
     },
     "execution_count": 9,
     "metadata": {},
     "output_type": "execute_result"
    }
   ],
   "source": [
    "missing_value(raw_df)"
   ]
  },
  {
   "cell_type": "code",
   "execution_count": 10,
   "id": "d7cfbcd89330fb28",
   "metadata": {
    "collapsed": false,
    "ExecuteTime": {
     "end_time": "2024-06-22T18:05:05.008509Z",
     "start_time": "2024-06-22T18:05:04.961652Z"
    }
   },
   "outputs": [],
   "source": [
    "def impute_median(data):\n",
    "    return data.fillna(data.median())\n",
    "\n",
    "raw_df['TOTCHOL'] = raw_df['TOTCHOL'].transform(impute_median)\n",
    "raw_df['CIGPDAY'] = raw_df['CIGPDAY'].transform(impute_median)\n",
    "raw_df['BMI'] = raw_df['BMI'].transform(impute_median)\n",
    "raw_df['BPMEDS'] = raw_df['BPMEDS'].transform(impute_median)\n",
    "raw_df['HEARTRTE'] = raw_df['HEARTRTE'].transform(impute_median)\n",
    "raw_df['GLUCOSE'] = raw_df['GLUCOSE'].transform(impute_median)\n",
    "raw_df['educ'] = raw_df['educ'].transform(impute_median)"
   ]
  },
  {
   "cell_type": "code",
   "execution_count": 11,
   "id": "415e3e6907137162",
   "metadata": {
    "collapsed": false,
    "ExecuteTime": {
     "end_time": "2024-06-22T18:05:05.024933Z",
     "start_time": "2024-06-22T18:05:04.969145Z"
    }
   },
   "outputs": [
    {
     "data": {
      "text/plain": "          Total  Percentage   Dtypes\nLDLC       8601       73.97  float64\nHDLC       8600       73.97  float64\nCVD           0        0.00    int64\nDEATH         0        0.00    int64\nANGINA        0        0.00    int64\nHOSPMI        0        0.00    int64\nMI_FCHD       0        0.00    int64\nANYCHD        0        0.00    int64\nSTROKE        0        0.00    int64\nRANDID        0        0.00    int64\nPERIOD        0        0.00    int64\nTIMEAP        0        0.00    int64\nTIMEMI        0        0.00    int64\nTIMEMIFC      0        0.00    int64\nTIMECHD       0        0.00    int64\nTIMESTRK      0        0.00    int64\nTIMECVD       0        0.00    int64\nTIMEDTH       0        0.00    int64\nHYPERTEN      0        0.00    int64\nTIME          0        0.00    int64\nSEX           0        0.00    int64\nDIABETES      0        0.00    int64\nTOTCHOL       0        0.00  float64\nAGE           0        0.00    int64\nSYSBP         0        0.00  float64\nDIABP         0        0.00  float64\nCURSMOKE      0        0.00    int64\nCIGPDAY       0        0.00  float64\nBMI           0        0.00  float64\nBPMEDS        0        0.00  float64\nPREVHYP       0        0.00    int64\nHEARTRTE      0        0.00  float64\nGLUCOSE       0        0.00  float64\neduc          0        0.00  float64\nPREVCHD       0        0.00    int64\nPREVAP        0        0.00    int64\nPREVMI        0        0.00    int64\nPREVSTRK      0        0.00    int64\nTIMEHYP       0        0.00    int64",
      "text/html": "<div>\n<style scoped>\n    .dataframe tbody tr th:only-of-type {\n        vertical-align: middle;\n    }\n\n    .dataframe tbody tr th {\n        vertical-align: top;\n    }\n\n    .dataframe thead th {\n        text-align: right;\n    }\n</style>\n<table border=\"1\" class=\"dataframe\">\n  <thead>\n    <tr style=\"text-align: right;\">\n      <th></th>\n      <th>Total</th>\n      <th>Percentage</th>\n      <th>Dtypes</th>\n    </tr>\n  </thead>\n  <tbody>\n    <tr>\n      <th>LDLC</th>\n      <td>8601</td>\n      <td>73.97</td>\n      <td>float64</td>\n    </tr>\n    <tr>\n      <th>HDLC</th>\n      <td>8600</td>\n      <td>73.97</td>\n      <td>float64</td>\n    </tr>\n    <tr>\n      <th>CVD</th>\n      <td>0</td>\n      <td>0.00</td>\n      <td>int64</td>\n    </tr>\n    <tr>\n      <th>DEATH</th>\n      <td>0</td>\n      <td>0.00</td>\n      <td>int64</td>\n    </tr>\n    <tr>\n      <th>ANGINA</th>\n      <td>0</td>\n      <td>0.00</td>\n      <td>int64</td>\n    </tr>\n    <tr>\n      <th>HOSPMI</th>\n      <td>0</td>\n      <td>0.00</td>\n      <td>int64</td>\n    </tr>\n    <tr>\n      <th>MI_FCHD</th>\n      <td>0</td>\n      <td>0.00</td>\n      <td>int64</td>\n    </tr>\n    <tr>\n      <th>ANYCHD</th>\n      <td>0</td>\n      <td>0.00</td>\n      <td>int64</td>\n    </tr>\n    <tr>\n      <th>STROKE</th>\n      <td>0</td>\n      <td>0.00</td>\n      <td>int64</td>\n    </tr>\n    <tr>\n      <th>RANDID</th>\n      <td>0</td>\n      <td>0.00</td>\n      <td>int64</td>\n    </tr>\n    <tr>\n      <th>PERIOD</th>\n      <td>0</td>\n      <td>0.00</td>\n      <td>int64</td>\n    </tr>\n    <tr>\n      <th>TIMEAP</th>\n      <td>0</td>\n      <td>0.00</td>\n      <td>int64</td>\n    </tr>\n    <tr>\n      <th>TIMEMI</th>\n      <td>0</td>\n      <td>0.00</td>\n      <td>int64</td>\n    </tr>\n    <tr>\n      <th>TIMEMIFC</th>\n      <td>0</td>\n      <td>0.00</td>\n      <td>int64</td>\n    </tr>\n    <tr>\n      <th>TIMECHD</th>\n      <td>0</td>\n      <td>0.00</td>\n      <td>int64</td>\n    </tr>\n    <tr>\n      <th>TIMESTRK</th>\n      <td>0</td>\n      <td>0.00</td>\n      <td>int64</td>\n    </tr>\n    <tr>\n      <th>TIMECVD</th>\n      <td>0</td>\n      <td>0.00</td>\n      <td>int64</td>\n    </tr>\n    <tr>\n      <th>TIMEDTH</th>\n      <td>0</td>\n      <td>0.00</td>\n      <td>int64</td>\n    </tr>\n    <tr>\n      <th>HYPERTEN</th>\n      <td>0</td>\n      <td>0.00</td>\n      <td>int64</td>\n    </tr>\n    <tr>\n      <th>TIME</th>\n      <td>0</td>\n      <td>0.00</td>\n      <td>int64</td>\n    </tr>\n    <tr>\n      <th>SEX</th>\n      <td>0</td>\n      <td>0.00</td>\n      <td>int64</td>\n    </tr>\n    <tr>\n      <th>DIABETES</th>\n      <td>0</td>\n      <td>0.00</td>\n      <td>int64</td>\n    </tr>\n    <tr>\n      <th>TOTCHOL</th>\n      <td>0</td>\n      <td>0.00</td>\n      <td>float64</td>\n    </tr>\n    <tr>\n      <th>AGE</th>\n      <td>0</td>\n      <td>0.00</td>\n      <td>int64</td>\n    </tr>\n    <tr>\n      <th>SYSBP</th>\n      <td>0</td>\n      <td>0.00</td>\n      <td>float64</td>\n    </tr>\n    <tr>\n      <th>DIABP</th>\n      <td>0</td>\n      <td>0.00</td>\n      <td>float64</td>\n    </tr>\n    <tr>\n      <th>CURSMOKE</th>\n      <td>0</td>\n      <td>0.00</td>\n      <td>int64</td>\n    </tr>\n    <tr>\n      <th>CIGPDAY</th>\n      <td>0</td>\n      <td>0.00</td>\n      <td>float64</td>\n    </tr>\n    <tr>\n      <th>BMI</th>\n      <td>0</td>\n      <td>0.00</td>\n      <td>float64</td>\n    </tr>\n    <tr>\n      <th>BPMEDS</th>\n      <td>0</td>\n      <td>0.00</td>\n      <td>float64</td>\n    </tr>\n    <tr>\n      <th>PREVHYP</th>\n      <td>0</td>\n      <td>0.00</td>\n      <td>int64</td>\n    </tr>\n    <tr>\n      <th>HEARTRTE</th>\n      <td>0</td>\n      <td>0.00</td>\n      <td>float64</td>\n    </tr>\n    <tr>\n      <th>GLUCOSE</th>\n      <td>0</td>\n      <td>0.00</td>\n      <td>float64</td>\n    </tr>\n    <tr>\n      <th>educ</th>\n      <td>0</td>\n      <td>0.00</td>\n      <td>float64</td>\n    </tr>\n    <tr>\n      <th>PREVCHD</th>\n      <td>0</td>\n      <td>0.00</td>\n      <td>int64</td>\n    </tr>\n    <tr>\n      <th>PREVAP</th>\n      <td>0</td>\n      <td>0.00</td>\n      <td>int64</td>\n    </tr>\n    <tr>\n      <th>PREVMI</th>\n      <td>0</td>\n      <td>0.00</td>\n      <td>int64</td>\n    </tr>\n    <tr>\n      <th>PREVSTRK</th>\n      <td>0</td>\n      <td>0.00</td>\n      <td>int64</td>\n    </tr>\n    <tr>\n      <th>TIMEHYP</th>\n      <td>0</td>\n      <td>0.00</td>\n      <td>int64</td>\n    </tr>\n  </tbody>\n</table>\n</div>"
     },
     "execution_count": 11,
     "metadata": {},
     "output_type": "execute_result"
    }
   ],
   "source": [
    "missing_value(raw_df)"
   ]
  },
  {
   "cell_type": "markdown",
   "id": "ca746d2a8eab5f93",
   "metadata": {
    "collapsed": false
   },
   "source": [
    "## Outliers"
   ]
  },
  {
   "cell_type": "code",
   "execution_count": 12,
   "id": "c0da9f4b2ef07213",
   "metadata": {
    "collapsed": false,
    "ExecuteTime": {
     "end_time": "2024-06-22T18:05:05.025233Z",
     "start_time": "2024-06-22T18:05:04.975646Z"
    }
   },
   "outputs": [],
   "source": [
    "# # Assuming `raw_df` is your dataframe and `numerical` is a list of numerical column names\n",
    "# fig, axes = plt.subplots(nrows=num_rows_numerical, ncols=num_cols, figsize=(15, 5 * num_rows_numerical))\n",
    "\n",
    "# # Flatten the axes array to make it easier to iterate over\n",
    "# axes = axes.flatten()\n",
    "\n",
    "# # Create box plots for each selected feature\n",
    "# for i, feature in enumerate(numerical):\n",
    "#     sns.boxplot(raw_df[feature], color='blue', ax=axes[i])\n",
    "#     axes[i].set_title(f'{feature} Distribution')\n",
    "#     axes[i].set_xlabel(f'Amount Spent on {feature}')\n",
    "#     axes[i].set_ylabel('Amount')\n",
    "\n",
    "# # Remove any extra subplots if there are fewer features than subplots\n",
    "# for j in range(i + 1, num_rows_numerical * num_cols):\n",
    "#     fig.delaxes(axes[j])\n",
    "\n",
    "# # Adjust layout\n",
    "# plt.tight_layout()\n",
    "# plt.show()\n"
   ]
  },
  {
   "cell_type": "code",
   "execution_count": 13,
   "id": "c36ef4c971586e6f",
   "metadata": {
    "collapsed": false,
    "ExecuteTime": {
     "end_time": "2024-06-22T18:05:05.042670Z",
     "start_time": "2024-06-22T18:05:04.978968Z"
    }
   },
   "outputs": [],
   "source": [
    "raw_df = raw_df[raw_df['CIGPDAY'] <= 40]\n",
    "raw_df = raw_df[(raw_df['DIABP'] > 40) & (raw_df['DIABP'] < 140)]\n",
    "raw_df = raw_df[(raw_df['BMI'] <= 50) & (raw_df['BMI'] >= 20)]\n",
    "raw_df = raw_df[raw_df['HEARTRTE'] <= 200]\n",
    "raw_df = raw_df[raw_df['GLUCOSE'] < 450]\n",
    "raw_df = raw_df[raw_df['TOTCHOL'] < 500]"
   ]
  },
  {
   "cell_type": "code",
   "execution_count": 14,
   "id": "f69487d90e540d3f",
   "metadata": {
    "collapsed": false,
    "ExecuteTime": {
     "end_time": "2024-06-22T18:05:05.056314Z",
     "start_time": "2024-06-22T18:05:04.986055Z"
    }
   },
   "outputs": [],
   "source": [
    "# import matplotlib.pyplot as plt\n",
    "# import seaborn as sns\n",
    "# import numpy as np\n",
    "\n",
    "# # Assuming `raw_df` is your dataframe and `numerical` is a list of numerical column names\n",
    "# fig, axes = plt.subplots(nrows=num_rows_numerical, ncols=num_cols, figsize=(15, 5 * num_rows_numerical))\n",
    "\n",
    "# # Flatten the axes array to make it easier to iterate over\n",
    "# axes = axes.flatten()\n",
    "\n",
    "# # Create box plots for each selected feature\n",
    "# for i, feature in enumerate(numerical):\n",
    "#     sns.boxplot(raw_df[feature], color='blue', ax=axes[i])\n",
    "#     axes[i].set_title(f'{feature} Distribution')\n",
    "#     axes[i].set_xlabel(f'Amount Spent on {feature}')\n",
    "#     axes[i].set_ylabel('Amount')\n",
    "\n",
    "# # Remove any extra subplots if there are fewer features than subplots\n",
    "# for j in range(i + 1, num_rows_numerical * num_cols):\n",
    "#     fig.delaxes(axes[j])\n",
    "\n",
    "# # Adjust layout\n",
    "# plt.tight_layout()\n",
    "# plt.show()\n"
   ]
  },
  {
   "cell_type": "markdown",
   "id": "4e9239b1905c1de8",
   "metadata": {
    "collapsed": false
   },
   "source": [
    "## Drop Absurd data"
   ]
  },
  {
   "cell_type": "code",
   "execution_count": 15,
   "id": "2baee6a5aae720df",
   "metadata": {
    "collapsed": false,
    "ExecuteTime": {
     "end_time": "2024-06-22T18:05:05.056850Z",
     "start_time": "2024-06-22T18:05:04.988393Z"
    }
   },
   "outputs": [],
   "source": [
    "raw_df.drop(columns=['LDLC', 'HDLC', 'RANDID'], inplace=True)"
   ]
  },
  {
   "cell_type": "code",
   "execution_count": 16,
   "id": "9d24527dcd898b97",
   "metadata": {
    "collapsed": false,
    "ExecuteTime": {
     "end_time": "2024-06-22T18:05:05.068626Z",
     "start_time": "2024-06-22T18:05:04.990325Z"
    }
   },
   "outputs": [],
   "source": [
    "filtered_df = raw_df[(raw_df['CVD'] == 0) & ((raw_df['MI_FCHD'] == 1) |(raw_df['HOSPMI'] == 1)| (raw_df['ANYCHD'] == 1) | (raw_df['STROKE'] == 1) | (raw_df['ANGINA'] == 1))]\n",
    "\n",
    "indices_to_drop = filtered_df.index\n",
    "raw_df.drop(indices_to_drop, inplace=True)"
   ]
  },
  {
   "cell_type": "code",
   "execution_count": 17,
   "id": "ce50480e7d3b6689",
   "metadata": {
    "collapsed": false,
    "ExecuteTime": {
     "end_time": "2024-06-22T18:05:05.082422Z",
     "start_time": "2024-06-22T18:05:04.995963Z"
    }
   },
   "outputs": [],
   "source": [
    "raw_df.drop(columns=['TIMEHYP', 'TIMEDTH', 'TIMESTRK', 'TIMECHD', 'TIMEMI', 'TIME', 'TIMEAP','TIMECVD', 'TIMEMIFC', 'PERIOD'], inplace=True)"
   ]
  },
  {
   "cell_type": "code",
   "execution_count": 18,
   "id": "64ed2312e1cabbef",
   "metadata": {
    "collapsed": false,
    "ExecuteTime": {
     "end_time": "2024-06-22T18:05:05.082598Z",
     "start_time": "2024-06-22T18:05:04.998442Z"
    }
   },
   "outputs": [],
   "source": [
    "raw_df.drop(columns=['STROKE', 'ANYCHD', 'HOSPMI', 'MI_FCHD', 'DEATH'], inplace=True)"
   ]
  },
  {
   "cell_type": "markdown",
   "id": "1153ee26c897f526",
   "metadata": {
    "collapsed": false
   },
   "source": [
    "# Features Correlations"
   ]
  },
  {
   "cell_type": "code",
   "execution_count": 19,
   "id": "18e3b44cc368cc1f",
   "metadata": {
    "collapsed": false,
    "ExecuteTime": {
     "end_time": "2024-06-22T18:05:05.082687Z",
     "start_time": "2024-06-22T18:05:05.000790Z"
    }
   },
   "outputs": [],
   "source": [
    "# # Calculate correlations with 'Class_Mapped'\n",
    "# correlations = raw_df.corr()['CVD'].drop('CVD')\n",
    "\n",
    "# # Plotting the correlations with explicit hue assignment\n",
    "# plt.figure(figsize=(10, 6))\n",
    "# sns.barplot(x=correlations.index, y=correlations.values, hue=correlations.index, dodge=False, palette='viridis', legend=False)\n",
    "\n",
    "# plt.xlabel('Features')\n",
    "# plt.ylabel('Correlation with Class_Mapped')\n",
    "# plt.title('Correlation between Features and Class_Mapped')\n",
    "# plt.xticks(rotation=45)\n",
    "# plt.grid(True, axis='y', linestyle='--', alpha=0.7)\n",
    "\n",
    "# plt.tight_layout()\n",
    "# plt.show()"
   ]
  },
  {
   "cell_type": "code",
   "execution_count": 20,
   "id": "a2176545b43b2012",
   "metadata": {
    "collapsed": false,
    "ExecuteTime": {
     "end_time": "2024-06-22T18:05:05.099445Z",
     "start_time": "2024-06-22T18:05:05.002916Z"
    }
   },
   "outputs": [
    {
     "data": {
      "text/plain": "       SEX  TOTCHOL  AGE  SYSBP  DIABP  CURSMOKE  CIGPDAY   BMI  DIABETES  \\\n0        1   195.00   39 106.00  70.00         0     0.00 26.97         0   \n1        1   209.00   52 121.00  66.00         0     0.00 25.48         0   \n2        2   250.00   46 121.00  81.00         0     0.00 28.73         0   \n3        2   260.00   52 105.00  69.50         0     0.00 29.43         0   \n4        2   237.00   58 108.00  66.00         0     0.00 28.50         0   \n...    ...      ...  ...    ...    ...       ...      ...   ...       ...   \n11621    1   185.00   40 141.00  98.00         0     0.00 25.60         0   \n11623    1   153.00   52 143.00  89.00         0     0.00 25.74         0   \n11624    2   196.00   39 133.00  86.00         1    30.00 20.91         0   \n11625    2   240.00   46 138.00  79.00         1    20.00 26.39         0   \n11626    2   238.00   50 147.00  96.00         1    10.00 24.19         0   \n\n       BPMEDS  ...  GLUCOSE  educ  PREVCHD  PREVAP  PREVMI  PREVSTRK  PREVHYP  \\\n0        0.00  ...    77.00  4.00        0       0       0         0        0   \n1        0.00  ...    92.00  4.00        0       0       0         0        0   \n2        0.00  ...    76.00  2.00        0       0       0         0        0   \n3        0.00  ...    86.00  2.00        0       0       0         0        0   \n4        0.00  ...    71.00  2.00        0       0       0         0        0   \n...       ...  ...      ...   ...      ...     ...     ...       ...      ...   \n11621    0.00  ...    72.00  3.00        0       0       0         0        1   \n11623    0.00  ...    72.00  3.00        0       0       0         0        1   \n11624    0.00  ...    80.00  3.00        0       0       0         0        0   \n11625    0.00  ...    83.00  3.00        0       0       0         0        0   \n11626    0.00  ...    80.00  3.00        0       0       0         0        1   \n\n       ANGINA  CVD  HYPERTEN  \n0           0    1         0  \n1           0    1         0  \n2           0    0         0  \n3           0    0         0  \n4           0    0         0  \n...       ...  ...       ...  \n11621       0    0         1  \n11623       0    0         1  \n11624       0    0         1  \n11625       0    0         1  \n11626       0    0         1  \n\n[10115 rows x 21 columns]",
      "text/html": "<div>\n<style scoped>\n    .dataframe tbody tr th:only-of-type {\n        vertical-align: middle;\n    }\n\n    .dataframe tbody tr th {\n        vertical-align: top;\n    }\n\n    .dataframe thead th {\n        text-align: right;\n    }\n</style>\n<table border=\"1\" class=\"dataframe\">\n  <thead>\n    <tr style=\"text-align: right;\">\n      <th></th>\n      <th>SEX</th>\n      <th>TOTCHOL</th>\n      <th>AGE</th>\n      <th>SYSBP</th>\n      <th>DIABP</th>\n      <th>CURSMOKE</th>\n      <th>CIGPDAY</th>\n      <th>BMI</th>\n      <th>DIABETES</th>\n      <th>BPMEDS</th>\n      <th>...</th>\n      <th>GLUCOSE</th>\n      <th>educ</th>\n      <th>PREVCHD</th>\n      <th>PREVAP</th>\n      <th>PREVMI</th>\n      <th>PREVSTRK</th>\n      <th>PREVHYP</th>\n      <th>ANGINA</th>\n      <th>CVD</th>\n      <th>HYPERTEN</th>\n    </tr>\n  </thead>\n  <tbody>\n    <tr>\n      <th>0</th>\n      <td>1</td>\n      <td>195.00</td>\n      <td>39</td>\n      <td>106.00</td>\n      <td>70.00</td>\n      <td>0</td>\n      <td>0.00</td>\n      <td>26.97</td>\n      <td>0</td>\n      <td>0.00</td>\n      <td>...</td>\n      <td>77.00</td>\n      <td>4.00</td>\n      <td>0</td>\n      <td>0</td>\n      <td>0</td>\n      <td>0</td>\n      <td>0</td>\n      <td>0</td>\n      <td>1</td>\n      <td>0</td>\n    </tr>\n    <tr>\n      <th>1</th>\n      <td>1</td>\n      <td>209.00</td>\n      <td>52</td>\n      <td>121.00</td>\n      <td>66.00</td>\n      <td>0</td>\n      <td>0.00</td>\n      <td>25.48</td>\n      <td>0</td>\n      <td>0.00</td>\n      <td>...</td>\n      <td>92.00</td>\n      <td>4.00</td>\n      <td>0</td>\n      <td>0</td>\n      <td>0</td>\n      <td>0</td>\n      <td>0</td>\n      <td>0</td>\n      <td>1</td>\n      <td>0</td>\n    </tr>\n    <tr>\n      <th>2</th>\n      <td>2</td>\n      <td>250.00</td>\n      <td>46</td>\n      <td>121.00</td>\n      <td>81.00</td>\n      <td>0</td>\n      <td>0.00</td>\n      <td>28.73</td>\n      <td>0</td>\n      <td>0.00</td>\n      <td>...</td>\n      <td>76.00</td>\n      <td>2.00</td>\n      <td>0</td>\n      <td>0</td>\n      <td>0</td>\n      <td>0</td>\n      <td>0</td>\n      <td>0</td>\n      <td>0</td>\n      <td>0</td>\n    </tr>\n    <tr>\n      <th>3</th>\n      <td>2</td>\n      <td>260.00</td>\n      <td>52</td>\n      <td>105.00</td>\n      <td>69.50</td>\n      <td>0</td>\n      <td>0.00</td>\n      <td>29.43</td>\n      <td>0</td>\n      <td>0.00</td>\n      <td>...</td>\n      <td>86.00</td>\n      <td>2.00</td>\n      <td>0</td>\n      <td>0</td>\n      <td>0</td>\n      <td>0</td>\n      <td>0</td>\n      <td>0</td>\n      <td>0</td>\n      <td>0</td>\n    </tr>\n    <tr>\n      <th>4</th>\n      <td>2</td>\n      <td>237.00</td>\n      <td>58</td>\n      <td>108.00</td>\n      <td>66.00</td>\n      <td>0</td>\n      <td>0.00</td>\n      <td>28.50</td>\n      <td>0</td>\n      <td>0.00</td>\n      <td>...</td>\n      <td>71.00</td>\n      <td>2.00</td>\n      <td>0</td>\n      <td>0</td>\n      <td>0</td>\n      <td>0</td>\n      <td>0</td>\n      <td>0</td>\n      <td>0</td>\n      <td>0</td>\n    </tr>\n    <tr>\n      <th>...</th>\n      <td>...</td>\n      <td>...</td>\n      <td>...</td>\n      <td>...</td>\n      <td>...</td>\n      <td>...</td>\n      <td>...</td>\n      <td>...</td>\n      <td>...</td>\n      <td>...</td>\n      <td>...</td>\n      <td>...</td>\n      <td>...</td>\n      <td>...</td>\n      <td>...</td>\n      <td>...</td>\n      <td>...</td>\n      <td>...</td>\n      <td>...</td>\n      <td>...</td>\n      <td>...</td>\n    </tr>\n    <tr>\n      <th>11621</th>\n      <td>1</td>\n      <td>185.00</td>\n      <td>40</td>\n      <td>141.00</td>\n      <td>98.00</td>\n      <td>0</td>\n      <td>0.00</td>\n      <td>25.60</td>\n      <td>0</td>\n      <td>0.00</td>\n      <td>...</td>\n      <td>72.00</td>\n      <td>3.00</td>\n      <td>0</td>\n      <td>0</td>\n      <td>0</td>\n      <td>0</td>\n      <td>1</td>\n      <td>0</td>\n      <td>0</td>\n      <td>1</td>\n    </tr>\n    <tr>\n      <th>11623</th>\n      <td>1</td>\n      <td>153.00</td>\n      <td>52</td>\n      <td>143.00</td>\n      <td>89.00</td>\n      <td>0</td>\n      <td>0.00</td>\n      <td>25.74</td>\n      <td>0</td>\n      <td>0.00</td>\n      <td>...</td>\n      <td>72.00</td>\n      <td>3.00</td>\n      <td>0</td>\n      <td>0</td>\n      <td>0</td>\n      <td>0</td>\n      <td>1</td>\n      <td>0</td>\n      <td>0</td>\n      <td>1</td>\n    </tr>\n    <tr>\n      <th>11624</th>\n      <td>2</td>\n      <td>196.00</td>\n      <td>39</td>\n      <td>133.00</td>\n      <td>86.00</td>\n      <td>1</td>\n      <td>30.00</td>\n      <td>20.91</td>\n      <td>0</td>\n      <td>0.00</td>\n      <td>...</td>\n      <td>80.00</td>\n      <td>3.00</td>\n      <td>0</td>\n      <td>0</td>\n      <td>0</td>\n      <td>0</td>\n      <td>0</td>\n      <td>0</td>\n      <td>0</td>\n      <td>1</td>\n    </tr>\n    <tr>\n      <th>11625</th>\n      <td>2</td>\n      <td>240.00</td>\n      <td>46</td>\n      <td>138.00</td>\n      <td>79.00</td>\n      <td>1</td>\n      <td>20.00</td>\n      <td>26.39</td>\n      <td>0</td>\n      <td>0.00</td>\n      <td>...</td>\n      <td>83.00</td>\n      <td>3.00</td>\n      <td>0</td>\n      <td>0</td>\n      <td>0</td>\n      <td>0</td>\n      <td>0</td>\n      <td>0</td>\n      <td>0</td>\n      <td>1</td>\n    </tr>\n    <tr>\n      <th>11626</th>\n      <td>2</td>\n      <td>238.00</td>\n      <td>50</td>\n      <td>147.00</td>\n      <td>96.00</td>\n      <td>1</td>\n      <td>10.00</td>\n      <td>24.19</td>\n      <td>0</td>\n      <td>0.00</td>\n      <td>...</td>\n      <td>80.00</td>\n      <td>3.00</td>\n      <td>0</td>\n      <td>0</td>\n      <td>0</td>\n      <td>0</td>\n      <td>1</td>\n      <td>0</td>\n      <td>0</td>\n      <td>1</td>\n    </tr>\n  </tbody>\n</table>\n<p>10115 rows × 21 columns</p>\n</div>"
     },
     "execution_count": 20,
     "metadata": {},
     "output_type": "execute_result"
    }
   ],
   "source": [
    "raw_df"
   ]
  },
  {
   "cell_type": "markdown",
   "id": "8ed3a5316b762bd1",
   "metadata": {
    "collapsed": false
   },
   "source": [
    "# Split"
   ]
  },
  {
   "cell_type": "code",
   "execution_count": 21,
   "id": "fe9941de0a574b9e",
   "metadata": {
    "collapsed": false,
    "ExecuteTime": {
     "end_time": "2024-06-22T18:05:05.099604Z",
     "start_time": "2024-06-22T18:05:05.009475Z"
    }
   },
   "outputs": [],
   "source": [
    "def split_data(X, y, test_size, random_state=42):\n",
    "    return train_test_split(X, y, test_size=test_size, random_state=random_state)"
   ]
  },
  {
   "cell_type": "markdown",
   "id": "c8547ac2",
   "metadata": {},
   "source": [
    "# Imbalance"
   ]
  },
  {
   "cell_type": "code",
   "execution_count": 22,
   "id": "568f78ed",
   "metadata": {
    "ExecuteTime": {
     "end_time": "2024-06-22T18:05:05.125947Z",
     "start_time": "2024-06-22T18:05:05.012617Z"
    }
   },
   "outputs": [],
   "source": [
    "from imblearn.over_sampling import SMOTE\n",
    "\n",
    "def oversample(df):\n",
    "    X_sample = df.drop(columns=['CVD'])\n",
    "    y_sample = df['CVD']\n",
    "    smote = SMOTE(random_state=42)\n",
    "    X_resampled, y_resampled = smote.fit_resample(X_sample, y_sample)\n",
    "    oversampled_df = pd.DataFrame(X_resampled, columns=X_sample.columns)\n",
    "    oversampled_df['CVD'] = y_resampled\n",
    "    return oversampled_df.sample(frac=1, random_state=42).reset_index(drop=True)\n",
    "\n",
    "def undersample(df):\n",
    "    minority_class = df[df['CVD'] == 1]\n",
    "    majority_class = df[df['CVD'] == 0]\n",
    "    \n",
    "    # Determine the size of the minority class\n",
    "    n_minority = len(minority_class)\n",
    "    \n",
    "    # Sample from the majority class to match the size of the minority class\n",
    "    majority_class_undersampled = majority_class.sample(n=n_minority, random_state=42)\n",
    "    \n",
    "    # Concatenate minority and undersampled majority classes\n",
    "    undersampled_df = pd.concat([minority_class, majority_class_undersampled])\n",
    "    \n",
    "    return undersampled_df.sample(frac=1, random_state=42).reset_index(drop=True)"
   ]
  },
  {
   "cell_type": "markdown",
   "id": "56fec7faa73300c8",
   "metadata": {
    "collapsed": false
   },
   "source": [
    "# Standardize"
   ]
  },
  {
   "cell_type": "code",
   "execution_count": 23,
   "id": "ed9c03e9135f7666",
   "metadata": {
    "collapsed": false,
    "ExecuteTime": {
     "end_time": "2024-06-22T18:05:05.128125Z",
     "start_time": "2024-06-22T18:05:05.032893Z"
    }
   },
   "outputs": [],
   "source": [
    "def scale_data(X_train, X_test):\n",
    "    scaler = StandardScaler()\n",
    "    X_train_scaled = scaler.fit_transform(X_train)\n",
    "    X_test_scaled = scaler.transform(X_test)\n",
    "    return X_train_scaled, X_test_scaled"
   ]
  },
  {
   "cell_type": "markdown",
   "id": "89e41ec9",
   "metadata": {},
   "source": [
    "# Classifier"
   ]
  },
  {
   "cell_type": "code",
   "execution_count": 24,
   "id": "a6b9bc63",
   "metadata": {
    "ExecuteTime": {
     "end_time": "2024-06-22T18:05:05.128304Z",
     "start_time": "2024-06-22T18:05:05.038547Z"
    }
   },
   "outputs": [],
   "source": [
    "def train_classifier(classifier, X_train, y_train):\n",
    "    if classifier == 'dt':\n",
    "        clf = DecisionTreeClassifier()\n",
    "    elif classifier == 'rf':\n",
    "        clf = RandomForestClassifier()\n",
    "    elif classifier == 'svm':\n",
    "        clf = SVC()\n",
    "    elif classifier == 'knn':\n",
    "        clf = KNeighborsClassifier()\n",
    "    elif classifier == 'xgb':\n",
    "        clf = XGBClassifier()\n",
    "    else:\n",
    "        raise ValueError(f\"Classifier '{classifier}' not supported.\")\n",
    "    \n",
    "    clf.fit(X_train, y_train)\n",
    "    return clf"
   ]
  },
  {
   "cell_type": "code",
   "execution_count": 25,
   "id": "91026d17",
   "metadata": {
    "ExecuteTime": {
     "end_time": "2024-06-22T18:05:05.128389Z",
     "start_time": "2024-06-22T18:05:05.041009Z"
    }
   },
   "outputs": [],
   "source": [
    "def run_experiment(df, balance_method, test_size, classifier):\n",
    "    if balance_method == 'oversample':\n",
    "        df = oversample(df)\n",
    "    elif balance_method == 'undersample':\n",
    "        df = undersample(df)\n",
    "    \n",
    "    X = df.drop(columns=['CVD'])\n",
    "    y = df['CVD']\n",
    "    \n",
    "    # Split the data\n",
    "    X_train, X_test, y_train, y_test = split_data(X, y, test_size)\n",
    "    \n",
    "    # Scale the data\n",
    "    X_train, X_test = scale_data(X_train, X_test)\n",
    "    \n",
    "     # Train classifier based on the classifier parameter\n",
    "    clf = train_classifier(classifier, X_train, y_train)\n",
    "    \n",
    "    y_pred = clf.predict(X_test)\n",
    "    \n",
    "    # Get the classification report as a dict\n",
    "    report = classification_report(y_test, y_pred, output_dict=True)\n",
    "    conf_matrix = confusion_matrix(y_test, y_pred)\n",
    "    \n",
    "    return report, conf_matrix"
   ]
  },
  {
   "cell_type": "code",
   "execution_count": 26,
   "id": "a83e73e195f6b1ca",
   "metadata": {
    "collapsed": false,
    "ExecuteTime": {
     "end_time": "2024-06-22T18:06:53.316367Z",
     "start_time": "2024-06-22T18:05:05.047401Z"
    }
   },
   "outputs": [
    {
     "data": {
      "text/plain": "                     scenario  accuracy  0-precision  0-recall  0-f1-score  \\\n0      dt_imbalance_split_10%    0.7925       0.8720    0.8416      0.8566   \n1      dt_imbalance_split_20%    0.7800       0.8576    0.8373      0.8473   \n2      dt_imbalance_split_30%    0.7703       0.8553    0.8257      0.8402   \n3     dt_oversample_split_10%    0.8181       0.8340    0.8005      0.8169   \n4     dt_oversample_split_20%    0.8136       0.8174    0.8080      0.8127   \n5     dt_oversample_split_30%    0.8027       0.8068    0.7944      0.8005   \n6    dt_undersample_split_10%    0.7078       0.7200    0.7021      0.7110   \n7    dt_undersample_split_20%    0.7375       0.7342    0.7514      0.7427   \n8    dt_undersample_split_30%    0.7268       0.7326    0.7212      0.7268   \n9      rf_imbalance_split_10%    0.8626       0.8523    0.9839      0.9134   \n10     rf_imbalance_split_20%    0.8552       0.8452    0.9810      0.9081   \n11     rf_imbalance_split_30%    0.8534       0.8436    0.9815      0.9073   \n12    rf_oversample_split_10%    0.8873       0.8729    0.9103      0.8912   \n13    rf_oversample_split_20%    0.8876       0.8694    0.9125      0.8904   \n14    rf_oversample_split_30%    0.8697       0.8563    0.8874      0.8716   \n15   rf_undersample_split_10%    0.7623       0.7412    0.8227      0.7798   \n16   rf_undersample_split_20%    0.7748       0.7488    0.8324      0.7884   \n17   rf_undersample_split_30%    0.7820       0.7516    0.8474      0.7966   \n18    knn_imbalance_split_10%    0.8488       0.8619    0.9463      0.9021   \n19    knn_imbalance_split_20%    0.8512       0.8562    0.9566      0.9036   \n20    knn_imbalance_split_30%    0.8409       0.8498    0.9505      0.8973   \n21   knn_oversample_split_10%    0.7997       0.8363    0.7523      0.7921   \n22   knn_oversample_split_20%    0.7994       0.8244    0.7612      0.7915   \n23   knn_oversample_split_30%    0.7805       0.8032    0.7413      0.7710   \n24  knn_undersample_split_10%    0.7495       0.7308    0.8085      0.7677   \n25  knn_undersample_split_20%    0.7566       0.7333    0.8126      0.7709   \n26  knn_undersample_split_30%    0.7559       0.7370    0.8017      0.7680   \n27    xgb_imbalance_split_10%    0.8429       0.8556    0.9463      0.8987   \n28    xgb_imbalance_split_20%    0.8522       0.8521    0.9647      0.9049   \n29    xgb_imbalance_split_30%    0.8349       0.8428    0.9518      0.8940   \n30   xgb_oversample_split_10%    0.8934       0.8642    0.9371      0.8992   \n31   xgb_oversample_split_20%    0.8758       0.8445    0.9213      0.8812   \n32   xgb_oversample_split_30%    0.8740       0.8378    0.9265      0.8799   \n33  xgb_undersample_split_10%    0.7623       0.7542    0.7943      0.7737   \n34  xgb_undersample_split_20%    0.7711       0.7488    0.8216      0.7835   \n35  xgb_undersample_split_30%    0.7686       0.7511    0.8089      0.7789   \n36    svm_imbalance_split_10%    0.8597       0.8462    0.9893      0.9121   \n37    svm_imbalance_split_20%    0.8562       0.8402    0.9912      0.9095   \n38    svm_imbalance_split_30%    0.8524       0.8382    0.9892      0.9074   \n39   svm_oversample_split_10%    0.8024       0.8089    0.7992      0.8040   \n40   svm_oversample_split_20%    0.7963       0.7993    0.7917      0.7955   \n41   svm_oversample_split_30%    0.7882       0.7870    0.7885      0.7878   \n42  svm_undersample_split_10%    0.7877       0.7378    0.9078      0.8140   \n43  svm_undersample_split_20%    0.7820       0.7273    0.9081      0.8077   \n44  svm_undersample_split_30%    0.7753       0.7280    0.8846      0.7987   \n\n    0-support  1-precision  1-recall  1-f1-score  1-support  \\\n0    745.0000       0.5973    0.6554      0.6250   267.0000   \n1   1475.0000       0.5883    0.6259      0.6065   548.0000   \n2   2220.0000       0.5661    0.6196      0.5917   815.0000   \n3    747.0000       0.8029    0.8361      0.8192   726.0000   \n4   1474.0000       0.8099    0.8193      0.8146  1472.0000   \n5   2203.0000       0.7987    0.8109      0.8047  2216.0000   \n6    282.0000       0.6957    0.7138      0.7046   269.0000   \n7    555.0000       0.7411    0.7234      0.7322   546.0000   \n8    832.0000       0.7212    0.7326      0.7268   819.0000   \n9    745.0000       0.9211    0.5243      0.6683   267.0000   \n10  1475.0000       0.9100    0.5164      0.6589   548.0000   \n11  2220.0000       0.9093    0.5043      0.6488   815.0000   \n12   747.0000       0.9035    0.8636      0.8831   726.0000   \n13  1474.0000       0.9078    0.8628      0.8847  1472.0000   \n14  2203.0000       0.8839    0.8520      0.8676  2216.0000   \n15   282.0000       0.7899    0.6989      0.7416   269.0000   \n16   555.0000       0.8079    0.7161      0.7592   546.0000   \n17   832.0000       0.8219    0.7155      0.7650   819.0000   \n18   745.0000       0.7938    0.5768      0.6681   267.0000   \n19  1475.0000       0.8293    0.5675      0.6739   548.0000   \n20  2220.0000       0.8007    0.5423      0.6467   815.0000   \n21   747.0000       0.7690    0.8485      0.8068   726.0000   \n22  1474.0000       0.7779    0.8376      0.8067  1472.0000   \n23  2203.0000       0.7611    0.8195      0.7892  2216.0000   \n24   282.0000       0.7741    0.6877      0.7283   269.0000   \n25   555.0000       0.7860    0.6996      0.7403   546.0000   \n26   832.0000       0.7788    0.7094      0.7425   819.0000   \n27   745.0000       0.7872    0.5543      0.6505   267.0000   \n28  1475.0000       0.8527    0.5493      0.6681   548.0000   \n29  2220.0000       0.7973    0.5166      0.6270   815.0000   \n30   747.0000       0.9291    0.8485      0.8870   726.0000   \n31  1474.0000       0.9133    0.8302      0.8698  1472.0000   \n32  2203.0000       0.9183    0.8218      0.8673  2216.0000   \n33   282.0000       0.7717    0.7286      0.7495   269.0000   \n34   555.0000       0.7988    0.7198      0.7572   546.0000   \n35   832.0000       0.7894    0.7277      0.7573   819.0000   \n36   745.0000       0.9433    0.4981      0.6520   267.0000   \n37  1475.0000       0.9541    0.4927      0.6498   548.0000   \n38  2220.0000       0.9422    0.4798      0.6358   815.0000   \n39   747.0000       0.7959    0.8058      0.8008   726.0000   \n40  1474.0000       0.7934    0.8010      0.7972  1472.0000   \n41  2203.0000       0.7893    0.7879      0.7886  2216.0000   \n42   282.0000       0.8725    0.6617      0.7526   269.0000   \n43   555.0000       0.8750    0.6538      0.7484   546.0000   \n44   832.0000       0.8500    0.6642      0.7457   819.0000   \n\n    macro avg-precision  macro avg-recall  macro avg-f1-score  \\\n0                0.7347            0.7485              0.7408   \n1                0.7230            0.7316              0.7269   \n2                0.7107            0.7227              0.7160   \n3                0.8185            0.8183              0.8181   \n4                0.8137            0.8136              0.8136   \n5                0.8027            0.8026              0.8026   \n6                0.7078            0.7079              0.7078   \n7                0.7376            0.7374              0.7374   \n8                0.7269            0.7269              0.7268   \n9                0.8867            0.7541              0.7908   \n10               0.8776            0.7487              0.7835   \n11               0.8764            0.7429              0.7781   \n12               0.8882            0.8870              0.8872   \n13               0.8886            0.8876              0.8876   \n14               0.8701            0.8697              0.8696   \n15               0.7656            0.7608              0.7607   \n16               0.7783            0.7743              0.7738   \n17               0.7867            0.7814              0.7808   \n18               0.8278            0.7615              0.7851   \n19               0.8428            0.7621              0.7888   \n20               0.8253            0.7464              0.7720   \n21               0.8027            0.8004              0.7995   \n22               0.8012            0.7994              0.7991   \n23               0.7822            0.7804              0.7801   \n24               0.7524            0.7481              0.7480   \n25               0.7597            0.7561              0.7556   \n26               0.7579            0.7555              0.7552   \n27               0.8214            0.7503              0.7746   \n28               0.8524            0.7570              0.7865   \n29               0.8201            0.7342              0.7605   \n30               0.8967            0.8928              0.8931   \n31               0.8789            0.8757              0.8755   \n32               0.8781            0.8741              0.8736   \n33               0.7629            0.7615              0.7616   \n34               0.7738            0.7707              0.7704   \n35               0.7703            0.7683              0.7681   \n36               0.8947            0.7437              0.7820   \n37               0.8971            0.7419              0.7797   \n38               0.8902            0.7345              0.7716   \n39               0.8024            0.8025              0.8024   \n40               0.7964            0.7963              0.7963   \n41               0.7882            0.7882              0.7882   \n42               0.8052            0.7848              0.7833   \n43               0.8011            0.7810              0.7781   \n44               0.7890            0.7744              0.7722   \n\n    macro avg-support  weighted avg-precision  weighted avg-recall  \\\n0           1012.0000                  0.7995               0.7925   \n1           2023.0000                  0.7847               0.7800   \n2           3035.0000                  0.7777               0.7703   \n3           1473.0000                  0.8187               0.8181   \n4           2946.0000                  0.8137               0.8136   \n5           4419.0000                  0.8027               0.8027   \n6            551.0000                  0.7081               0.7078   \n7           1101.0000                  0.7376               0.7375   \n8           1651.0000                  0.7269               0.7268   \n9           1012.0000                  0.8705               0.8626   \n10          2023.0000                  0.8628               0.8552   \n11          3035.0000                  0.8612               0.8534   \n12          1473.0000                  0.8880               0.8873   \n13          2946.0000                  0.8886               0.8876   \n14          4419.0000                  0.8702               0.8697   \n15           551.0000                  0.7650               0.7623   \n16          1101.0000                  0.7781               0.7748   \n17          1651.0000                  0.7865               0.7820   \n18          1012.0000                  0.8439               0.8488   \n19          2023.0000                  0.8489               0.8512   \n20          3035.0000                  0.8366               0.8409   \n21          1473.0000                  0.8032               0.7997   \n22          2946.0000                  0.8012               0.7994   \n23          4419.0000                  0.7821               0.7805   \n24           551.0000                  0.7519               0.7495   \n25          1101.0000                  0.7595               0.7566   \n26          1651.0000                  0.7578               0.7559   \n27          1012.0000                  0.8375               0.8429   \n28          2023.0000                  0.8523               0.8522   \n29          3035.0000                  0.8306               0.8349   \n30          1473.0000                  0.8962               0.8934   \n31          2946.0000                  0.8789               0.8758   \n32          4419.0000                  0.8782               0.8740   \n33           551.0000                  0.7627               0.7623   \n34          1101.0000                  0.7736               0.7711   \n35          1651.0000                  0.7701               0.7686   \n36          1012.0000                  0.8718               0.8597   \n37          2023.0000                  0.8711               0.8562   \n38          3035.0000                  0.8661               0.8524   \n39          1473.0000                  0.8025               0.8024   \n40          2946.0000                  0.7964               0.7963   \n41          4419.0000                  0.7882               0.7882   \n42           551.0000                  0.8036               0.7877   \n43          1101.0000                  0.8005               0.7820   \n44          1651.0000                  0.7885               0.7753   \n\n    weighted avg-f1-score  weighted avg-support  \n0                  0.7955             1012.0000  \n1                  0.7821             2023.0000  \n2                  0.7735             3035.0000  \n3                  0.8180             1473.0000  \n4                  0.8136             2946.0000  \n5                  0.8027             4419.0000  \n6                  0.7078              551.0000  \n7                  0.7374             1101.0000  \n8                  0.7268             1651.0000  \n9                  0.8487             1012.0000  \n10                 0.8406             2023.0000  \n11                 0.8379             3035.0000  \n12                 0.8872             1473.0000  \n13                 0.8876             2946.0000  \n14                 0.8696             4419.0000  \n15                 0.7612              551.0000  \n16                 0.7739             1101.0000  \n17                 0.7809             1651.0000  \n18                 0.8404             1012.0000  \n19                 0.8414             2023.0000  \n20                 0.8300             3035.0000  \n21                 0.7994             1473.0000  \n22                 0.7991             2946.0000  \n23                 0.7801             4419.0000  \n24                 0.7485              551.0000  \n25                 0.7558             1101.0000  \n26                 0.7553             1651.0000  \n27                 0.8332             1012.0000  \n28                 0.8408             2023.0000  \n29                 0.8223             3035.0000  \n30                 0.8932             1473.0000  \n31                 0.8755             2946.0000  \n32                 0.8736             4419.0000  \n33                 0.7619              551.0000  \n34                 0.7705             1101.0000  \n35                 0.7682             1651.0000  \n36                 0.8435             1012.0000  \n37                 0.8391             2023.0000  \n38                 0.8345             3035.0000  \n39                 0.8025             1473.0000  \n40                 0.7963             2946.0000  \n41                 0.7882             4419.0000  \n42                 0.7840              551.0000  \n43                 0.7783             1101.0000  \n44                 0.7724             1651.0000  ",
      "text/html": "<div>\n<style scoped>\n    .dataframe tbody tr th:only-of-type {\n        vertical-align: middle;\n    }\n\n    .dataframe tbody tr th {\n        vertical-align: top;\n    }\n\n    .dataframe thead th {\n        text-align: right;\n    }\n</style>\n<table border=\"1\" class=\"dataframe\">\n  <thead>\n    <tr style=\"text-align: right;\">\n      <th></th>\n      <th>scenario</th>\n      <th>accuracy</th>\n      <th>0-precision</th>\n      <th>0-recall</th>\n      <th>0-f1-score</th>\n      <th>0-support</th>\n      <th>1-precision</th>\n      <th>1-recall</th>\n      <th>1-f1-score</th>\n      <th>1-support</th>\n      <th>macro avg-precision</th>\n      <th>macro avg-recall</th>\n      <th>macro avg-f1-score</th>\n      <th>macro avg-support</th>\n      <th>weighted avg-precision</th>\n      <th>weighted avg-recall</th>\n      <th>weighted avg-f1-score</th>\n      <th>weighted avg-support</th>\n    </tr>\n  </thead>\n  <tbody>\n    <tr>\n      <th>0</th>\n      <td>dt_imbalance_split_10%</td>\n      <td>0.7925</td>\n      <td>0.8720</td>\n      <td>0.8416</td>\n      <td>0.8566</td>\n      <td>745.0000</td>\n      <td>0.5973</td>\n      <td>0.6554</td>\n      <td>0.6250</td>\n      <td>267.0000</td>\n      <td>0.7347</td>\n      <td>0.7485</td>\n      <td>0.7408</td>\n      <td>1012.0000</td>\n      <td>0.7995</td>\n      <td>0.7925</td>\n      <td>0.7955</td>\n      <td>1012.0000</td>\n    </tr>\n    <tr>\n      <th>1</th>\n      <td>dt_imbalance_split_20%</td>\n      <td>0.7800</td>\n      <td>0.8576</td>\n      <td>0.8373</td>\n      <td>0.8473</td>\n      <td>1475.0000</td>\n      <td>0.5883</td>\n      <td>0.6259</td>\n      <td>0.6065</td>\n      <td>548.0000</td>\n      <td>0.7230</td>\n      <td>0.7316</td>\n      <td>0.7269</td>\n      <td>2023.0000</td>\n      <td>0.7847</td>\n      <td>0.7800</td>\n      <td>0.7821</td>\n      <td>2023.0000</td>\n    </tr>\n    <tr>\n      <th>2</th>\n      <td>dt_imbalance_split_30%</td>\n      <td>0.7703</td>\n      <td>0.8553</td>\n      <td>0.8257</td>\n      <td>0.8402</td>\n      <td>2220.0000</td>\n      <td>0.5661</td>\n      <td>0.6196</td>\n      <td>0.5917</td>\n      <td>815.0000</td>\n      <td>0.7107</td>\n      <td>0.7227</td>\n      <td>0.7160</td>\n      <td>3035.0000</td>\n      <td>0.7777</td>\n      <td>0.7703</td>\n      <td>0.7735</td>\n      <td>3035.0000</td>\n    </tr>\n    <tr>\n      <th>3</th>\n      <td>dt_oversample_split_10%</td>\n      <td>0.8181</td>\n      <td>0.8340</td>\n      <td>0.8005</td>\n      <td>0.8169</td>\n      <td>747.0000</td>\n      <td>0.8029</td>\n      <td>0.8361</td>\n      <td>0.8192</td>\n      <td>726.0000</td>\n      <td>0.8185</td>\n      <td>0.8183</td>\n      <td>0.8181</td>\n      <td>1473.0000</td>\n      <td>0.8187</td>\n      <td>0.8181</td>\n      <td>0.8180</td>\n      <td>1473.0000</td>\n    </tr>\n    <tr>\n      <th>4</th>\n      <td>dt_oversample_split_20%</td>\n      <td>0.8136</td>\n      <td>0.8174</td>\n      <td>0.8080</td>\n      <td>0.8127</td>\n      <td>1474.0000</td>\n      <td>0.8099</td>\n      <td>0.8193</td>\n      <td>0.8146</td>\n      <td>1472.0000</td>\n      <td>0.8137</td>\n      <td>0.8136</td>\n      <td>0.8136</td>\n      <td>2946.0000</td>\n      <td>0.8137</td>\n      <td>0.8136</td>\n      <td>0.8136</td>\n      <td>2946.0000</td>\n    </tr>\n    <tr>\n      <th>5</th>\n      <td>dt_oversample_split_30%</td>\n      <td>0.8027</td>\n      <td>0.8068</td>\n      <td>0.7944</td>\n      <td>0.8005</td>\n      <td>2203.0000</td>\n      <td>0.7987</td>\n      <td>0.8109</td>\n      <td>0.8047</td>\n      <td>2216.0000</td>\n      <td>0.8027</td>\n      <td>0.8026</td>\n      <td>0.8026</td>\n      <td>4419.0000</td>\n      <td>0.8027</td>\n      <td>0.8027</td>\n      <td>0.8027</td>\n      <td>4419.0000</td>\n    </tr>\n    <tr>\n      <th>6</th>\n      <td>dt_undersample_split_10%</td>\n      <td>0.7078</td>\n      <td>0.7200</td>\n      <td>0.7021</td>\n      <td>0.7110</td>\n      <td>282.0000</td>\n      <td>0.6957</td>\n      <td>0.7138</td>\n      <td>0.7046</td>\n      <td>269.0000</td>\n      <td>0.7078</td>\n      <td>0.7079</td>\n      <td>0.7078</td>\n      <td>551.0000</td>\n      <td>0.7081</td>\n      <td>0.7078</td>\n      <td>0.7078</td>\n      <td>551.0000</td>\n    </tr>\n    <tr>\n      <th>7</th>\n      <td>dt_undersample_split_20%</td>\n      <td>0.7375</td>\n      <td>0.7342</td>\n      <td>0.7514</td>\n      <td>0.7427</td>\n      <td>555.0000</td>\n      <td>0.7411</td>\n      <td>0.7234</td>\n      <td>0.7322</td>\n      <td>546.0000</td>\n      <td>0.7376</td>\n      <td>0.7374</td>\n      <td>0.7374</td>\n      <td>1101.0000</td>\n      <td>0.7376</td>\n      <td>0.7375</td>\n      <td>0.7374</td>\n      <td>1101.0000</td>\n    </tr>\n    <tr>\n      <th>8</th>\n      <td>dt_undersample_split_30%</td>\n      <td>0.7268</td>\n      <td>0.7326</td>\n      <td>0.7212</td>\n      <td>0.7268</td>\n      <td>832.0000</td>\n      <td>0.7212</td>\n      <td>0.7326</td>\n      <td>0.7268</td>\n      <td>819.0000</td>\n      <td>0.7269</td>\n      <td>0.7269</td>\n      <td>0.7268</td>\n      <td>1651.0000</td>\n      <td>0.7269</td>\n      <td>0.7268</td>\n      <td>0.7268</td>\n      <td>1651.0000</td>\n    </tr>\n    <tr>\n      <th>9</th>\n      <td>rf_imbalance_split_10%</td>\n      <td>0.8626</td>\n      <td>0.8523</td>\n      <td>0.9839</td>\n      <td>0.9134</td>\n      <td>745.0000</td>\n      <td>0.9211</td>\n      <td>0.5243</td>\n      <td>0.6683</td>\n      <td>267.0000</td>\n      <td>0.8867</td>\n      <td>0.7541</td>\n      <td>0.7908</td>\n      <td>1012.0000</td>\n      <td>0.8705</td>\n      <td>0.8626</td>\n      <td>0.8487</td>\n      <td>1012.0000</td>\n    </tr>\n    <tr>\n      <th>10</th>\n      <td>rf_imbalance_split_20%</td>\n      <td>0.8552</td>\n      <td>0.8452</td>\n      <td>0.9810</td>\n      <td>0.9081</td>\n      <td>1475.0000</td>\n      <td>0.9100</td>\n      <td>0.5164</td>\n      <td>0.6589</td>\n      <td>548.0000</td>\n      <td>0.8776</td>\n      <td>0.7487</td>\n      <td>0.7835</td>\n      <td>2023.0000</td>\n      <td>0.8628</td>\n      <td>0.8552</td>\n      <td>0.8406</td>\n      <td>2023.0000</td>\n    </tr>\n    <tr>\n      <th>11</th>\n      <td>rf_imbalance_split_30%</td>\n      <td>0.8534</td>\n      <td>0.8436</td>\n      <td>0.9815</td>\n      <td>0.9073</td>\n      <td>2220.0000</td>\n      <td>0.9093</td>\n      <td>0.5043</td>\n      <td>0.6488</td>\n      <td>815.0000</td>\n      <td>0.8764</td>\n      <td>0.7429</td>\n      <td>0.7781</td>\n      <td>3035.0000</td>\n      <td>0.8612</td>\n      <td>0.8534</td>\n      <td>0.8379</td>\n      <td>3035.0000</td>\n    </tr>\n    <tr>\n      <th>12</th>\n      <td>rf_oversample_split_10%</td>\n      <td>0.8873</td>\n      <td>0.8729</td>\n      <td>0.9103</td>\n      <td>0.8912</td>\n      <td>747.0000</td>\n      <td>0.9035</td>\n      <td>0.8636</td>\n      <td>0.8831</td>\n      <td>726.0000</td>\n      <td>0.8882</td>\n      <td>0.8870</td>\n      <td>0.8872</td>\n      <td>1473.0000</td>\n      <td>0.8880</td>\n      <td>0.8873</td>\n      <td>0.8872</td>\n      <td>1473.0000</td>\n    </tr>\n    <tr>\n      <th>13</th>\n      <td>rf_oversample_split_20%</td>\n      <td>0.8876</td>\n      <td>0.8694</td>\n      <td>0.9125</td>\n      <td>0.8904</td>\n      <td>1474.0000</td>\n      <td>0.9078</td>\n      <td>0.8628</td>\n      <td>0.8847</td>\n      <td>1472.0000</td>\n      <td>0.8886</td>\n      <td>0.8876</td>\n      <td>0.8876</td>\n      <td>2946.0000</td>\n      <td>0.8886</td>\n      <td>0.8876</td>\n      <td>0.8876</td>\n      <td>2946.0000</td>\n    </tr>\n    <tr>\n      <th>14</th>\n      <td>rf_oversample_split_30%</td>\n      <td>0.8697</td>\n      <td>0.8563</td>\n      <td>0.8874</td>\n      <td>0.8716</td>\n      <td>2203.0000</td>\n      <td>0.8839</td>\n      <td>0.8520</td>\n      <td>0.8676</td>\n      <td>2216.0000</td>\n      <td>0.8701</td>\n      <td>0.8697</td>\n      <td>0.8696</td>\n      <td>4419.0000</td>\n      <td>0.8702</td>\n      <td>0.8697</td>\n      <td>0.8696</td>\n      <td>4419.0000</td>\n    </tr>\n    <tr>\n      <th>15</th>\n      <td>rf_undersample_split_10%</td>\n      <td>0.7623</td>\n      <td>0.7412</td>\n      <td>0.8227</td>\n      <td>0.7798</td>\n      <td>282.0000</td>\n      <td>0.7899</td>\n      <td>0.6989</td>\n      <td>0.7416</td>\n      <td>269.0000</td>\n      <td>0.7656</td>\n      <td>0.7608</td>\n      <td>0.7607</td>\n      <td>551.0000</td>\n      <td>0.7650</td>\n      <td>0.7623</td>\n      <td>0.7612</td>\n      <td>551.0000</td>\n    </tr>\n    <tr>\n      <th>16</th>\n      <td>rf_undersample_split_20%</td>\n      <td>0.7748</td>\n      <td>0.7488</td>\n      <td>0.8324</td>\n      <td>0.7884</td>\n      <td>555.0000</td>\n      <td>0.8079</td>\n      <td>0.7161</td>\n      <td>0.7592</td>\n      <td>546.0000</td>\n      <td>0.7783</td>\n      <td>0.7743</td>\n      <td>0.7738</td>\n      <td>1101.0000</td>\n      <td>0.7781</td>\n      <td>0.7748</td>\n      <td>0.7739</td>\n      <td>1101.0000</td>\n    </tr>\n    <tr>\n      <th>17</th>\n      <td>rf_undersample_split_30%</td>\n      <td>0.7820</td>\n      <td>0.7516</td>\n      <td>0.8474</td>\n      <td>0.7966</td>\n      <td>832.0000</td>\n      <td>0.8219</td>\n      <td>0.7155</td>\n      <td>0.7650</td>\n      <td>819.0000</td>\n      <td>0.7867</td>\n      <td>0.7814</td>\n      <td>0.7808</td>\n      <td>1651.0000</td>\n      <td>0.7865</td>\n      <td>0.7820</td>\n      <td>0.7809</td>\n      <td>1651.0000</td>\n    </tr>\n    <tr>\n      <th>18</th>\n      <td>knn_imbalance_split_10%</td>\n      <td>0.8488</td>\n      <td>0.8619</td>\n      <td>0.9463</td>\n      <td>0.9021</td>\n      <td>745.0000</td>\n      <td>0.7938</td>\n      <td>0.5768</td>\n      <td>0.6681</td>\n      <td>267.0000</td>\n      <td>0.8278</td>\n      <td>0.7615</td>\n      <td>0.7851</td>\n      <td>1012.0000</td>\n      <td>0.8439</td>\n      <td>0.8488</td>\n      <td>0.8404</td>\n      <td>1012.0000</td>\n    </tr>\n    <tr>\n      <th>19</th>\n      <td>knn_imbalance_split_20%</td>\n      <td>0.8512</td>\n      <td>0.8562</td>\n      <td>0.9566</td>\n      <td>0.9036</td>\n      <td>1475.0000</td>\n      <td>0.8293</td>\n      <td>0.5675</td>\n      <td>0.6739</td>\n      <td>548.0000</td>\n      <td>0.8428</td>\n      <td>0.7621</td>\n      <td>0.7888</td>\n      <td>2023.0000</td>\n      <td>0.8489</td>\n      <td>0.8512</td>\n      <td>0.8414</td>\n      <td>2023.0000</td>\n    </tr>\n    <tr>\n      <th>20</th>\n      <td>knn_imbalance_split_30%</td>\n      <td>0.8409</td>\n      <td>0.8498</td>\n      <td>0.9505</td>\n      <td>0.8973</td>\n      <td>2220.0000</td>\n      <td>0.8007</td>\n      <td>0.5423</td>\n      <td>0.6467</td>\n      <td>815.0000</td>\n      <td>0.8253</td>\n      <td>0.7464</td>\n      <td>0.7720</td>\n      <td>3035.0000</td>\n      <td>0.8366</td>\n      <td>0.8409</td>\n      <td>0.8300</td>\n      <td>3035.0000</td>\n    </tr>\n    <tr>\n      <th>21</th>\n      <td>knn_oversample_split_10%</td>\n      <td>0.7997</td>\n      <td>0.8363</td>\n      <td>0.7523</td>\n      <td>0.7921</td>\n      <td>747.0000</td>\n      <td>0.7690</td>\n      <td>0.8485</td>\n      <td>0.8068</td>\n      <td>726.0000</td>\n      <td>0.8027</td>\n      <td>0.8004</td>\n      <td>0.7995</td>\n      <td>1473.0000</td>\n      <td>0.8032</td>\n      <td>0.7997</td>\n      <td>0.7994</td>\n      <td>1473.0000</td>\n    </tr>\n    <tr>\n      <th>22</th>\n      <td>knn_oversample_split_20%</td>\n      <td>0.7994</td>\n      <td>0.8244</td>\n      <td>0.7612</td>\n      <td>0.7915</td>\n      <td>1474.0000</td>\n      <td>0.7779</td>\n      <td>0.8376</td>\n      <td>0.8067</td>\n      <td>1472.0000</td>\n      <td>0.8012</td>\n      <td>0.7994</td>\n      <td>0.7991</td>\n      <td>2946.0000</td>\n      <td>0.8012</td>\n      <td>0.7994</td>\n      <td>0.7991</td>\n      <td>2946.0000</td>\n    </tr>\n    <tr>\n      <th>23</th>\n      <td>knn_oversample_split_30%</td>\n      <td>0.7805</td>\n      <td>0.8032</td>\n      <td>0.7413</td>\n      <td>0.7710</td>\n      <td>2203.0000</td>\n      <td>0.7611</td>\n      <td>0.8195</td>\n      <td>0.7892</td>\n      <td>2216.0000</td>\n      <td>0.7822</td>\n      <td>0.7804</td>\n      <td>0.7801</td>\n      <td>4419.0000</td>\n      <td>0.7821</td>\n      <td>0.7805</td>\n      <td>0.7801</td>\n      <td>4419.0000</td>\n    </tr>\n    <tr>\n      <th>24</th>\n      <td>knn_undersample_split_10%</td>\n      <td>0.7495</td>\n      <td>0.7308</td>\n      <td>0.8085</td>\n      <td>0.7677</td>\n      <td>282.0000</td>\n      <td>0.7741</td>\n      <td>0.6877</td>\n      <td>0.7283</td>\n      <td>269.0000</td>\n      <td>0.7524</td>\n      <td>0.7481</td>\n      <td>0.7480</td>\n      <td>551.0000</td>\n      <td>0.7519</td>\n      <td>0.7495</td>\n      <td>0.7485</td>\n      <td>551.0000</td>\n    </tr>\n    <tr>\n      <th>25</th>\n      <td>knn_undersample_split_20%</td>\n      <td>0.7566</td>\n      <td>0.7333</td>\n      <td>0.8126</td>\n      <td>0.7709</td>\n      <td>555.0000</td>\n      <td>0.7860</td>\n      <td>0.6996</td>\n      <td>0.7403</td>\n      <td>546.0000</td>\n      <td>0.7597</td>\n      <td>0.7561</td>\n      <td>0.7556</td>\n      <td>1101.0000</td>\n      <td>0.7595</td>\n      <td>0.7566</td>\n      <td>0.7558</td>\n      <td>1101.0000</td>\n    </tr>\n    <tr>\n      <th>26</th>\n      <td>knn_undersample_split_30%</td>\n      <td>0.7559</td>\n      <td>0.7370</td>\n      <td>0.8017</td>\n      <td>0.7680</td>\n      <td>832.0000</td>\n      <td>0.7788</td>\n      <td>0.7094</td>\n      <td>0.7425</td>\n      <td>819.0000</td>\n      <td>0.7579</td>\n      <td>0.7555</td>\n      <td>0.7552</td>\n      <td>1651.0000</td>\n      <td>0.7578</td>\n      <td>0.7559</td>\n      <td>0.7553</td>\n      <td>1651.0000</td>\n    </tr>\n    <tr>\n      <th>27</th>\n      <td>xgb_imbalance_split_10%</td>\n      <td>0.8429</td>\n      <td>0.8556</td>\n      <td>0.9463</td>\n      <td>0.8987</td>\n      <td>745.0000</td>\n      <td>0.7872</td>\n      <td>0.5543</td>\n      <td>0.6505</td>\n      <td>267.0000</td>\n      <td>0.8214</td>\n      <td>0.7503</td>\n      <td>0.7746</td>\n      <td>1012.0000</td>\n      <td>0.8375</td>\n      <td>0.8429</td>\n      <td>0.8332</td>\n      <td>1012.0000</td>\n    </tr>\n    <tr>\n      <th>28</th>\n      <td>xgb_imbalance_split_20%</td>\n      <td>0.8522</td>\n      <td>0.8521</td>\n      <td>0.9647</td>\n      <td>0.9049</td>\n      <td>1475.0000</td>\n      <td>0.8527</td>\n      <td>0.5493</td>\n      <td>0.6681</td>\n      <td>548.0000</td>\n      <td>0.8524</td>\n      <td>0.7570</td>\n      <td>0.7865</td>\n      <td>2023.0000</td>\n      <td>0.8523</td>\n      <td>0.8522</td>\n      <td>0.8408</td>\n      <td>2023.0000</td>\n    </tr>\n    <tr>\n      <th>29</th>\n      <td>xgb_imbalance_split_30%</td>\n      <td>0.8349</td>\n      <td>0.8428</td>\n      <td>0.9518</td>\n      <td>0.8940</td>\n      <td>2220.0000</td>\n      <td>0.7973</td>\n      <td>0.5166</td>\n      <td>0.6270</td>\n      <td>815.0000</td>\n      <td>0.8201</td>\n      <td>0.7342</td>\n      <td>0.7605</td>\n      <td>3035.0000</td>\n      <td>0.8306</td>\n      <td>0.8349</td>\n      <td>0.8223</td>\n      <td>3035.0000</td>\n    </tr>\n    <tr>\n      <th>30</th>\n      <td>xgb_oversample_split_10%</td>\n      <td>0.8934</td>\n      <td>0.8642</td>\n      <td>0.9371</td>\n      <td>0.8992</td>\n      <td>747.0000</td>\n      <td>0.9291</td>\n      <td>0.8485</td>\n      <td>0.8870</td>\n      <td>726.0000</td>\n      <td>0.8967</td>\n      <td>0.8928</td>\n      <td>0.8931</td>\n      <td>1473.0000</td>\n      <td>0.8962</td>\n      <td>0.8934</td>\n      <td>0.8932</td>\n      <td>1473.0000</td>\n    </tr>\n    <tr>\n      <th>31</th>\n      <td>xgb_oversample_split_20%</td>\n      <td>0.8758</td>\n      <td>0.8445</td>\n      <td>0.9213</td>\n      <td>0.8812</td>\n      <td>1474.0000</td>\n      <td>0.9133</td>\n      <td>0.8302</td>\n      <td>0.8698</td>\n      <td>1472.0000</td>\n      <td>0.8789</td>\n      <td>0.8757</td>\n      <td>0.8755</td>\n      <td>2946.0000</td>\n      <td>0.8789</td>\n      <td>0.8758</td>\n      <td>0.8755</td>\n      <td>2946.0000</td>\n    </tr>\n    <tr>\n      <th>32</th>\n      <td>xgb_oversample_split_30%</td>\n      <td>0.8740</td>\n      <td>0.8378</td>\n      <td>0.9265</td>\n      <td>0.8799</td>\n      <td>2203.0000</td>\n      <td>0.9183</td>\n      <td>0.8218</td>\n      <td>0.8673</td>\n      <td>2216.0000</td>\n      <td>0.8781</td>\n      <td>0.8741</td>\n      <td>0.8736</td>\n      <td>4419.0000</td>\n      <td>0.8782</td>\n      <td>0.8740</td>\n      <td>0.8736</td>\n      <td>4419.0000</td>\n    </tr>\n    <tr>\n      <th>33</th>\n      <td>xgb_undersample_split_10%</td>\n      <td>0.7623</td>\n      <td>0.7542</td>\n      <td>0.7943</td>\n      <td>0.7737</td>\n      <td>282.0000</td>\n      <td>0.7717</td>\n      <td>0.7286</td>\n      <td>0.7495</td>\n      <td>269.0000</td>\n      <td>0.7629</td>\n      <td>0.7615</td>\n      <td>0.7616</td>\n      <td>551.0000</td>\n      <td>0.7627</td>\n      <td>0.7623</td>\n      <td>0.7619</td>\n      <td>551.0000</td>\n    </tr>\n    <tr>\n      <th>34</th>\n      <td>xgb_undersample_split_20%</td>\n      <td>0.7711</td>\n      <td>0.7488</td>\n      <td>0.8216</td>\n      <td>0.7835</td>\n      <td>555.0000</td>\n      <td>0.7988</td>\n      <td>0.7198</td>\n      <td>0.7572</td>\n      <td>546.0000</td>\n      <td>0.7738</td>\n      <td>0.7707</td>\n      <td>0.7704</td>\n      <td>1101.0000</td>\n      <td>0.7736</td>\n      <td>0.7711</td>\n      <td>0.7705</td>\n      <td>1101.0000</td>\n    </tr>\n    <tr>\n      <th>35</th>\n      <td>xgb_undersample_split_30%</td>\n      <td>0.7686</td>\n      <td>0.7511</td>\n      <td>0.8089</td>\n      <td>0.7789</td>\n      <td>832.0000</td>\n      <td>0.7894</td>\n      <td>0.7277</td>\n      <td>0.7573</td>\n      <td>819.0000</td>\n      <td>0.7703</td>\n      <td>0.7683</td>\n      <td>0.7681</td>\n      <td>1651.0000</td>\n      <td>0.7701</td>\n      <td>0.7686</td>\n      <td>0.7682</td>\n      <td>1651.0000</td>\n    </tr>\n    <tr>\n      <th>36</th>\n      <td>svm_imbalance_split_10%</td>\n      <td>0.8597</td>\n      <td>0.8462</td>\n      <td>0.9893</td>\n      <td>0.9121</td>\n      <td>745.0000</td>\n      <td>0.9433</td>\n      <td>0.4981</td>\n      <td>0.6520</td>\n      <td>267.0000</td>\n      <td>0.8947</td>\n      <td>0.7437</td>\n      <td>0.7820</td>\n      <td>1012.0000</td>\n      <td>0.8718</td>\n      <td>0.8597</td>\n      <td>0.8435</td>\n      <td>1012.0000</td>\n    </tr>\n    <tr>\n      <th>37</th>\n      <td>svm_imbalance_split_20%</td>\n      <td>0.8562</td>\n      <td>0.8402</td>\n      <td>0.9912</td>\n      <td>0.9095</td>\n      <td>1475.0000</td>\n      <td>0.9541</td>\n      <td>0.4927</td>\n      <td>0.6498</td>\n      <td>548.0000</td>\n      <td>0.8971</td>\n      <td>0.7419</td>\n      <td>0.7797</td>\n      <td>2023.0000</td>\n      <td>0.8711</td>\n      <td>0.8562</td>\n      <td>0.8391</td>\n      <td>2023.0000</td>\n    </tr>\n    <tr>\n      <th>38</th>\n      <td>svm_imbalance_split_30%</td>\n      <td>0.8524</td>\n      <td>0.8382</td>\n      <td>0.9892</td>\n      <td>0.9074</td>\n      <td>2220.0000</td>\n      <td>0.9422</td>\n      <td>0.4798</td>\n      <td>0.6358</td>\n      <td>815.0000</td>\n      <td>0.8902</td>\n      <td>0.7345</td>\n      <td>0.7716</td>\n      <td>3035.0000</td>\n      <td>0.8661</td>\n      <td>0.8524</td>\n      <td>0.8345</td>\n      <td>3035.0000</td>\n    </tr>\n    <tr>\n      <th>39</th>\n      <td>svm_oversample_split_10%</td>\n      <td>0.8024</td>\n      <td>0.8089</td>\n      <td>0.7992</td>\n      <td>0.8040</td>\n      <td>747.0000</td>\n      <td>0.7959</td>\n      <td>0.8058</td>\n      <td>0.8008</td>\n      <td>726.0000</td>\n      <td>0.8024</td>\n      <td>0.8025</td>\n      <td>0.8024</td>\n      <td>1473.0000</td>\n      <td>0.8025</td>\n      <td>0.8024</td>\n      <td>0.8025</td>\n      <td>1473.0000</td>\n    </tr>\n    <tr>\n      <th>40</th>\n      <td>svm_oversample_split_20%</td>\n      <td>0.7963</td>\n      <td>0.7993</td>\n      <td>0.7917</td>\n      <td>0.7955</td>\n      <td>1474.0000</td>\n      <td>0.7934</td>\n      <td>0.8010</td>\n      <td>0.7972</td>\n      <td>1472.0000</td>\n      <td>0.7964</td>\n      <td>0.7963</td>\n      <td>0.7963</td>\n      <td>2946.0000</td>\n      <td>0.7964</td>\n      <td>0.7963</td>\n      <td>0.7963</td>\n      <td>2946.0000</td>\n    </tr>\n    <tr>\n      <th>41</th>\n      <td>svm_oversample_split_30%</td>\n      <td>0.7882</td>\n      <td>0.7870</td>\n      <td>0.7885</td>\n      <td>0.7878</td>\n      <td>2203.0000</td>\n      <td>0.7893</td>\n      <td>0.7879</td>\n      <td>0.7886</td>\n      <td>2216.0000</td>\n      <td>0.7882</td>\n      <td>0.7882</td>\n      <td>0.7882</td>\n      <td>4419.0000</td>\n      <td>0.7882</td>\n      <td>0.7882</td>\n      <td>0.7882</td>\n      <td>4419.0000</td>\n    </tr>\n    <tr>\n      <th>42</th>\n      <td>svm_undersample_split_10%</td>\n      <td>0.7877</td>\n      <td>0.7378</td>\n      <td>0.9078</td>\n      <td>0.8140</td>\n      <td>282.0000</td>\n      <td>0.8725</td>\n      <td>0.6617</td>\n      <td>0.7526</td>\n      <td>269.0000</td>\n      <td>0.8052</td>\n      <td>0.7848</td>\n      <td>0.7833</td>\n      <td>551.0000</td>\n      <td>0.8036</td>\n      <td>0.7877</td>\n      <td>0.7840</td>\n      <td>551.0000</td>\n    </tr>\n    <tr>\n      <th>43</th>\n      <td>svm_undersample_split_20%</td>\n      <td>0.7820</td>\n      <td>0.7273</td>\n      <td>0.9081</td>\n      <td>0.8077</td>\n      <td>555.0000</td>\n      <td>0.8750</td>\n      <td>0.6538</td>\n      <td>0.7484</td>\n      <td>546.0000</td>\n      <td>0.8011</td>\n      <td>0.7810</td>\n      <td>0.7781</td>\n      <td>1101.0000</td>\n      <td>0.8005</td>\n      <td>0.7820</td>\n      <td>0.7783</td>\n      <td>1101.0000</td>\n    </tr>\n    <tr>\n      <th>44</th>\n      <td>svm_undersample_split_30%</td>\n      <td>0.7753</td>\n      <td>0.7280</td>\n      <td>0.8846</td>\n      <td>0.7987</td>\n      <td>832.0000</td>\n      <td>0.8500</td>\n      <td>0.6642</td>\n      <td>0.7457</td>\n      <td>819.0000</td>\n      <td>0.7890</td>\n      <td>0.7744</td>\n      <td>0.7722</td>\n      <td>1651.0000</td>\n      <td>0.7885</td>\n      <td>0.7753</td>\n      <td>0.7724</td>\n      <td>1651.0000</td>\n    </tr>\n  </tbody>\n</table>\n</div>"
     },
     "execution_count": 26,
     "metadata": {},
     "output_type": "execute_result"
    }
   ],
   "source": [
    "# Define the scenarios\n",
    "scenarios = [\n",
    "   ('dt','imbalance', 0.1),\n",
    "    ('dt','imbalance', 0.2),\n",
    "    ('dt','imbalance', 0.3),\n",
    "    ('dt','oversample', 0.1),\n",
    "    ('dt','oversample', 0.2),\n",
    "    ('dt','oversample', 0.3),\n",
    "    ('dt','undersample', 0.1),\n",
    "    ('dt','undersample', 0.2),\n",
    "    ('dt','undersample', 0.3),\n",
    "    ('rf','imbalance', 0.1),\n",
    "    ('rf','imbalance', 0.2),\n",
    "    ('rf','imbalance', 0.3),\n",
    "    ('rf','oversample', 0.1),\n",
    "    ('rf','oversample', 0.2),\n",
    "    ('rf','oversample', 0.3),\n",
    "    ('rf','undersample', 0.1),\n",
    "    ('rf','undersample', 0.2),\n",
    "    ('rf','undersample', 0.3),\n",
    "    ('knn','imbalance', 0.1),\n",
    "    ('knn','imbalance', 0.2),\n",
    "    ('knn','imbalance', 0.3),\n",
    "    ('knn','oversample', 0.1),\n",
    "    ('knn','oversample', 0.2),\n",
    "    ('knn','oversample', 0.3),\n",
    "    ('knn','undersample', 0.1),\n",
    "    ('knn','undersample', 0.2),\n",
    "    ('knn','undersample', 0.3),\n",
    "    ('xgb','imbalance', 0.1),\n",
    "    ('xgb','imbalance', 0.2),\n",
    "    ('xgb','imbalance', 0.3),\n",
    "    ('xgb','oversample', 0.1),\n",
    "    ('xgb','oversample', 0.2),\n",
    "    ('xgb','oversample', 0.3),\n",
    "    ('xgb','undersample', 0.1),\n",
    "    ('xgb','undersample', 0.2),\n",
    "    ('xgb','undersample', 0.3),\n",
    "    ('svm','imbalance', 0.1),\n",
    "    ('svm','imbalance', 0.2),\n",
    "    ('svm','imbalance', 0.3),\n",
    "    ('svm','oversample', 0.1),\n",
    "    ('svm','oversample', 0.2),\n",
    "    ('svm','oversample', 0.3),\n",
    "    ('svm','undersample', 0.1),\n",
    "    ('svm','undersample', 0.2),\n",
    "    ('svm','undersample', 0.3),\n",
    "]\n",
    "\n",
    "# Create an empty dataframe to store the results\n",
    "results_df = pd.DataFrame()\n",
    "\n",
    "# Loop through each scenario\n",
    "for classifier, balance_method, test_size in scenarios:\n",
    "    # Run the experiment\n",
    "    report, conf_matrix = run_experiment(raw_df, balance_method, test_size, classifier)\n",
    "    \n",
    "    # Flatten the classification report dict\n",
    "    report_flat = {}\n",
    "\n",
    "     # Add the scenario details\n",
    "    report_flat['scenario'] = f'{classifier}_{balance_method}_split_{int(test_size*100)}%'\n",
    "\n",
    "    for key_outer, value_outer in report.items():\n",
    "        if isinstance(value_outer, dict):\n",
    "            for key_inner, value_inner in value_outer.items():\n",
    "                report_flat[f'{key_outer}-{key_inner}'] = value_inner\n",
    "        else:\n",
    "            report_flat[key_outer] = value_outer\n",
    "    \n",
    "   \n",
    "    \n",
    "    # Append the result to the dataframe\n",
    "    # results_df = results_df.append(report_flat, ignore_index=True)\n",
    "    results_df = pd.concat([results_df, pd.DataFrame([report_flat])], ignore_index=True)\n",
    "\n",
    "\n",
    "    # Print and plot the confusion matrix\n",
    "    # print(f\"\\nConfusion Matrix for {balance_method} with test size {test_size*100}%:\")\n",
    "    # print(conf_matrix)\n",
    "    # plt.figure(figsize=(8, 6))\n",
    "    # sns.heatmap(conf_matrix, annot=True, fmt='d', cmap='Blues', cbar=False,\n",
    "    #             xticklabels=['No CVD', 'CVD'], yticklabels=['No CVD', 'CVD'])\n",
    "    # plt.xlabel('Predicted')\n",
    "    # plt.ylabel('Actual')\n",
    "    # plt.title(f'Confusion Matrix: {balance_method} - Test Size {int(test_size*100)}%')\n",
    "    # plt.show()\n",
    "    \n",
    "# Set precision for float display\n",
    "pd.options.display.float_format = '{:.4f}'.format\n",
    "\n",
    "desired_columns = [\n",
    "    'scenario', 'accuracy',\n",
    "    '0-precision', '0-recall', '0-f1-score', '0-support',\n",
    "    '1-precision', '1-recall', '1-f1-score', '1-support',\n",
    "    'macro avg-precision', 'macro avg-recall', 'macro avg-f1-score', 'macro avg-support',\n",
    "    'weighted avg-precision', 'weighted avg-recall', 'weighted avg-f1-score', 'weighted avg-support'\n",
    "]\n",
    "\n",
    "# Reorder columns in results_df\n",
    "results_df = results_df[desired_columns]\n",
    "\n",
    "results_df\n"
   ]
  },
  {
   "cell_type": "code",
   "execution_count": 26,
   "outputs": [],
   "source": [],
   "metadata": {
    "collapsed": false,
    "ExecuteTime": {
     "end_time": "2024-06-22T18:06:53.317311Z",
     "start_time": "2024-06-22T18:06:53.315437Z"
    }
   },
   "id": "d4cf2b0267bfbc23"
  }
 ],
 "metadata": {
  "kernelspec": {
   "display_name": "Python 3",
   "language": "python",
   "name": "python3"
  },
  "language_info": {
   "codemirror_mode": {
    "name": "ipython",
    "version": 3
   },
   "file_extension": ".py",
   "mimetype": "text/x-python",
   "name": "python",
   "nbconvert_exporter": "python",
   "pygments_lexer": "ipython3",
   "version": "3.11.4"
  }
 },
 "nbformat": 4,
 "nbformat_minor": 5
}
